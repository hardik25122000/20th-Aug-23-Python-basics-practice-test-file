{
  "nbformat": 4,
  "nbformat_minor": 0,
  "metadata": {
    "colab": {
      "provenance": []
    },
    "kernelspec": {
      "name": "python3",
      "display_name": "Python 3"
    },
    "language_info": {
      "name": "python"
    }
  },
  "cells": [
    {
      "cell_type": "code",
      "execution_count": null,
      "metadata": {
        "id": "om8pnj6b1_fv"
      },
      "outputs": [],
      "source": [
        "  #1. Write a program to reverse a string"
      ]
    },
    {
      "cell_type": "code",
      "source": [
        "def reverse_string(x):\n",
        "  return x[::-1]\n",
        "\n",
        "x=input(\"enter a string:\")\n",
        "result=reverse_string(x)\n",
        "print(\"reversed_str:\",result)"
      ],
      "metadata": {
        "colab": {
          "base_uri": "https://localhost:8080/"
        },
        "id": "zm2Q3Rc08e4f",
        "outputId": "5dac8177-5728-4411-d467-5ad3bea78b9d"
      },
      "execution_count": null,
      "outputs": [
        {
          "output_type": "stream",
          "name": "stdout",
          "text": [
            "enter a string:hardik\n",
            "reversed_str: kidrah\n"
          ]
        }
      ]
    },
    {
      "cell_type": "code",
      "source": [
        "#2. Check if a string is a palindrome.\n"
      ],
      "metadata": {
        "id": "dh5b4gfJ-WBL"
      },
      "execution_count": null,
      "outputs": []
    },
    {
      "cell_type": "code",
      "source": [
        "def padindrome(y):\n",
        "  return y[::-1]\n",
        "\n",
        "y=input(\"enter a string:\")\n",
        "result=padindrome(y)\n",
        "if y==result:\n",
        "  print(\"yes string is a palidrome\")\n",
        "else:\n",
        "  print(\"no string is not a palidrome\")\n",
        "\n"
      ],
      "metadata": {
        "colab": {
          "base_uri": "https://localhost:8080/"
        },
        "id": "Uj4ZuMi8-6AZ",
        "outputId": "c975f0a1-4831-44c6-ae9a-bb537618d342"
      },
      "execution_count": null,
      "outputs": [
        {
          "output_type": "stream",
          "name": "stdout",
          "text": [
            "enter a string:level\n",
            "yes string is a palidrome\n"
          ]
        }
      ]
    },
    {
      "cell_type": "code",
      "source": [
        "#3. Convert a string to uppercase."
      ],
      "metadata": {
        "id": "0jn4xw30AkUz"
      },
      "execution_count": null,
      "outputs": []
    },
    {
      "cell_type": "code",
      "source": [
        "def uppercase(a):\n",
        "  return a.upper()\n",
        "\n",
        "a=input(\"enter a string: \")\n",
        "upper=uppercase(a)\n",
        "print(upper)"
      ],
      "metadata": {
        "colab": {
          "base_uri": "https://localhost:8080/"
        },
        "id": "t4BGAGE1AsnD",
        "outputId": "bd0f8bac-6086-49e7-d6fe-33beb7ab3a57"
      },
      "execution_count": null,
      "outputs": [
        {
          "output_type": "stream",
          "name": "stdout",
          "text": [
            "enter a string: tickle\n",
            "TICKLE\n"
          ]
        }
      ]
    },
    {
      "cell_type": "code",
      "source": [
        "#4. Convert a string to lowercase.\n"
      ],
      "metadata": {
        "id": "IOcTpb8wBMCU"
      },
      "execution_count": null,
      "outputs": []
    },
    {
      "cell_type": "code",
      "source": [
        "def lowercase(a):\n",
        "  return a.lower()\n",
        "\n",
        "a=input(\"enter a string: \")\n",
        "lower=lowercase(a)\n",
        "print(lower)"
      ],
      "metadata": {
        "colab": {
          "base_uri": "https://localhost:8080/"
        },
        "id": "Jm8GihnBB-gw",
        "outputId": "4da5a379-4dde-4434-8352-caa046649373"
      },
      "execution_count": null,
      "outputs": [
        {
          "output_type": "stream",
          "name": "stdout",
          "text": [
            "enter a string: GUY\n",
            "guy\n"
          ]
        }
      ]
    },
    {
      "cell_type": "code",
      "source": [
        "#5. Count the number of vowels in a string"
      ],
      "metadata": {
        "id": "rcaKmFHLCJ8W"
      },
      "execution_count": null,
      "outputs": []
    },
    {
      "cell_type": "code",
      "source": [
        "def countvowel(x):\n",
        "  vowel=\"AEIOUaeiou\"\n",
        "  count=0\n",
        "\n",
        "  for i in x:\n",
        "    if i in vowel:\n",
        "      count+=1\n",
        "  return count"
      ],
      "metadata": {
        "id": "7KLrC779CerK"
      },
      "execution_count": null,
      "outputs": []
    },
    {
      "cell_type": "code",
      "source": [
        "countvowel(\"my name is hardik\")"
      ],
      "metadata": {
        "colab": {
          "base_uri": "https://localhost:8080/"
        },
        "id": "imNXX80tKWZW",
        "outputId": "b776f7d8-637e-4895-f50f-9ef3183040e3"
      },
      "execution_count": null,
      "outputs": [
        {
          "output_type": "execute_result",
          "data": {
            "text/plain": [
              "5"
            ]
          },
          "metadata": {},
          "execution_count": 5
        }
      ]
    },
    {
      "cell_type": "code",
      "source": [
        "# Count the number of consonants in a string."
      ],
      "metadata": {
        "id": "pkIvo8PtISfb"
      },
      "execution_count": null,
      "outputs": []
    },
    {
      "cell_type": "code",
      "source": [
        "def countconstant(x):\n",
        "  notconstant=\"aeiouAEIOU \"\n",
        "  count=0\n",
        "\n",
        "  for i in x:\n",
        "    if i not in notconstant:\n",
        "      count+=1\n",
        "  return count"
      ],
      "metadata": {
        "id": "QwfYeL2zIU9K"
      },
      "execution_count": null,
      "outputs": []
    },
    {
      "cell_type": "code",
      "source": [
        "countconstant(\"my name is hardik\")"
      ],
      "metadata": {
        "colab": {
          "base_uri": "https://localhost:8080/"
        },
        "id": "HnLGAnpALzZJ",
        "outputId": "85fa1780-611a-4f3f-85bf-39ef39c218e4"
      },
      "execution_count": null,
      "outputs": [
        {
          "output_type": "execute_result",
          "data": {
            "text/plain": [
              "9"
            ]
          },
          "metadata": {},
          "execution_count": 7
        }
      ]
    },
    {
      "cell_type": "code",
      "source": [
        "#Remove all whitespaces from a string."
      ],
      "metadata": {
        "id": "0x7egjhcL5YN"
      },
      "execution_count": null,
      "outputs": []
    },
    {
      "cell_type": "code",
      "source": [
        "def remove(x):\n"
      ],
      "metadata": {
        "id": "mRoRbZacMPPL"
      },
      "execution_count": null,
      "outputs": []
    },
    {
      "cell_type": "code",
      "source": [
        "#8. Find the length of a string without using the `len()` function.\n"
      ],
      "metadata": {
        "id": "j1K1rcb35C_k"
      },
      "execution_count": null,
      "outputs": []
    },
    {
      "cell_type": "code",
      "source": [
        "def lenght(x):\n",
        "  count=0\n",
        "\n",
        "  for i in x:\n",
        "    count+=1\n",
        "  return count"
      ],
      "metadata": {
        "id": "7TCzmrao5F-w"
      },
      "execution_count": null,
      "outputs": []
    },
    {
      "cell_type": "code",
      "source": [
        "lenght(\"chalo aaj sa serious padai chalu\")"
      ],
      "metadata": {
        "colab": {
          "base_uri": "https://localhost:8080/"
        },
        "id": "XZgi5tD65nW2",
        "outputId": "00e6d2a4-5830-493f-b32f-c1b0dac79014"
      },
      "execution_count": null,
      "outputs": [
        {
          "output_type": "execute_result",
          "data": {
            "text/plain": [
              "32"
            ]
          },
          "metadata": {},
          "execution_count": 3
        }
      ]
    },
    {
      "cell_type": "code",
      "source": [
        "#9. Check if a string contains a specific word.\n"
      ],
      "metadata": {
        "id": "djsMtW8h5uu6"
      },
      "execution_count": null,
      "outputs": []
    },
    {
      "cell_type": "code",
      "source": [
        "def find(x,y):\n",
        "  return y in x\n",
        "  if y in x:\n",
        "    print(\"yes string contains the word\")\n",
        "  else:\n",
        "    print(\"no string does not contains the word\")"
      ],
      "metadata": {
        "id": "ktNshq0s55Q1"
      },
      "execution_count": null,
      "outputs": []
    },
    {
      "cell_type": "code",
      "source": [
        "find(\"my name is hardik\",\"hardik\")"
      ],
      "metadata": {
        "colab": {
          "base_uri": "https://localhost:8080/"
        },
        "id": "vPRpzexR9U18",
        "outputId": "1ad93d8f-5779-42cf-b3e2-be3596586c6c"
      },
      "execution_count": null,
      "outputs": [
        {
          "output_type": "execute_result",
          "data": {
            "text/plain": [
              "True"
            ]
          },
          "metadata": {},
          "execution_count": 2
        }
      ]
    },
    {
      "cell_type": "code",
      "source": [
        "#Replace a word in a string with another word"
      ],
      "metadata": {
        "id": "YyocVAbl9iBg"
      },
      "execution_count": null,
      "outputs": []
    },
    {
      "cell_type": "code",
      "source": [
        "def replaced_word(x, y, z):\n",
        "    replace_str = x.replace(y, z)\n",
        "    return replace_str\n",
        "\n",
        "# Define the values of x, y, and z\n",
        "x = input(\"enter original string:\")\n",
        "y = input(\"word to be replaced:\")\n",
        "z = input(\"new word:\")\n",
        "\n",
        "result = replaced_word(x, y, z)\n",
        "print(result)\n",
        "\n"
      ],
      "metadata": {
        "colab": {
          "base_uri": "https://localhost:8080/"
        },
        "id": "_TBM_Oze7i4D",
        "outputId": "296d5a65-8ad3-4584-fa5e-d7cdfa8d6cce"
      },
      "execution_count": null,
      "outputs": [
        {
          "output_type": "stream",
          "name": "stdout",
          "text": [
            "enter original string:my name is hardik\n",
            "word to be replaced:hardik\n",
            "new word:kaka\n",
            "my name is kaka\n"
          ]
        }
      ]
    },
    {
      "cell_type": "code",
      "source": [
        "#. Count the occurrences of a word in a string.\n"
      ],
      "metadata": {
        "id": "DhrDG2Bm9l9n"
      },
      "execution_count": null,
      "outputs": []
    },
    {
      "cell_type": "code",
      "source": [
        "def count_word(x, y):\n",
        "    return x.lower().count(y.lower())\n",
        "\n",
        "# Taking user input for original string and word to be counted\n",
        "x = input(\"Enter the original string: \")\n",
        "y = input(\"Enter the word to be counted: \")\n",
        "\n",
        "result = count_word(x, y)\n",
        "print(f\"The word '{y}' appears {result} times in the string.\")\n"
      ],
      "metadata": {
        "colab": {
          "base_uri": "https://localhost:8080/"
        },
        "id": "C_8ZZklcASBm",
        "outputId": "a837669f-048d-49b8-e909-d046f464d2f7"
      },
      "execution_count": null,
      "outputs": [
        {
          "output_type": "stream",
          "name": "stdout",
          "text": [
            "Enter the original string: This is a sample sentence. This sentence is a sample\n",
            "Enter the word to be counted: sample\n",
            "The word 'sample' appears 2 times in the string.\n"
          ]
        }
      ]
    },
    {
      "cell_type": "code",
      "source": [
        "#Find the first occurrence of a word in a string\n"
      ],
      "metadata": {
        "id": "4-cRhTwJDRGY"
      },
      "execution_count": null,
      "outputs": []
    },
    {
      "cell_type": "code",
      "source": [
        "def first_occurrence(x,y):\n",
        "  index=x.lower().find(y.lower())\n",
        "  if index != -1:\n",
        "    return f\"the word is in {index} index\"\n",
        "  else:\n",
        "    return f\"the word is not found\"\n",
        "\n",
        "x=input(\"Enter the original string: \")\n",
        "y=input(\"word to be found: \")\n",
        "\n",
        "result=first_occurrence(x,y)\n",
        "print(result)"
      ],
      "metadata": {
        "id": "j42jPxUwFcDu",
        "colab": {
          "base_uri": "https://localhost:8080/"
        },
        "outputId": "05a25515-f3b4-446c-ed6c-24e53cda9095"
      },
      "execution_count": null,
      "outputs": [
        {
          "output_type": "stream",
          "name": "stdout",
          "text": [
            "Enter the original string: This is a sample sentence. This sentence is a sample\n",
            "word to be found: sample\n",
            "the word is in 10 index\n"
          ]
        }
      ]
    },
    {
      "cell_type": "code",
      "source": [
        "#Find the last occurrence of a word in a string"
      ],
      "metadata": {
        "id": "QavfDrMwgJkL"
      },
      "execution_count": null,
      "outputs": []
    },
    {
      "cell_type": "code",
      "source": [
        "def last_occerrence(x,y):\n",
        "  index=x.lower().rfind(y.lower())\n",
        "\n",
        "  if index != -1:\n",
        "    return f\"the word is in {index} index\"\n",
        "  else:\n",
        "    return f\"the word is not in string\"\n",
        "x=input(\"Enter the original string: \")\n",
        "y=input(\"word to be found: \")\n",
        "\n",
        "result=last_occerrence(x,y)\n",
        "print(result)\n",
        "\n"
      ],
      "metadata": {
        "colab": {
          "base_uri": "https://localhost:8080/"
        },
        "id": "j1SKz-dBhwtE",
        "outputId": "0b9837ea-ea0c-4c5b-8331-6fbd53a7aa2c"
      },
      "execution_count": null,
      "outputs": [
        {
          "output_type": "stream",
          "name": "stdout",
          "text": [
            "Enter the original string: This is a sample sentence. This sentence is a sample\n",
            "word to be found: sample\n",
            "the word is in 46 index\n"
          ]
        }
      ]
    },
    {
      "cell_type": "code",
      "source": [
        "# Split a string into a list of words."
      ],
      "metadata": {
        "id": "Nd-jg7gcns1h"
      },
      "execution_count": null,
      "outputs": []
    },
    {
      "cell_type": "code",
      "source": [
        "x=\"my name is hardik lalwani\"\n",
        "y=x.split(' ')\n",
        "print(\"words after split:\",y)"
      ],
      "metadata": {
        "id": "4lmMgdwzn9ut",
        "colab": {
          "base_uri": "https://localhost:8080/"
        },
        "outputId": "283e3280-ac9f-45fc-e2c3-63926e32a821"
      },
      "execution_count": null,
      "outputs": [
        {
          "output_type": "stream",
          "name": "stdout",
          "text": [
            "words after split: ['my', 'name', 'is', 'hardik', 'lalwani']\n"
          ]
        }
      ]
    },
    {
      "cell_type": "code",
      "source": [
        "#Join a list of words into a string.\n"
      ],
      "metadata": {
        "id": "gXYsL6prrsS6"
      },
      "execution_count": null,
      "outputs": []
    },
    {
      "cell_type": "code",
      "source": [
        "x= ['my', 'name', 'is', 'hardik', 'lalwani']\n",
        "y=' '.join(x)\n",
        "print(\"joined string:\",y)"
      ],
      "metadata": {
        "colab": {
          "base_uri": "https://localhost:8080/"
        },
        "id": "-DFbPSXks6H3",
        "outputId": "2937183e-c575-4b51-e4d6-3a9ee584bb3e"
      },
      "execution_count": null,
      "outputs": [
        {
          "output_type": "stream",
          "name": "stdout",
          "text": [
            "joined string: my name is hardik lalwani\n"
          ]
        }
      ]
    },
    {
      "cell_type": "code",
      "source": [
        "#. Convert a string where words are separated by spaces to one where words\n",
        "#are separated by underscores.\n"
      ],
      "metadata": {
        "id": "iA9PF_pTtqsN"
      },
      "execution_count": null,
      "outputs": []
    },
    {
      "cell_type": "code",
      "source": [
        "x=\"chalo ab chalta hai\"\n",
        "y=x.replace(' ','_')\n",
        "print(\"new string:\",y)"
      ],
      "metadata": {
        "colab": {
          "base_uri": "https://localhost:8080/"
        },
        "id": "d_kX6fpYt-hI",
        "outputId": "a2365299-2496-464e-b17d-88d652c4aba5"
      },
      "execution_count": null,
      "outputs": [
        {
          "output_type": "stream",
          "name": "stdout",
          "text": [
            "new string: chalo_ab_chalta_hai\n"
          ]
        }
      ]
    },
    {
      "cell_type": "code",
      "source": [
        "#Check if a string starts with a specific word or phrase.\n"
      ],
      "metadata": {
        "id": "16ki_7Ufu35x"
      },
      "execution_count": null,
      "outputs": []
    },
    {
      "cell_type": "code",
      "source": [
        "def check_first(x,y):\n",
        "  return x.lower().startswith(y.lower())\n",
        "\n",
        "\n",
        "x=input(\"input paragraph: \")\n",
        "y=input(\"input first word: \")\n",
        "result=check_first(x,y)\n",
        "if result:\n",
        "  print(\"the string starts with word which is \",y)\n",
        "else:\n",
        "  print(\"the string does not start with word same as \",y)\n"
      ],
      "metadata": {
        "colab": {
          "base_uri": "https://localhost:8080/"
        },
        "id": "jryXViTCvF3X",
        "outputId": "647432a4-93e1-46b8-e461-c17710f1f2b0"
      },
      "execution_count": null,
      "outputs": [
        {
          "output_type": "stream",
          "name": "stdout",
          "text": [
            "input paragraph: hum chalanga ssath saath\n",
            "input first word: hum\n",
            "the string starts with word which is  hum\n"
          ]
        }
      ]
    },
    {
      "cell_type": "code",
      "source": [
        "#Check if a string ends with a specific word or phrase"
      ],
      "metadata": {
        "id": "vEhEWbwGwyAQ"
      },
      "execution_count": null,
      "outputs": []
    },
    {
      "cell_type": "code",
      "source": [
        "def check_last(x,y):\n",
        "  return x.lower().endswith(y.lower())\n",
        "\n",
        "\n",
        "x=input(\"input paragraph: \")\n",
        "y=input(\"input last word: \")\n",
        "result=check_last(x,y)\n",
        "if result:\n",
        "  print(\"the string ends with word which is \",y)\n",
        "else:\n",
        "  print(\"the string does not ends with word same as \",y)"
      ],
      "metadata": {
        "colab": {
          "base_uri": "https://localhost:8080/"
        },
        "id": "CtEFy0sw1w7Z",
        "outputId": "27e83f5e-6a50-48a9-f850-c703be2861b4"
      },
      "execution_count": null,
      "outputs": [
        {
          "output_type": "stream",
          "name": "stdout",
          "text": [
            "input paragraph: ghoda paucha mandi\n",
            "input last word: mandi\n",
            "the string ends with word which is  mandi\n"
          ]
        }
      ]
    },
    {
      "cell_type": "code",
      "source": [
        "#Convert a string to title case (e.g., \"hello world\" to \"Hello World\")."
      ],
      "metadata": {
        "id": "6ZEic50i2CKB"
      },
      "execution_count": null,
      "outputs": []
    },
    {
      "cell_type": "code",
      "source": [
        "input_string = \"hello world\"\n",
        "title_case_string = input_string.title()\n",
        "\n",
        "print(title_case_string)\n"
      ],
      "metadata": {
        "colab": {
          "base_uri": "https://localhost:8080/"
        },
        "id": "j_39S1mzXOSc",
        "outputId": "e074ac6c-89be-451d-b012-9bbafa171c2d"
      },
      "execution_count": null,
      "outputs": [
        {
          "output_type": "stream",
          "name": "stdout",
          "text": [
            "Hello World\n"
          ]
        }
      ]
    },
    {
      "cell_type": "code",
      "source": [
        "#Find the longest word in a string"
      ],
      "metadata": {
        "id": "y-troRjAXYaO"
      },
      "execution_count": null,
      "outputs": []
    },
    {
      "cell_type": "code",
      "source": [
        "def find_longest_word(input_string):\n",
        "    words = input_string.split()\n",
        "    longest_word = max(words, key=len)\n",
        "    return longest_word\n",
        "\n",
        "input_string = \"This is a sample sentence with some long words\"\n",
        "result = find_longest_word(input_string)\n",
        "\n",
        "print(\"Longest word:\", result)\n"
      ],
      "metadata": {
        "colab": {
          "base_uri": "https://localhost:8080/"
        },
        "id": "ajfJ6oBxXd-W",
        "outputId": "31c5e321-3ba1-4299-db36-e7d5153df6db"
      },
      "execution_count": null,
      "outputs": [
        {
          "output_type": "stream",
          "name": "stdout",
          "text": [
            "Longest word: sentence\n"
          ]
        }
      ]
    },
    {
      "cell_type": "code",
      "source": [
        "# Find the shortest word in a string.\n"
      ],
      "metadata": {
        "id": "nhw6QImjXiUC"
      },
      "execution_count": null,
      "outputs": []
    },
    {
      "cell_type": "code",
      "source": [
        "def find_shortest_word(input_string):\n",
        "    words = input_string.split()\n",
        "    shortest_word = min(words, key=len)\n",
        "    return shortest_word\n",
        "\n",
        "input_string = \"This is a sample sentence with some short words\"\n",
        "result = find_shortest_word(input_string)\n",
        "\n",
        "print(\"Shortest word:\", result)\n"
      ],
      "metadata": {
        "colab": {
          "base_uri": "https://localhost:8080/"
        },
        "id": "icvdzaIkXmkc",
        "outputId": "4604b18a-b0a4-4992-d68a-df934df2423a"
      },
      "execution_count": null,
      "outputs": [
        {
          "output_type": "stream",
          "name": "stdout",
          "text": [
            "Shortest word: a\n"
          ]
        }
      ]
    },
    {
      "cell_type": "code",
      "source": [
        "#Reverse the order of words in a string"
      ],
      "metadata": {
        "id": "Fg5JOehyXskr"
      },
      "execution_count": null,
      "outputs": []
    },
    {
      "cell_type": "code",
      "source": [
        "def reverse_words(input_string):\n",
        "    words = input_string.split()\n",
        "    reversed_string = ' '.join(reversed(words))\n",
        "    return reversed_string\n",
        "\n",
        "input_string = \"This is a sample sentence\"\n",
        "result = reverse_words(input_string)\n",
        "\n",
        "print(\"Reversed words:\", result)\n"
      ],
      "metadata": {
        "colab": {
          "base_uri": "https://localhost:8080/"
        },
        "id": "pN7GoOJmXwe3",
        "outputId": "026ac709-7312-4607-e375-a5b072878d22"
      },
      "execution_count": null,
      "outputs": [
        {
          "output_type": "stream",
          "name": "stdout",
          "text": [
            "Reversed words: sentence sample a is This\n"
          ]
        }
      ]
    },
    {
      "cell_type": "code",
      "source": [
        "#Check if a string is alphanumeric"
      ],
      "metadata": {
        "id": "0U_TomNMX02k"
      },
      "execution_count": null,
      "outputs": []
    },
    {
      "cell_type": "code",
      "source": [
        "def is_alphanumeric(input_string):\n",
        "    return input_string.isalnum()\n",
        "\n",
        "input_string = \"Hello123\"\n",
        "result = is_alphanumeric(input_string)\n",
        "\n",
        "if result:\n",
        "    print(\"The string is alphanumeric.\")\n",
        "else:\n",
        "    print(\"The string is not alphanumeric.\")\n",
        "\n"
      ],
      "metadata": {
        "colab": {
          "base_uri": "https://localhost:8080/"
        },
        "id": "p59rNMJ1X8e7",
        "outputId": "71c88620-d6a9-4656-8aca-80db27ecd622"
      },
      "execution_count": null,
      "outputs": [
        {
          "output_type": "stream",
          "name": "stdout",
          "text": [
            "The string is alphanumeric.\n"
          ]
        }
      ]
    },
    {
      "cell_type": "code",
      "source": [
        "# Extract all digits from a string.\n"
      ],
      "metadata": {
        "id": "_DwPryaAYCTc"
      },
      "execution_count": null,
      "outputs": []
    },
    {
      "cell_type": "code",
      "source": [
        "def extract_digits(input_string):\n",
        "    return [char for char in input_string if char.isdigit()]\n",
        "\n",
        "input_string = \"Hello123World456\"\n",
        "result = extract_digits(input_string)\n",
        "\n",
        "print(\"Digits extracted:\", ''.join(result))\n"
      ],
      "metadata": {
        "colab": {
          "base_uri": "https://localhost:8080/"
        },
        "id": "kE50lC3zYKNc",
        "outputId": "02e1ec38-a42c-40bf-f6db-e2630a04da3d"
      },
      "execution_count": null,
      "outputs": [
        {
          "output_type": "stream",
          "name": "stdout",
          "text": [
            "Digits extracted: 123456\n"
          ]
        }
      ]
    },
    {
      "cell_type": "code",
      "source": [
        "#Extract all alphabets from a string.\n"
      ],
      "metadata": {
        "id": "0DDQ02puZT0u"
      },
      "execution_count": null,
      "outputs": []
    },
    {
      "cell_type": "code",
      "source": [
        "def extract_alphabets(input_string):\n",
        "    return [char for char in input_string if char.isalpha()]\n",
        "\n",
        "input_string = \"Hello123World456\"\n",
        "result = extract_alphabets(input_string)\n",
        "\n",
        "print(\"Alphabets extracted:\", ''.join(result))\n"
      ],
      "metadata": {
        "colab": {
          "base_uri": "https://localhost:8080/"
        },
        "id": "9YYcl0OzZZa5",
        "outputId": "6d4925b6-ca49-4274-c960-266751e08ed3"
      },
      "execution_count": null,
      "outputs": [
        {
          "output_type": "stream",
          "name": "stdout",
          "text": [
            "Alphabets extracted: HelloWorld\n"
          ]
        }
      ]
    },
    {
      "cell_type": "code",
      "source": [
        "#Count the number of uppercase letters in a string."
      ],
      "metadata": {
        "id": "8qIJMqpFZeFa"
      },
      "execution_count": null,
      "outputs": []
    },
    {
      "cell_type": "code",
      "source": [
        "def count_uppercase_letters(input_string):\n",
        "    count = 0\n",
        "    for char in input_string:\n",
        "        if char.isupper():\n",
        "            count += 1\n",
        "    return count\n",
        "\n",
        "input_string = \"Hello World\"\n",
        "result = count_uppercase_letters(input_string)\n",
        "\n",
        "print(\"Number of uppercase letters:\", result)\n"
      ],
      "metadata": {
        "colab": {
          "base_uri": "https://localhost:8080/"
        },
        "id": "B4fUodSeZhu3",
        "outputId": "87caee15-3af4-4b56-8a26-1ff91828054e"
      },
      "execution_count": null,
      "outputs": [
        {
          "output_type": "stream",
          "name": "stdout",
          "text": [
            "Number of uppercase letters: 2\n"
          ]
        }
      ]
    },
    {
      "cell_type": "code",
      "source": [
        "#Count the number of lowercase letters in a string"
      ],
      "metadata": {
        "id": "lBzWM7-oZmbS"
      },
      "execution_count": null,
      "outputs": []
    },
    {
      "cell_type": "code",
      "source": [
        "def count_lowercase_letters(input_string):\n",
        "    count = 0\n",
        "    for char in input_string:\n",
        "        if char.islower():\n",
        "            count += 1\n",
        "    return count\n",
        "\n",
        "input_string = \"Hello World\"\n",
        "result = count_lowercase_letters(input_string)\n",
        "\n",
        "print(\"Number of lowercase letters:\", result)\n",
        "\n"
      ],
      "metadata": {
        "colab": {
          "base_uri": "https://localhost:8080/"
        },
        "id": "7ESiPUFPZqas",
        "outputId": "7365cd6b-7991-4e17-facb-3a05d6b3d216"
      },
      "execution_count": null,
      "outputs": [
        {
          "output_type": "stream",
          "name": "stdout",
          "text": [
            "Number of lowercase letters: 8\n"
          ]
        }
      ]
    },
    {
      "cell_type": "code",
      "source": [
        "#Swap the case of each character in a string."
      ],
      "metadata": {
        "id": "QyIVh0gfZwGo"
      },
      "execution_count": null,
      "outputs": []
    },
    {
      "cell_type": "code",
      "source": [
        "def swap_case(input_string):\n",
        "    return input_string.swapcase()\n",
        "\n",
        "input_string = \"Hello World\"\n",
        "result = swap_case(input_string)\n",
        "\n",
        "print(\"Swapped case:\", result)\n"
      ],
      "metadata": {
        "colab": {
          "base_uri": "https://localhost:8080/"
        },
        "id": "fu6ovAm0Z0n0",
        "outputId": "5aeddcef-4544-42ce-c998-627756991e1d"
      },
      "execution_count": null,
      "outputs": [
        {
          "output_type": "stream",
          "name": "stdout",
          "text": [
            "Swapped case: hELLO wORLD\n"
          ]
        }
      ]
    },
    {
      "cell_type": "code",
      "source": [
        "#Remove a specific word from a string"
      ],
      "metadata": {
        "id": "yZNU4eIUZ37N"
      },
      "execution_count": null,
      "outputs": []
    },
    {
      "cell_type": "code",
      "source": [
        "def remove_word(input_string, word_to_remove):\n",
        "    return input_string.replace(word_to_remove, '')\n",
        "\n",
        "input_string = \"This is a sample sentence with a specific word.\"\n",
        "word_to_remove = \"specific\"\n",
        "result = remove_word(input_string, word_to_remove)\n",
        "\n",
        "print(\"String after removing the word:\", result)\n"
      ],
      "metadata": {
        "colab": {
          "base_uri": "https://localhost:8080/"
        },
        "id": "NfEqHvYQZ7mm",
        "outputId": "0bef3de2-2c17-4de1-ccc6-df15963fbd47"
      },
      "execution_count": null,
      "outputs": [
        {
          "output_type": "stream",
          "name": "stdout",
          "text": [
            "String after removing the word: This is a sample sentence with a  word.\n"
          ]
        }
      ]
    },
    {
      "cell_type": "code",
      "source": [
        "#Check if a string is a valid email address.\n"
      ],
      "metadata": {
        "id": "w76ldNf_Z_cp"
      },
      "execution_count": null,
      "outputs": []
    },
    {
      "cell_type": "code",
      "source": [
        "import re\n",
        "\n",
        "def is_valid_email(email):\n",
        "    pattern = r'^[a-zA-Z0-9._%+-]+@[a-zA-Z0-9.-]+\\.[a-zA-Z]{2,}$'\n",
        "    return re.match(pattern, email) is not None\n",
        "\n",
        "email = \"example@example.com\"\n",
        "if is_valid_email(email):\n",
        "    print(\"Valid email address\")\n",
        "else:\n",
        "    print(\"Invalid email address\")\n"
      ],
      "metadata": {
        "colab": {
          "base_uri": "https://localhost:8080/"
        },
        "id": "eAD_L9hnaFwk",
        "outputId": "0c4daf06-2f87-4b9c-bd3c-1ca49bedc1b9"
      },
      "execution_count": null,
      "outputs": [
        {
          "output_type": "stream",
          "name": "stdout",
          "text": [
            "Valid email address\n"
          ]
        }
      ]
    },
    {
      "cell_type": "code",
      "source": [
        "#Extract the username from an email address string.\n"
      ],
      "metadata": {
        "id": "lqmmVNpgaPZ3"
      },
      "execution_count": null,
      "outputs": []
    },
    {
      "cell_type": "code",
      "source": [
        "def extract_username(email):\n",
        "    # Split the email address at the '@' symbol\n",
        "    parts = email.split('@')\n",
        "\n",
        "    # Check if the email has the expected format\n",
        "    if len(parts) == 2:\n",
        "        return parts[0]\n",
        "    else:\n",
        "        return None\n",
        "\n",
        "# Example usage\n",
        "email_address = \"user@example.com\"\n",
        "username = extract_username(email_address)\n",
        "\n",
        "if username:\n",
        "    print(\"Username:\", username)\n",
        "else:\n",
        "    print(\"Invalid email address.\")\n"
      ],
      "metadata": {
        "colab": {
          "base_uri": "https://localhost:8080/"
        },
        "id": "dGc86hRTaTl9",
        "outputId": "de94eef9-8a81-48dc-8294-70d3773c97fb"
      },
      "execution_count": null,
      "outputs": [
        {
          "output_type": "stream",
          "name": "stdout",
          "text": [
            "Username: user\n"
          ]
        }
      ]
    },
    {
      "cell_type": "code",
      "source": [
        "#Extract the domain name from an email address string."
      ],
      "metadata": {
        "id": "7f5JyPQmaYNg"
      },
      "execution_count": null,
      "outputs": []
    },
    {
      "cell_type": "code",
      "source": [
        "def extract_domain(email):\n",
        "    # Split the email address at the '@' symbol\n",
        "    parts = email.split('@')\n",
        "\n",
        "    # Check if the email has the expected format\n",
        "    if len(parts) == 2:\n",
        "        return parts[1]\n",
        "    else:\n",
        "        return None\n",
        "\n",
        "# Example usage\n",
        "email_address = \"user@example.com\"\n",
        "domain = extract_domain(email_address)\n",
        "\n",
        "if domain:\n",
        "    print(\"Domain:\", domain)\n",
        "else:\n",
        "    print(\"Invalid email address.\")\n"
      ],
      "metadata": {
        "colab": {
          "base_uri": "https://localhost:8080/"
        },
        "id": "AGTZ6LoHacLG",
        "outputId": "7cf4dcfb-ef6d-482b-9f37-acdddd40bc8b"
      },
      "execution_count": null,
      "outputs": [
        {
          "output_type": "stream",
          "name": "stdout",
          "text": [
            "Domain: example.com\n"
          ]
        }
      ]
    },
    {
      "cell_type": "code",
      "source": [
        "#Replace multiple spaces in a string with a single space.\n"
      ],
      "metadata": {
        "id": "NTOB2AJfaihJ"
      },
      "execution_count": null,
      "outputs": []
    },
    {
      "cell_type": "code",
      "source": [
        "import re\n",
        "\n",
        "def replace_multiple_spaces(input_string):\n",
        "    # Use regular expression to replace multiple spaces with a single space\n",
        "    return re.sub(r'\\s+', ' ', input_string)\n",
        "\n",
        "# Example usage\n",
        "original_string = \"This   is   a   string    with   multiple     spaces.\"\n",
        "modified_string = replace_multiple_spaces(original_string)\n",
        "\n",
        "print(\"Original string:\", original_string)\n",
        "print(\"Modified string:\", modified_string)\n"
      ],
      "metadata": {
        "colab": {
          "base_uri": "https://localhost:8080/"
        },
        "id": "F3dPHJfpanX8",
        "outputId": "967620c3-4f91-4095-9ac1-aa79f48b41a4"
      },
      "execution_count": null,
      "outputs": [
        {
          "output_type": "stream",
          "name": "stdout",
          "text": [
            "Original string: This   is   a   string    with   multiple     spaces.\n",
            "Modified string: This is a string with multiple spaces.\n"
          ]
        }
      ]
    },
    {
      "cell_type": "code",
      "source": [
        "#Check if a string is a valid URL"
      ],
      "metadata": {
        "id": "HV-XUXa8as1Y"
      },
      "execution_count": null,
      "outputs": []
    },
    {
      "cell_type": "code",
      "source": [
        "from urllib.parse import urlparse\n",
        "\n",
        "def is_valid_url(url):\n",
        "    try:\n",
        "        result = urlparse(url)\n",
        "        return all([result.scheme, result.netloc])\n",
        "    except ValueError:\n",
        "        return False\n",
        "\n",
        "# Example usage\n",
        "url_to_check = \"https://www.example.com\"\n",
        "if is_valid_url(url_to_check):\n",
        "    print(\"The URL is valid.\")\n",
        "else:\n",
        "    print(\"The URL is not valid.\")\n"
      ],
      "metadata": {
        "colab": {
          "base_uri": "https://localhost:8080/"
        },
        "id": "rxJs5jw9bTKr",
        "outputId": "3c1d4372-c044-4e52-aed1-5be73769d5a5"
      },
      "execution_count": null,
      "outputs": [
        {
          "output_type": "stream",
          "name": "stdout",
          "text": [
            "The URL is valid.\n"
          ]
        }
      ]
    },
    {
      "cell_type": "code",
      "source": [
        "#Extract the protocol (http or https) from a URL string"
      ],
      "metadata": {
        "id": "Te8i-N5UbX2R"
      },
      "execution_count": null,
      "outputs": []
    },
    {
      "cell_type": "code",
      "source": [
        "from urllib.parse import urlparse\n",
        "\n",
        "def extract_protocol(url):\n",
        "    parsed_url = urlparse(url)\n",
        "    return parsed_url.scheme if parsed_url.scheme else None\n",
        "\n",
        "# Example usage\n",
        "url_to_check = \"https://www.example.com\"\n",
        "protocol = extract_protocol(url_to_check)\n",
        "\n",
        "if protocol:\n",
        "    print(\"Protocol:\", protocol)\n",
        "else:\n",
        "    print(\"Invalid URL.\")\n"
      ],
      "metadata": {
        "colab": {
          "base_uri": "https://localhost:8080/"
        },
        "id": "j_X1Hpihbc5W",
        "outputId": "9dddcaf3-e602-4504-f28a-091aefba13a6"
      },
      "execution_count": null,
      "outputs": [
        {
          "output_type": "stream",
          "name": "stdout",
          "text": [
            "Protocol: https\n"
          ]
        }
      ]
    },
    {
      "cell_type": "code",
      "source": [
        "#Find the frequency of each character in a string."
      ],
      "metadata": {
        "id": "2v9JZvFJbhUi"
      },
      "execution_count": null,
      "outputs": []
    },
    {
      "cell_type": "code",
      "source": [
        "def character_frequency(input_string):\n",
        "    frequency_dict = {}\n",
        "\n",
        "    for char in input_string:\n",
        "        if char in frequency_dict:\n",
        "            frequency_dict[char] += 1\n",
        "        else:\n",
        "            frequency_dict[char] = 1\n",
        "\n",
        "    return frequency_dict\n",
        "\n",
        "# Example usage\n",
        "input_string = \"hello world\"\n",
        "result = character_frequency(input_string)\n",
        "\n",
        "for char, count in result.items():\n",
        "    print(f\"Character: {char}, Frequency: {count}\")\n"
      ],
      "metadata": {
        "colab": {
          "base_uri": "https://localhost:8080/"
        },
        "id": "yz_ejfE0bnm6",
        "outputId": "790d9574-71e8-4d94-89df-86daa3ff69a0"
      },
      "execution_count": null,
      "outputs": [
        {
          "output_type": "stream",
          "name": "stdout",
          "text": [
            "Character: h, Frequency: 1\n",
            "Character: e, Frequency: 1\n",
            "Character: l, Frequency: 3\n",
            "Character: o, Frequency: 2\n",
            "Character:  , Frequency: 1\n",
            "Character: w, Frequency: 1\n",
            "Character: r, Frequency: 1\n",
            "Character: d, Frequency: 1\n"
          ]
        }
      ]
    },
    {
      "cell_type": "code",
      "source": [
        "# Remove all punctuation from a string.\n",
        "\n"
      ],
      "metadata": {
        "id": "xlhmVNiibs3k"
      },
      "execution_count": null,
      "outputs": []
    },
    {
      "cell_type": "code",
      "source": [
        "import string\n",
        "\n",
        "def remove_punctuation(input_string):\n",
        "    # Create a translation table to map punctuation to None\n",
        "    translation_table = str.maketrans(\"\", \"\", string.punctuation)\n",
        "\n",
        "    # Use translate to remove punctuation\n",
        "    cleaned_string = input_string.translate(translation_table)\n",
        "\n",
        "    return cleaned_string\n",
        "\n",
        "# Example usage\n",
        "input_string = \"Hello, world! How are you today?\"\n",
        "result = remove_punctuation(input_string)\n",
        "\n",
        "print(\"Original string:\", input_string)\n",
        "print(\"String without punctuation:\", result)\n"
      ],
      "metadata": {
        "colab": {
          "base_uri": "https://localhost:8080/"
        },
        "id": "dvVxadjzbxhH",
        "outputId": "cf722f8a-a3e4-475f-b4bb-ff39797d1830"
      },
      "execution_count": null,
      "outputs": [
        {
          "output_type": "stream",
          "name": "stdout",
          "text": [
            "Original string: Hello, world! How are you today?\n",
            "String without punctuation: Hello world How are you today\n"
          ]
        }
      ]
    },
    {
      "cell_type": "code",
      "source": [
        "#Check if a string contains only digits.\n"
      ],
      "metadata": {
        "id": "2cbbeqP-b86i"
      },
      "execution_count": null,
      "outputs": []
    },
    {
      "cell_type": "code",
      "source": [
        "def contains_only_digits(input_string):\n",
        "    return input_string.isdigit()\n",
        "\n",
        "# Example usage\n",
        "string1 = \"12345\"\n",
        "string2 = \"abc123\"\n",
        "\n",
        "print(f\"{string1} contains only digits: {contains_only_digits(string1)}\")\n",
        "print(f\"{string2} contains only digits: {contains_only_digits(string2)}\")\n"
      ],
      "metadata": {
        "colab": {
          "base_uri": "https://localhost:8080/"
        },
        "id": "6n2x3C5WcD1i",
        "outputId": "0928bb0d-2daf-4a78-af9b-5bde2ca88084"
      },
      "execution_count": null,
      "outputs": [
        {
          "output_type": "stream",
          "name": "stdout",
          "text": [
            "12345 contains only digits: True\n",
            "abc123 contains only digits: False\n"
          ]
        }
      ]
    },
    {
      "cell_type": "code",
      "source": [
        "#Check if a string contains only alphabets.\n",
        "\n"
      ],
      "metadata": {
        "id": "LmURSrQ6cI4B"
      },
      "execution_count": null,
      "outputs": []
    },
    {
      "cell_type": "code",
      "source": [
        "def contains_only_alphabets(input_string):\n",
        "    return input_string.isalpha()\n",
        "\n",
        "# Example usage\n",
        "string1 = \"Hello\"\n",
        "string2 = \"Hello123\"\n",
        "\n",
        "print(f\"{string1} contains only alphabets: {contains_only_alphabets(string1)}\")\n",
        "print(f\"{string2} contains only alphabets: {contains_only_alphabets(string2)}\")\n"
      ],
      "metadata": {
        "colab": {
          "base_uri": "https://localhost:8080/"
        },
        "id": "iipsgg2NcRIO",
        "outputId": "241029a4-ce4e-42c5-b404-231431516bb7"
      },
      "execution_count": null,
      "outputs": [
        {
          "output_type": "stream",
          "name": "stdout",
          "text": [
            "Hello contains only alphabets: True\n",
            "Hello123 contains only alphabets: False\n"
          ]
        }
      ]
    },
    {
      "cell_type": "code",
      "source": [
        "#Convert a string to a list of characters"
      ],
      "metadata": {
        "id": "Fo6vlp0ccXCC"
      },
      "execution_count": null,
      "outputs": []
    },
    {
      "cell_type": "code",
      "source": [
        "input_string = \"Hello World\"\n",
        "character_list = list(input_string)\n",
        "\n",
        "print(\"String:\", input_string)\n",
        "print(\"List of characters:\", character_list)\n"
      ],
      "metadata": {
        "colab": {
          "base_uri": "https://localhost:8080/"
        },
        "id": "MgooJ8gGckSh",
        "outputId": "cb0d82e9-4926-41af-82c0-389eb50be2df"
      },
      "execution_count": null,
      "outputs": [
        {
          "output_type": "stream",
          "name": "stdout",
          "text": [
            "String: Hello World\n",
            "List of characters: ['H', 'e', 'l', 'l', 'o', ' ', 'W', 'o', 'r', 'l', 'd']\n"
          ]
        }
      ]
    },
    {
      "cell_type": "code",
      "source": [
        "#Check if two strings are anagram"
      ],
      "metadata": {
        "id": "fKHLK0PqcvL3"
      },
      "execution_count": null,
      "outputs": []
    },
    {
      "cell_type": "code",
      "source": [
        "def are_anagrams(str1, str2):\n",
        "    # Remove spaces and convert to lowercase for a case-insensitive comparison\n",
        "    str1 = str1.replace(\" \", \"\").lower()\n",
        "    str2 = str2.replace(\" \", \"\").lower()\n",
        "\n",
        "    # Check if the sorted characters of both strings are the same\n",
        "    return sorted(str1) == sorted(str2)\n",
        "\n",
        "# Example usage\n",
        "string1 = \"listen\"\n",
        "string2 = \"silent\"\n",
        "\n",
        "if are_anagrams(string1, string2):\n",
        "    print(f\"{string1} and {string2} are anagrams.\")\n",
        "else:\n",
        "    print(f\"{string1} and {string2} are not anagrams.\")\n"
      ],
      "metadata": {
        "colab": {
          "base_uri": "https://localhost:8080/"
        },
        "id": "cgRsI8INczJx",
        "outputId": "4c3dda25-c7bc-4f12-e927-cdc8e381d34e"
      },
      "execution_count": null,
      "outputs": [
        {
          "output_type": "stream",
          "name": "stdout",
          "text": [
            "listen and silent are anagrams.\n"
          ]
        }
      ]
    },
    {
      "cell_type": "code",
      "source": [
        "#Encode a string using a Caesar cipher."
      ],
      "metadata": {
        "id": "tiiXhkx2c36k"
      },
      "execution_count": null,
      "outputs": []
    },
    {
      "cell_type": "code",
      "source": [
        "def caesar_cipher_encrypt(plaintext, shift):\n",
        "    ciphertext = ''\n",
        "    for char in plaintext:\n",
        "        if char.isalpha():  # Check if the character is an alphabet letter\n",
        "            shifted_char = chr((ord(char) - ord('a' if char.islower() else 'A') + shift) % 26 + ord('a' if char.islower() else 'A'))\n",
        "            ciphertext += shifted_char\n",
        "        else:\n",
        "            ciphertext += char  # If the character is not an alphabet letter, keep it unchanged\n",
        "    return ciphertext\n",
        "\n",
        "# Example usage\n",
        "plaintext = \"Hello, World!\"\n",
        "shift = 3\n",
        "encrypted_text = caesar_cipher_encrypt(plaintext, shift)\n",
        "print(\"Original text:\", plaintext)\n",
        "print(\"Encrypted text:\", encrypted_text)\n"
      ],
      "metadata": {
        "colab": {
          "base_uri": "https://localhost:8080/"
        },
        "id": "a9dZTyBAc9Y_",
        "outputId": "59ef86a5-b61a-4a20-cb3e-7819a7f378be"
      },
      "execution_count": null,
      "outputs": [
        {
          "output_type": "stream",
          "name": "stdout",
          "text": [
            "Original text: Hello, World!\n",
            "Encrypted text: Khoor, Zruog!\n"
          ]
        }
      ]
    },
    {
      "cell_type": "code",
      "source": [
        "#Decode a Caesar cipher encoded string"
      ],
      "metadata": {
        "id": "DfF1rDBEdE6y"
      },
      "execution_count": null,
      "outputs": []
    },
    {
      "cell_type": "code",
      "source": [
        "def caesar_cipher_decrypt(ciphertext, shift):\n",
        "    return caesar_cipher_encrypt(ciphertext, -shift)\n",
        "\n",
        "# Example usage\n",
        "ciphertext = \"Khoor, Zruog!\"\n",
        "shift = 3\n",
        "decrypted_text = caesar_cipher_decrypt(ciphertext, shift)\n",
        "\n",
        "print(\"Ciphertext:\", ciphertext)\n",
        "print(f\"Decrypted text (Shift = {shift}):\", decrypted_text)\n"
      ],
      "metadata": {
        "colab": {
          "base_uri": "https://localhost:8080/"
        },
        "id": "9LiujOi6dQ1k",
        "outputId": "46d5dffa-d96a-4612-b13e-e3ea50987a66"
      },
      "execution_count": null,
      "outputs": [
        {
          "output_type": "stream",
          "name": "stdout",
          "text": [
            "Ciphertext: Khoor, Zruog!\n",
            "Decrypted text (Shift = 3): Hello, World!\n"
          ]
        }
      ]
    },
    {
      "cell_type": "code",
      "source": [
        "#Find the most frequent word in a string.\n"
      ],
      "metadata": {
        "id": "yVHwFROjdYpZ"
      },
      "execution_count": null,
      "outputs": []
    },
    {
      "cell_type": "code",
      "source": [
        "from collections import Counter\n",
        "import re\n",
        "\n",
        "def most_frequent_word(input_string):\n",
        "    # Remove punctuation and convert to lowercase\n",
        "    cleaned_string = re.sub(r'[^\\w\\s]', '', input_string.lower())\n",
        "\n",
        "    # Split the string into words\n",
        "    words = cleaned_string.split()\n",
        "\n",
        "    # Use Counter to count word frequencies\n",
        "    word_counts = Counter(words)\n",
        "\n",
        "    # Find the most frequent word\n",
        "    most_frequent = word_counts.most_common(1)\n",
        "\n",
        "    return most_frequent[0][0] if most_frequent else None\n",
        "\n",
        "# Example usage\n",
        "input_string = \"This is a sample string. It contains some words, and some words are repeated. Words!\"\n",
        "result = most_frequent_word(input_string)\n",
        "\n",
        "if result:\n",
        "    print(\"Most frequent word:\", result)\n",
        "else:\n",
        "    print(\"No words in the input string.\")\n",
        "\n"
      ],
      "metadata": {
        "colab": {
          "base_uri": "https://localhost:8080/"
        },
        "id": "q2fERu4bdcvQ",
        "outputId": "a9a7c2f3-fc97-4ddb-dbe8-f9a795d1eef0"
      },
      "execution_count": null,
      "outputs": [
        {
          "output_type": "stream",
          "name": "stdout",
          "text": [
            "Most frequent word: words\n"
          ]
        }
      ]
    },
    {
      "cell_type": "code",
      "source": [
        "#Find all unique words in a string"
      ],
      "metadata": {
        "id": "74K-lnK1dkq4"
      },
      "execution_count": null,
      "outputs": []
    },
    {
      "cell_type": "code",
      "source": [
        "import re\n",
        "\n",
        "def unique_words(input_string):\n",
        "    # Remove punctuation and convert to lowercase\n",
        "    cleaned_string = re.sub(r'[^\\w\\s]', '', input_string.lower())\n",
        "\n",
        "    # Split the string into words and convert to a set to get unique words\n",
        "    unique_word_set = set(cleaned_string.split())\n",
        "\n",
        "    return unique_word_set\n",
        "\n",
        "# Example usage\n",
        "input_string = \"This is a sample string. It contains some words, and some words are repeated. Words!\"\n",
        "result = unique_words(input_string)\n",
        "\n",
        "if result:\n",
        "    print(\"Unique words:\", result)\n",
        "else:\n",
        "    print(\"No words in the input string.\")\n"
      ],
      "metadata": {
        "colab": {
          "base_uri": "https://localhost:8080/"
        },
        "id": "CeP4U3BddqBH",
        "outputId": "c12359a5-0b6b-483f-fa12-455d8b6dbd1d"
      },
      "execution_count": null,
      "outputs": [
        {
          "output_type": "stream",
          "name": "stdout",
          "text": [
            "Unique words: {'this', 'is', 'are', 'string', 'a', 'some', 'words', 'and', 'it', 'repeated', 'contains', 'sample'}\n"
          ]
        }
      ]
    },
    {
      "cell_type": "code",
      "source": [
        "#Count the number of syllables in a string."
      ],
      "metadata": {
        "id": "7nHOsBpydvj-"
      },
      "execution_count": null,
      "outputs": []
    },
    {
      "cell_type": "code",
      "source": [
        "def count_syllables(word):\n",
        "    vowels = \"aeiouy\"\n",
        "    count = 0\n",
        "\n",
        "    # Check each character in the word\n",
        "    for char in word.lower():\n",
        "        if char in vowels:\n",
        "            count += 1\n",
        "\n",
        "    # Adjust for silent 'e' at the end of the word\n",
        "    if word.endswith('e') and count > 1:\n",
        "        count -= 1\n",
        "\n",
        "    return count\n",
        "\n",
        "def count_syllables_in_string(input_string):\n",
        "    words = input_string.split()\n",
        "    total_syllables = sum(count_syllables(word) for word in words)\n",
        "    return total_syllables\n",
        "\n",
        "# Example usage\n",
        "input_string = \"Hello world, this is a sample sentence.\"\n",
        "result = count_syllables_in_string(input_string)\n",
        "\n",
        "print(\"Number of syllables:\", result)\n"
      ],
      "metadata": {
        "colab": {
          "base_uri": "https://localhost:8080/"
        },
        "id": "8UJe08vPdy5t",
        "outputId": "33e998aa-a4ce-4d61-83d9-394821108cc8"
      },
      "execution_count": null,
      "outputs": [
        {
          "output_type": "stream",
          "name": "stdout",
          "text": [
            "Number of syllables: 10\n"
          ]
        }
      ]
    },
    {
      "cell_type": "code",
      "source": [
        "#Check if a string contains any special characters.\n"
      ],
      "metadata": {
        "id": "ATLfyZ7Fd8z1"
      },
      "execution_count": null,
      "outputs": []
    },
    {
      "cell_type": "code",
      "source": [
        "import re\n",
        "\n",
        "def contains_special_characters(input_string):\n",
        "    # Define a regular expression pattern for matching special characters\n",
        "    pattern = re.compile(r'[^a-zA-Z0-9\\s]')\n",
        "\n",
        "    # Use re.search to check if the pattern is found in the string\n",
        "    return bool(re.search(pattern, input_string))\n",
        "\n",
        "# Example usage\n",
        "string_with_special_chars = \"Hello, World!\"\n",
        "string_without_special_chars = \"Hello World\"\n",
        "\n",
        "result1 = contains_special_characters(string_with_special_chars)\n",
        "result2 = contains_special_characters(string_without_special_chars)\n",
        "\n",
        "print(f\"{string_with_special_chars} contains special characters: {result1}\")\n",
        "print(f\"{string_without_special_chars} contains special characters: {result2}\")\n"
      ],
      "metadata": {
        "colab": {
          "base_uri": "https://localhost:8080/"
        },
        "id": "HaB6HuXCeMLr",
        "outputId": "7e68f1c6-d9c8-4edb-d626-8f6605f42f61"
      },
      "execution_count": null,
      "outputs": [
        {
          "output_type": "stream",
          "name": "stdout",
          "text": [
            "Hello, World! contains special characters: True\n",
            "Hello World contains special characters: False\n"
          ]
        }
      ]
    },
    {
      "cell_type": "code",
      "source": [
        "#Remove the nth word from a string.\n"
      ],
      "metadata": {
        "id": "jAdt5daeeTq-"
      },
      "execution_count": null,
      "outputs": []
    },
    {
      "cell_type": "code",
      "source": [
        "def remove_nth_word(input_string, n):\n",
        "    words = input_string.split()\n",
        "\n",
        "    if 1 <= n <= len(words):\n",
        "        del words[n-1]  # Adjust for 0-based index\n",
        "        result_string = ' '.join(words)\n",
        "        return result_string\n",
        "    else:\n",
        "        return \"Invalid index\"\n",
        "\n",
        "# Example usage\n",
        "original_string = \"This is a sample sentence with some words.\"\n",
        "index_to_remove = 3\n",
        "result = remove_nth_word(original_string, index_to_remove)\n",
        "\n",
        "print(\"Original string:\", original_string)\n",
        "print(f\"String after removing word at index {index_to_remove}:\", result)\n"
      ],
      "metadata": {
        "colab": {
          "base_uri": "https://localhost:8080/"
        },
        "id": "SCgLy4fleXVZ",
        "outputId": "5d325852-7034-4816-b34c-5a013eff09d2"
      },
      "execution_count": null,
      "outputs": [
        {
          "output_type": "stream",
          "name": "stdout",
          "text": [
            "Original string: This is a sample sentence with some words.\n",
            "String after removing word at index 3: This is sample sentence with some words.\n"
          ]
        }
      ]
    },
    {
      "cell_type": "code",
      "source": [
        "# Insert a word at the nth position in a string.\n"
      ],
      "metadata": {
        "id": "k_RAtFwveiW7"
      },
      "execution_count": null,
      "outputs": []
    },
    {
      "cell_type": "code",
      "source": [
        "def insert_word_at_nth_position(input_string, new_word, n):\n",
        "    words = input_string.split()\n",
        "\n",
        "    if 0 <= n <= len(words):\n",
        "        words.insert(n, new_word)\n",
        "        result_string = ' '.join(words)\n",
        "        return result_string\n",
        "    else:\n",
        "        return \"Invalid index\"\n",
        "\n",
        "# Example usage\n",
        "original_string = \"This is a sample sentence with some words.\"\n",
        "word_to_insert = \"new_word\"\n",
        "position_to_insert = 3\n",
        "result = insert_word_at_nth_position(original_string, word_to_insert, position_to_insert)\n",
        "\n",
        "print(\"Original string:\", original_string)\n",
        "print(f\"String after inserting '{word_to_insert}' at position {position_to_insert}:\", result)\n"
      ],
      "metadata": {
        "colab": {
          "base_uri": "https://localhost:8080/"
        },
        "id": "aADl69L_enub",
        "outputId": "6da2cad1-93ff-4724-e62f-df5afce58720"
      },
      "execution_count": null,
      "outputs": [
        {
          "output_type": "stream",
          "name": "stdout",
          "text": [
            "Original string: This is a sample sentence with some words.\n",
            "String after inserting 'new_word' at position 3: This is a new_word sample sentence with some words.\n"
          ]
        }
      ]
    },
    {
      "cell_type": "code",
      "source": [
        "#Convert a CSV string to a list of lists."
      ],
      "metadata": {
        "id": "X8qpX0CCey8N"
      },
      "execution_count": null,
      "outputs": []
    },
    {
      "cell_type": "code",
      "source": [
        "import csv\n",
        "from io import StringIO\n",
        "\n",
        "def csv_string_to_list_of_lists(csv_string):\n",
        "    # Create a CSV reader with a StringIO object\n",
        "    csv_reader = csv.reader(StringIO(csv_string))\n",
        "\n",
        "    # Convert the CSV reader to a list of lists\n",
        "    list_of_lists = [row for row in csv_reader]\n",
        "\n",
        "    return list_of_lists\n",
        "\n",
        "# Example usage\n",
        "csv_string = \"1,John,Doe\\n2,Jane,Smith\\n3,Bob,Johnson\"\n",
        "result = csv_string_to_list_of_lists(csv_string)\n",
        "\n",
        "for row in result:\n",
        "    print(row)\n"
      ],
      "metadata": {
        "colab": {
          "base_uri": "https://localhost:8080/"
        },
        "id": "vy0uK6VEe23X",
        "outputId": "6731fc7a-47a7-42fa-9f9d-dc8c324e0851"
      },
      "execution_count": null,
      "outputs": [
        {
          "output_type": "stream",
          "name": "stdout",
          "text": [
            "['1', 'John', 'Doe']\n",
            "['2', 'Jane', 'Smith']\n",
            "['3', 'Bob', 'Johnson']\n"
          ]
        }
      ]
    },
    {
      "cell_type": "code",
      "source": [
        "#List Based Practice Problem :"
      ],
      "metadata": {
        "id": "TW6S6QPde9Zs"
      },
      "execution_count": null,
      "outputs": []
    },
    {
      "cell_type": "code",
      "source": [
        "#Create a list with integers from 1 to 10"
      ],
      "metadata": {
        "id": "dSxXWvYKfwL2"
      },
      "execution_count": null,
      "outputs": []
    },
    {
      "cell_type": "code",
      "source": [
        "  my_list = list(range(1, 11))\n",
        "print(my_list)\n"
      ],
      "metadata": {
        "colab": {
          "base_uri": "https://localhost:8080/"
        },
        "id": "G8ImTkOHf1Qq",
        "outputId": "2f626296-3dba-4830-c724-e0e5a28e35f7"
      },
      "execution_count": null,
      "outputs": [
        {
          "output_type": "stream",
          "name": "stdout",
          "text": [
            "[1, 2, 3, 4, 5, 6, 7, 8, 9, 10]\n"
          ]
        }
      ]
    },
    {
      "cell_type": "code",
      "source": [
        "#Find the length of a list without using the `len()` function."
      ],
      "metadata": {
        "id": "7uqGMGO4f8KK"
      },
      "execution_count": null,
      "outputs": []
    },
    {
      "cell_type": "code",
      "source": [
        "def custom_len(lst):\n",
        "    count = 0\n",
        "    for _ in lst:\n",
        "        count += 1\n",
        "    return count\n",
        "\n",
        "# Example usage\n",
        "my_list = [1, 2, 3, 4, 5]\n",
        "length = custom_len(my_list)\n",
        "\n",
        "print(\"Length of the list:\", length)\n"
      ],
      "metadata": {
        "colab": {
          "base_uri": "https://localhost:8080/"
        },
        "id": "LcZ_WBACgAEe",
        "outputId": "92770c23-4547-46c5-c392-e47c3a22e9ca"
      },
      "execution_count": null,
      "outputs": [
        {
          "output_type": "stream",
          "name": "stdout",
          "text": [
            "Length of the list: 5\n"
          ]
        }
      ]
    },
    {
      "cell_type": "code",
      "source": [
        "#Append an element to the end of a list.\n"
      ],
      "metadata": {
        "id": "nmvnuthBgGLi"
      },
      "execution_count": null,
      "outputs": []
    },
    {
      "cell_type": "code",
      "source": [
        "my_list = [1, 2, 3, 4, 5]\n",
        "new_element = 6\n",
        "\n",
        "# Append the new element to the end of the list\n",
        "my_list.append(new_element)\n",
        "\n",
        "print(\"Updated list:\", my_list)\n"
      ],
      "metadata": {
        "colab": {
          "base_uri": "https://localhost:8080/"
        },
        "id": "rQGBJxNtgKMd",
        "outputId": "dc938285-f7e6-470c-9e5c-83ca57e977fb"
      },
      "execution_count": null,
      "outputs": [
        {
          "output_type": "stream",
          "name": "stdout",
          "text": [
            "Updated list: [1, 2, 3, 4, 5, 6]\n"
          ]
        }
      ]
    },
    {
      "cell_type": "code",
      "source": [
        "#Insert an element at a specific index in a list"
      ],
      "metadata": {
        "id": "U8mNISJ6gP5p"
      },
      "execution_count": null,
      "outputs": []
    },
    {
      "cell_type": "code",
      "source": [
        "my_list = [1, 2, 3, 4, 5]\n",
        "new_element = 6\n",
        "index_to_insert = 2\n",
        "\n",
        "# Insert the new element at the specified index\n",
        "my_list.insert(index_to_insert, new_element)\n",
        "\n",
        "print(\"Updated list:\", my_list)\n"
      ],
      "metadata": {
        "colab": {
          "base_uri": "https://localhost:8080/"
        },
        "id": "3j_iYQEJgTFw",
        "outputId": "18bf0dbc-76b3-4f56-ffb1-2e575a2494f4"
      },
      "execution_count": null,
      "outputs": [
        {
          "output_type": "stream",
          "name": "stdout",
          "text": [
            "Updated list: [1, 2, 6, 3, 4, 5]\n"
          ]
        }
      ]
    },
    {
      "cell_type": "code",
      "source": [
        "#Remove an element from a list by its value"
      ],
      "metadata": {
        "id": "H7bw-jcPgdgp"
      },
      "execution_count": null,
      "outputs": []
    },
    {
      "cell_type": "code",
      "source": [
        "my_list = [1, 2, 3, 4, 5]\n",
        "element_to_remove = 3\n",
        "\n",
        "# Remove the specified element from the list\n",
        "my_list.remove(element_to_remove)\n",
        "\n",
        "print(\"Updated list:\", my_list)\n"
      ],
      "metadata": {
        "colab": {
          "base_uri": "https://localhost:8080/"
        },
        "id": "vTL6Tetmgi6t",
        "outputId": "946b2b1e-1d89-4d0e-bbdc-15f6102ca176"
      },
      "execution_count": null,
      "outputs": [
        {
          "output_type": "stream",
          "name": "stdout",
          "text": [
            "Updated list: [1, 2, 4, 5]\n"
          ]
        }
      ]
    },
    {
      "cell_type": "code",
      "source": [
        "# Remove an element from a list by its index.\n"
      ],
      "metadata": {
        "id": "63cXy3Xmgnnx"
      },
      "execution_count": null,
      "outputs": []
    },
    {
      "cell_type": "code",
      "source": [
        "my_list = [1, 2, 3, 4, 5]\n",
        "index_to_remove = 2\n",
        "\n",
        "# Remove the element at the specified index\n",
        "removed_element = my_list.pop(index_to_remove)\n",
        "\n",
        "print(\"Updated list:\", my_list)\n",
        "print(\"Removed element:\", removed_element)\n"
      ],
      "metadata": {
        "colab": {
          "base_uri": "https://localhost:8080/"
        },
        "id": "OoP8a2srgq3J",
        "outputId": "25d7534c-4840-43c6-bb67-b2fbc165f783"
      },
      "execution_count": null,
      "outputs": [
        {
          "output_type": "stream",
          "name": "stdout",
          "text": [
            "Updated list: [1, 2, 4, 5]\n",
            "Removed element: 3\n"
          ]
        }
      ]
    },
    {
      "cell_type": "code",
      "source": [
        "#Check if an element exists in a list"
      ],
      "metadata": {
        "id": "DN9kX_IvgwQ2"
      },
      "execution_count": null,
      "outputs": []
    },
    {
      "cell_type": "code",
      "source": [
        "my_list = [1, 2, 3, 4, 5]\n",
        "element_to_check = 3\n",
        "\n",
        "# Check if the element exists in the list\n",
        "if element_to_check in my_list:\n",
        "    print(f\"{element_to_check} exists in the list.\")\n",
        "else:\n",
        "    print(f\"{element_to_check} does not exist in the list.\")\n"
      ],
      "metadata": {
        "colab": {
          "base_uri": "https://localhost:8080/"
        },
        "id": "qdgDp9Y4g1ck",
        "outputId": "33f70621-a357-420d-eebe-0326bf794648"
      },
      "execution_count": null,
      "outputs": [
        {
          "output_type": "stream",
          "name": "stdout",
          "text": [
            "3 exists in the list.\n"
          ]
        }
      ]
    },
    {
      "cell_type": "code",
      "source": [
        "#Find the index of the first occurrence of an element in a list"
      ],
      "metadata": {
        "id": "L4jIlqvEg6UA"
      },
      "execution_count": null,
      "outputs": []
    },
    {
      "cell_type": "code",
      "source": [
        "my_list = [1, 2, 3, 4, 5]\n",
        "element_to_find = 3\n",
        "\n",
        "# Find the index of the first occurrence of the element\n",
        "index = my_list.index(element_to_find)\n",
        "\n",
        "print(f\"The index of {element_to_find} is: {index}\")\n"
      ],
      "metadata": {
        "colab": {
          "base_uri": "https://localhost:8080/"
        },
        "id": "LkaYtVEPg_DE",
        "outputId": "6326059b-e535-4996-deaf-a825ddc3e8f6"
      },
      "execution_count": null,
      "outputs": [
        {
          "output_type": "stream",
          "name": "stdout",
          "text": [
            "The index of 3 is: 2\n"
          ]
        }
      ]
    },
    {
      "cell_type": "code",
      "source": [
        "#Count the occurrences of an element in a list"
      ],
      "metadata": {
        "id": "tDYZ50gBhENa"
      },
      "execution_count": null,
      "outputs": []
    },
    {
      "cell_type": "code",
      "source": [
        "my_list = [1, 2, 3, 4, 2, 5, 2]\n",
        "element_to_count = 2\n",
        "\n",
        "# Count the occurrences of the element in the list\n",
        "occurrences = my_list.count(element_to_count)\n",
        "\n",
        "print(f\"The element {element_to_count} occurs {occurrences} times in the list.\")\n"
      ],
      "metadata": {
        "colab": {
          "base_uri": "https://localhost:8080/"
        },
        "id": "iDw-QZMWhH25",
        "outputId": "4f0c6cb2-1f4b-4de2-b61b-19ad3c3b7965"
      },
      "execution_count": null,
      "outputs": [
        {
          "output_type": "stream",
          "name": "stdout",
          "text": [
            "The element 2 occurs 3 times in the list.\n"
          ]
        }
      ]
    },
    {
      "cell_type": "code",
      "source": [
        "#Reverse the order of elements in a list."
      ],
      "metadata": {
        "id": "FwVas8vMhOWi"
      },
      "execution_count": null,
      "outputs": []
    },
    {
      "cell_type": "code",
      "source": [
        "my_list = [1, 2, 3, 4, 5]\n",
        "\n",
        "# Reverse the order of elements using the reverse() method\n",
        "my_list.reverse()\n",
        "\n",
        "print(\"Reversed list:\", my_list)\n"
      ],
      "metadata": {
        "colab": {
          "base_uri": "https://localhost:8080/"
        },
        "id": "sN_7OgD1hSWK",
        "outputId": "ea6a8b84-a48a-41a1-e4ac-72be8e751073"
      },
      "execution_count": null,
      "outputs": [
        {
          "output_type": "stream",
          "name": "stdout",
          "text": [
            "Reversed list: [5, 4, 3, 2, 1]\n"
          ]
        }
      ]
    },
    {
      "cell_type": "code",
      "source": [
        "#Sort a list in ascending order"
      ],
      "metadata": {
        "id": "FtUVKfCShYLQ"
      },
      "execution_count": null,
      "outputs": []
    },
    {
      "cell_type": "code",
      "source": [
        "# Sample list\n",
        "my_list = [4, 2, 7, 1, 9, 5]\n",
        "\n",
        "# Sorting the list in ascending order\n",
        "sorted_list = sorted(my_list)\n",
        "\n",
        "# Displaying the sorted list\n",
        "print(\"Original list:\", my_list)\n",
        "print(\"Sorted list in ascending order:\", sorted_list)\n"
      ],
      "metadata": {
        "colab": {
          "base_uri": "https://localhost:8080/"
        },
        "id": "d5lm072-6bDp",
        "outputId": "ccddac80-9cef-4bb2-b2bf-709b0ffc674c"
      },
      "execution_count": null,
      "outputs": [
        {
          "output_type": "stream",
          "name": "stdout",
          "text": [
            "Original list: [4, 2, 7, 1, 9, 5]\n",
            "Sorted list in ascending order: [1, 2, 4, 5, 7, 9]\n"
          ]
        }
      ]
    },
    {
      "cell_type": "code",
      "source": [
        "#Sort a list in descending order"
      ],
      "metadata": {
        "id": "6BqL2RRm6ne5"
      },
      "execution_count": null,
      "outputs": []
    },
    {
      "cell_type": "code",
      "source": [
        "# Sample list\n",
        "my_list = [4, 2, 7, 1, 9, 5]\n",
        "\n",
        "# Sorting the list in descending order\n",
        "sorted_list_descending = sorted(my_list, reverse=True)\n",
        "\n",
        "# Displaying the sorted list in descending order\n",
        "print(\"Original list:\", my_list)\n",
        "print(\"Sorted list in descending order:\", sorted_list_descending)\n"
      ],
      "metadata": {
        "colab": {
          "base_uri": "https://localhost:8080/"
        },
        "id": "37o8bwhv6thX",
        "outputId": "e7a0ce0a-fde5-4b90-8a9a-c0610ae8ff84"
      },
      "execution_count": null,
      "outputs": [
        {
          "output_type": "stream",
          "name": "stdout",
          "text": [
            "Original list: [4, 2, 7, 1, 9, 5]\n",
            "Sorted list in descending order: [9, 7, 5, 4, 2, 1]\n"
          ]
        }
      ]
    },
    {
      "cell_type": "code",
      "source": [
        "#Create a list of even numbers from 1 to 20."
      ],
      "metadata": {
        "id": "zwDZQ7qG6zuF"
      },
      "execution_count": null,
      "outputs": []
    },
    {
      "cell_type": "code",
      "source": [
        "# Creating a list of even numbers from 1 to 20\n",
        "even_numbers = [num for num in range(1, 21) if num % 2 == 0]\n",
        "\n",
        "# Displaying the list of even numbers\n",
        "print(\"List of even numbers from 1 to 20:\", even_numbers)\n"
      ],
      "metadata": {
        "colab": {
          "base_uri": "https://localhost:8080/"
        },
        "id": "WHPBqZ8y62t2",
        "outputId": "eceb394a-7ac0-4fef-c22a-b621863de9f1"
      },
      "execution_count": null,
      "outputs": [
        {
          "output_type": "stream",
          "name": "stdout",
          "text": [
            "List of even numbers from 1 to 20: [2, 4, 6, 8, 10, 12, 14, 16, 18, 20]\n"
          ]
        }
      ]
    },
    {
      "cell_type": "code",
      "source": [
        "#Create a list of odd numbers from 1 to 20"
      ],
      "metadata": {
        "id": "RG_KFioI66RH"
      },
      "execution_count": null,
      "outputs": []
    },
    {
      "cell_type": "code",
      "source": [
        "# Creating a list of odd numbers from 1 to 20\n",
        "odd_numbers = [num for num in range(1, 21) if num % 2 != 0]\n",
        "\n",
        "# Displaying the list of odd numbers\n",
        "print(\"List of odd numbers from 1 to 20:\", odd_numbers)\n"
      ],
      "metadata": {
        "colab": {
          "base_uri": "https://localhost:8080/"
        },
        "id": "WhUFyC_8687S",
        "outputId": "e01fd711-1db2-4133-baff-fa8f09b5d441"
      },
      "execution_count": null,
      "outputs": [
        {
          "output_type": "stream",
          "name": "stdout",
          "text": [
            "List of odd numbers from 1 to 20: [1, 3, 5, 7, 9, 11, 13, 15, 17, 19]\n"
          ]
        }
      ]
    },
    {
      "cell_type": "code",
      "source": [
        "# Find the sum of all elements in a list.\n"
      ],
      "metadata": {
        "id": "FLLWzy4M7AWu"
      },
      "execution_count": null,
      "outputs": []
    },
    {
      "cell_type": "code",
      "source": [
        "# Sample list\n",
        "my_list = [3, 7, 2, 8, 5]\n",
        "\n",
        "# Calculate the sum of all elements in the list\n",
        "list_sum = sum(my_list)\n",
        "\n",
        "# Displaying the sum\n",
        "print(\"Sum of all elements in the list:\", list_sum)\n"
      ],
      "metadata": {
        "colab": {
          "base_uri": "https://localhost:8080/"
        },
        "id": "BgKyKZSS7Dc1",
        "outputId": "128c8535-1bd9-4634-d25b-4076abbea0a3"
      },
      "execution_count": null,
      "outputs": [
        {
          "output_type": "stream",
          "name": "stdout",
          "text": [
            "Sum of all elements in the list: 25\n"
          ]
        }
      ]
    },
    {
      "cell_type": "code",
      "source": [
        "#Find the maximum value in a list.\n"
      ],
      "metadata": {
        "id": "KbX_M3BW7IHA"
      },
      "execution_count": null,
      "outputs": []
    },
    {
      "cell_type": "code",
      "source": [
        "# Sample list\n",
        "my_list = [3, 7, 2, 8, 5]\n",
        "\n",
        "# Find the maximum value in the list\n",
        "max_value = max(my_list)\n",
        "\n",
        "# Displaying the maximum value\n",
        "print(\"Maximum value in the list:\", max_value)\n"
      ],
      "metadata": {
        "colab": {
          "base_uri": "https://localhost:8080/"
        },
        "id": "FcYFSD6p7OHX",
        "outputId": "824c4011-dc8c-43ed-886e-e9d325d7eb09"
      },
      "execution_count": null,
      "outputs": [
        {
          "output_type": "stream",
          "name": "stdout",
          "text": [
            "Maximum value in the list: 8\n"
          ]
        }
      ]
    },
    {
      "cell_type": "code",
      "source": [
        "#Find the minimum value in a list."
      ],
      "metadata": {
        "id": "oi_BKGNi7SsU"
      },
      "execution_count": null,
      "outputs": []
    },
    {
      "cell_type": "code",
      "source": [
        "# Sample list\n",
        "my_list = [3, 7, 2, 8, 5]\n",
        "\n",
        "# Find the minimum value in the list\n",
        "min_value = min(my_list)\n",
        "\n",
        "# Displaying the minimum value\n",
        "print(\"Minimum value in the list:\", min_value)\n"
      ],
      "metadata": {
        "colab": {
          "base_uri": "https://localhost:8080/"
        },
        "id": "j0llfcOh7aJX",
        "outputId": "ad07c857-393c-4fae-e764-7ea4703cbaf9"
      },
      "execution_count": null,
      "outputs": [
        {
          "output_type": "stream",
          "name": "stdout",
          "text": [
            "Minimum value in the list: 2\n"
          ]
        }
      ]
    },
    {
      "cell_type": "code",
      "source": [
        "#Create a list of squares of numbers from 1 to 10"
      ],
      "metadata": {
        "id": "MA1dAWtd7dqe"
      },
      "execution_count": null,
      "outputs": []
    },
    {
      "cell_type": "code",
      "source": [
        "# Creating a list of squares of numbers from 1 to 10\n",
        "squares = [num ** 2 for num in range(1, 11)]\n",
        "\n",
        "# Displaying the list of squares\n",
        "print(\"List of squares from 1 to 10:\", squares)\n"
      ],
      "metadata": {
        "colab": {
          "base_uri": "https://localhost:8080/"
        },
        "id": "JZMnMmOM7g2b",
        "outputId": "f453605b-2ab6-47a5-8ec5-4ebaee786a9f"
      },
      "execution_count": null,
      "outputs": [
        {
          "output_type": "stream",
          "name": "stdout",
          "text": [
            "List of squares from 1 to 10: [1, 4, 9, 16, 25, 36, 49, 64, 81, 100]\n"
          ]
        }
      ]
    },
    {
      "cell_type": "code",
      "source": [
        " #Create a list of random numbers."
      ],
      "metadata": {
        "id": "KUEHOcQh7ljt"
      },
      "execution_count": null,
      "outputs": []
    },
    {
      "cell_type": "code",
      "source": [
        "import random\n",
        "\n",
        "# Creating a list of 5 random numbers between 1 and 100\n",
        "random_numbers = [random.randint(1, 100) for _ in range(5)]\n",
        "\n",
        "# Displaying the list of random numbers\n",
        "print(\"List of random numbers:\", random_numbers)\n"
      ],
      "metadata": {
        "colab": {
          "base_uri": "https://localhost:8080/"
        },
        "id": "KkSWm4cf7o8F",
        "outputId": "eb73f74e-0000-4b37-c171-3f33d70699d7"
      },
      "execution_count": null,
      "outputs": [
        {
          "output_type": "stream",
          "name": "stdout",
          "text": [
            "List of random numbers: [97, 50, 71, 87, 30]\n"
          ]
        }
      ]
    },
    {
      "cell_type": "code",
      "source": [
        "# Remove duplicates from a list"
      ],
      "metadata": {
        "id": "9nAZ0llY7wHJ"
      },
      "execution_count": null,
      "outputs": []
    },
    {
      "cell_type": "code",
      "source": [
        "# Sample list with duplicates\n",
        "my_list = [2, 4, 6, 2, 8, 4, 10, 6]\n",
        "\n",
        "# Remove duplicates by converting the list to a set and back to a list\n",
        "unique_list = list(set(my_list))\n",
        "\n",
        "# Displaying the list without duplicates\n",
        "print(\"List without duplicates:\", unique_list)\n"
      ],
      "metadata": {
        "colab": {
          "base_uri": "https://localhost:8080/"
        },
        "id": "l_2xrAmc7zG5",
        "outputId": "abe9e0bb-1ad8-4282-b901-4f25605f47c1"
      },
      "execution_count": null,
      "outputs": [
        {
          "output_type": "stream",
          "name": "stdout",
          "text": [
            "List without duplicates: [2, 4, 6, 8, 10]\n"
          ]
        }
      ]
    },
    {
      "cell_type": "code",
      "source": [
        "#Find the common elements between two lists."
      ],
      "metadata": {
        "id": "ofzcz0Ep7586"
      },
      "execution_count": null,
      "outputs": []
    },
    {
      "cell_type": "code",
      "source": [
        "# Two sample lists\n",
        "list1 = [2, 4, 6, 8, 10]\n",
        "list2 = [5, 2, 8, 12, 10]\n",
        "\n",
        "# Find the common elements using set intersection\n",
        "common_elements = list(set(list1) & set(list2))\n",
        "\n",
        "# Displaying the common elements\n",
        "print(\"Common elements between the two lists:\", common_elements)\n"
      ],
      "metadata": {
        "colab": {
          "base_uri": "https://localhost:8080/"
        },
        "id": "v62NATrp78z8",
        "outputId": "aca0bbae-a3aa-4348-c7e1-a97aecb9a6c1"
      },
      "execution_count": null,
      "outputs": [
        {
          "output_type": "stream",
          "name": "stdout",
          "text": [
            "Common elements between the two lists: [8, 2, 10]\n"
          ]
        }
      ]
    },
    {
      "cell_type": "code",
      "source": [
        "# Find the difference between two lists"
      ],
      "metadata": {
        "id": "mJELPkkH8E-c"
      },
      "execution_count": null,
      "outputs": []
    },
    {
      "cell_type": "code",
      "source": [
        "# Two sample lists\n",
        "list1 = [2, 4, 6, 8, 10]\n",
        "list2 = [5, 2, 8, 12, 10]\n",
        "\n",
        "# Find the difference using set difference\n",
        "difference_list1_minus_list2 = list(set(list1) - set(list2))\n",
        "difference_list2_minus_list1 = list(set(list2) - set(list1))\n",
        "\n",
        "# Displaying the differences\n",
        "print(\"Elements in list1 but not in list2:\", difference_list1_minus_list2)\n",
        "print(\"Elements in list2 but not in list1:\", difference_list2_minus_list1)\n"
      ],
      "metadata": {
        "colab": {
          "base_uri": "https://localhost:8080/"
        },
        "id": "kzhYwKET8JXs",
        "outputId": "0952a7de-2a53-4f86-8f9d-d898cb050e95"
      },
      "execution_count": null,
      "outputs": [
        {
          "output_type": "stream",
          "name": "stdout",
          "text": [
            "Elements in list1 but not in list2: [4, 6]\n",
            "Elements in list2 but not in list1: [12, 5]\n"
          ]
        }
      ]
    },
    {
      "cell_type": "code",
      "source": [
        "#Merge two lists.\n"
      ],
      "metadata": {
        "id": "CsfBSp_-8POS"
      },
      "execution_count": null,
      "outputs": []
    },
    {
      "cell_type": "code",
      "source": [
        "# Two sample lists\n",
        "list1 = [2, 4, 6, 8, 10]\n",
        "list2 = [1, 3, 5, 7, 9]\n",
        "\n",
        "# Merge the two lists using the extend() method\n",
        "list1.extend(list2)\n",
        "\n",
        "# Displaying the merged list\n",
        "print(\"Merged list:\", list1)\n"
      ],
      "metadata": {
        "colab": {
          "base_uri": "https://localhost:8080/"
        },
        "id": "PlDbQFPD8TYe",
        "outputId": "606d45fd-99c6-4c22-e494-56f725b92743"
      },
      "execution_count": null,
      "outputs": [
        {
          "output_type": "stream",
          "name": "stdout",
          "text": [
            "Merged list: [2, 4, 6, 8, 10, 1, 3, 5, 7, 9]\n"
          ]
        }
      ]
    },
    {
      "cell_type": "code",
      "source": [
        "#Multiply all elements in a list by 2.\n"
      ],
      "metadata": {
        "id": "FUe9oi5i8ZFr"
      },
      "execution_count": null,
      "outputs": []
    },
    {
      "cell_type": "code",
      "source": [
        "# Sample list\n",
        "my_list = [3, 7, 2, 8, 5]\n",
        "\n",
        "# Multiply all elements by 2 using list comprehension\n",
        "doubled_list = [element * 2 for element in my_list]\n",
        "\n",
        "# Displaying the new list with doubled elements\n",
        "print(\"Original list:\", my_list)\n",
        "print(\"List with elements multiplied by 2:\", doubled_list)\n"
      ],
      "metadata": {
        "colab": {
          "base_uri": "https://localhost:8080/"
        },
        "id": "Wqchx52J8eqD",
        "outputId": "2ab2145e-e474-4dce-8f20-d8dca2fdf7b2"
      },
      "execution_count": null,
      "outputs": [
        {
          "output_type": "stream",
          "name": "stdout",
          "text": [
            "Original list: [3, 7, 2, 8, 5]\n",
            "List with elements multiplied by 2: [6, 14, 4, 16, 10]\n"
          ]
        }
      ]
    },
    {
      "cell_type": "code",
      "source": [
        "#Filter out all even numbers from a list"
      ],
      "metadata": {
        "id": "6dcHwlFU8j5O"
      },
      "execution_count": null,
      "outputs": []
    },
    {
      "cell_type": "code",
      "source": [
        "# Sample list\n",
        "my_list = [3, 7, 2, 8, 5]\n",
        "\n",
        "# Filter out even numbers using list comprehension\n",
        "filtered_list = [element for element in my_list if element % 2 != 0]\n",
        "\n",
        "# Displaying the new list with odd numbers\n",
        "print(\"Original list:\", my_list)\n",
        "print(\"List with even numbers filtered out:\", filtered_list)\n"
      ],
      "metadata": {
        "colab": {
          "base_uri": "https://localhost:8080/"
        },
        "id": "6EpHdBM_8nTG",
        "outputId": "2940d28c-1853-4f9a-f3db-21d6b249edd7"
      },
      "execution_count": null,
      "outputs": [
        {
          "output_type": "stream",
          "name": "stdout",
          "text": [
            "Original list: [3, 7, 2, 8, 5]\n",
            "List with even numbers filtered out: [3, 7, 5]\n"
          ]
        }
      ]
    },
    {
      "cell_type": "code",
      "source": [
        "#Convert a list of strings to a list of integers"
      ],
      "metadata": {
        "id": "gt5egIvO8sWm"
      },
      "execution_count": null,
      "outputs": []
    },
    {
      "cell_type": "code",
      "source": [
        "# Sample list of strings\n",
        "string_list = ['1', '2', '3', '4', '5']\n",
        "\n",
        "# Convert the list of strings to a list of integers\n",
        "integer_list = [int(element) for element in string_list]\n",
        "\n",
        "# Displaying the new list of integers\n",
        "print(\"Original list of strings:\", string_list)\n",
        "print(\"List of integers:\", integer_list)\n"
      ],
      "metadata": {
        "colab": {
          "base_uri": "https://localhost:8080/"
        },
        "id": "7-lvNwlF8x4O",
        "outputId": "14ff1611-20e4-4044-9282-10dbb0be8195"
      },
      "execution_count": null,
      "outputs": [
        {
          "output_type": "stream",
          "name": "stdout",
          "text": [
            "Original list of strings: ['1', '2', '3', '4', '5']\n",
            "List of integers: [1, 2, 3, 4, 5]\n"
          ]
        }
      ]
    },
    {
      "cell_type": "code",
      "source": [
        "#Convert a list of integers to a list of strings"
      ],
      "metadata": {
        "id": "di5DOglI82ZG"
      },
      "execution_count": null,
      "outputs": []
    },
    {
      "cell_type": "code",
      "source": [
        "# Sample list of integers\n",
        "integer_list = [1, 2, 3, 4, 5]\n",
        "\n",
        "# Convert the list of integers to a list of strings\n",
        "string_list = [str(element) for element in integer_list]\n",
        "\n",
        "# Displaying the new list of strings\n",
        "print(\"Original list of integers:\", integer_list)\n",
        "print(\"List of strings:\", string_list)\n"
      ],
      "metadata": {
        "colab": {
          "base_uri": "https://localhost:8080/"
        },
        "id": "Ve1TGSNO85RM",
        "outputId": "ac1a58d4-143a-463e-ae22-9e5c9422a568"
      },
      "execution_count": null,
      "outputs": [
        {
          "output_type": "stream",
          "name": "stdout",
          "text": [
            "Original list of integers: [1, 2, 3, 4, 5]\n",
            "List of strings: ['1', '2', '3', '4', '5']\n"
          ]
        }
      ]
    },
    {
      "cell_type": "code",
      "source": [
        "#Flatten a nested list.\n"
      ],
      "metadata": {
        "id": "-koFvXBU891n"
      },
      "execution_count": null,
      "outputs": []
    },
    {
      "cell_type": "code",
      "source": [
        "# Sample nested list\n",
        "nested_list = [[1, 2, 3], [4, 5, 6], [7, 8, 9]]\n",
        "\n",
        "# Flatten the nested list using nested list comprehension\n",
        "flattened_list = [element for sublist in nested_list for element in sublist]\n",
        "\n",
        "# Displaying the flattened list\n",
        "print(\"Original nested list:\", nested_list)\n",
        "print(\"Flattened list:\", flattened_list)\n"
      ],
      "metadata": {
        "colab": {
          "base_uri": "https://localhost:8080/"
        },
        "id": "jQsiPBLT9BoW",
        "outputId": "b565b907-2914-46ea-975b-55cafb757ef6"
      },
      "execution_count": null,
      "outputs": [
        {
          "output_type": "stream",
          "name": "stdout",
          "text": [
            "Original nested list: [[1, 2, 3], [4, 5, 6], [7, 8, 9]]\n",
            "Flattened list: [1, 2, 3, 4, 5, 6, 7, 8, 9]\n"
          ]
        }
      ]
    },
    {
      "cell_type": "code",
      "source": [
        "#Create a list of the first 10 Fibonacci numbers"
      ],
      "metadata": {
        "id": "UVoOZooU9GcR"
      },
      "execution_count": null,
      "outputs": []
    },
    {
      "cell_type": "code",
      "source": [
        "# Function to generate the first n Fibonacci numbers\n",
        "def generate_fibonacci(n):\n",
        "    fibonacci_list = [0, 1]\n",
        "    for _ in range(2, n):\n",
        "        next_fibonacci = fibonacci_list[-1] + fibonacci_list[-2]\n",
        "        fibonacci_list.append(next_fibonacci)\n",
        "    return fibonacci_list\n",
        "\n",
        "# Generate the first 10 Fibonacci numbers\n",
        "first_10_fibonacci = generate_fibonacci(10)\n",
        "\n",
        "# Displaying the list\n",
        "print(\"First 10 Fibonacci numbers:\", first_10_fibonacci)\n"
      ],
      "metadata": {
        "colab": {
          "base_uri": "https://localhost:8080/"
        },
        "id": "qZtiYnOO9KEE",
        "outputId": "4e272fcf-7af7-45e3-e693-155196836d54"
      },
      "execution_count": null,
      "outputs": [
        {
          "output_type": "stream",
          "name": "stdout",
          "text": [
            "First 10 Fibonacci numbers: [0, 1, 1, 2, 3, 5, 8, 13, 21, 34]\n"
          ]
        }
      ]
    },
    {
      "cell_type": "code",
      "source": [
        "#Check if a list is sorted."
      ],
      "metadata": {
        "id": "j9f-y0Bz9PF9"
      },
      "execution_count": null,
      "outputs": []
    },
    {
      "cell_type": "code",
      "source": [
        "def is_sorted(input_list):\n",
        "    return all(input_list[i] <= input_list[i+1] for i in range(len(input_list)-1))\n",
        "\n",
        "# Example usage\n",
        "sorted_list = [1, 2, 3, 4, 5]\n",
        "unsorted_list = [5, 3, 2, 4, 1]\n",
        "\n",
        "print(\"Is the sorted list sorted?\", is_sorted(sorted_list))  # True\n",
        "print(\"Is the unsorted list sorted?\", is_sorted(unsorted_list))  # False\n"
      ],
      "metadata": {
        "colab": {
          "base_uri": "https://localhost:8080/"
        },
        "id": "llEdJxo09SpM",
        "outputId": "d048a40c-e13e-4515-9a6d-abda7dd111fc"
      },
      "execution_count": null,
      "outputs": [
        {
          "output_type": "stream",
          "name": "stdout",
          "text": [
            "Is the sorted list sorted? True\n",
            "Is the unsorted list sorted? False\n"
          ]
        }
      ]
    },
    {
      "cell_type": "code",
      "source": [
        "#Rotate a list to the left by `n` positions"
      ],
      "metadata": {
        "id": "nDA7YBEh9cvV"
      },
      "execution_count": null,
      "outputs": []
    },
    {
      "cell_type": "code",
      "source": [
        "def rotate_left(input_list, n):\n",
        "    # Calculate the effective rotation index\n",
        "    n = n % len(input_list)\n",
        "\n",
        "    # Perform the rotation using slicing\n",
        "    rotated_list = input_list[n:] + input_list[:n]\n",
        "\n",
        "    return rotated_list\n",
        "\n",
        "# Example usage\n",
        "original_list = [1, 2, 3, 4, 5]\n",
        "\n",
        "# Rotate the list to the left by 2 positions\n",
        "rotated_list = rotate_left(original_list, 2)\n",
        "\n",
        "# Displaying the rotated list\n",
        "print(\"Original list:\", original_list)\n",
        "print(\"Rotated list:\", rotated_list)\n"
      ],
      "metadata": {
        "colab": {
          "base_uri": "https://localhost:8080/"
        },
        "id": "aSZCraej9ijp",
        "outputId": "928f1926-e980-48f4-d2b3-98dfa5deb0c4"
      },
      "execution_count": null,
      "outputs": [
        {
          "output_type": "stream",
          "name": "stdout",
          "text": [
            "Original list: [1, 2, 3, 4, 5]\n",
            "Rotated list: [3, 4, 5, 1, 2]\n"
          ]
        }
      ]
    },
    {
      "cell_type": "code",
      "source": [
        "#Rotate a list to the right by `n` positions."
      ],
      "metadata": {
        "id": "Pfm-_WYO9nWi"
      },
      "execution_count": null,
      "outputs": []
    },
    {
      "cell_type": "code",
      "source": [
        "def rotate_right(input_list, n):\n",
        "    # Calculate the effective rotation index\n",
        "    n = n % len(input_list)\n",
        "\n",
        "    # Perform the rotation using slicing\n",
        "    rotated_list = input_list[-n:] + input_list[:-n]\n",
        "\n",
        "    return rotated_list\n",
        "\n",
        "# Example usage\n",
        "original_list = [1, 2, 3, 4, 5]\n",
        "\n",
        "# Rotate the list to the right by 2 positions\n",
        "rotated_list = rotate_right(original_list, 2)\n",
        "\n",
        "# Displaying the rotated list\n",
        "print(\"Original list:\", original_list)\n",
        "print(\"Rotated list:\", rotated_list)\n"
      ],
      "metadata": {
        "colab": {
          "base_uri": "https://localhost:8080/"
        },
        "id": "0GnJlP839qmD",
        "outputId": "53e0e701-a7d7-4a99-bff0-3f13eed1a90e"
      },
      "execution_count": null,
      "outputs": [
        {
          "output_type": "stream",
          "name": "stdout",
          "text": [
            "Original list: [1, 2, 3, 4, 5]\n",
            "Rotated list: [4, 5, 1, 2, 3]\n"
          ]
        }
      ]
    },
    {
      "cell_type": "code",
      "source": [
        "#Create a list of prime numbers up to 50"
      ],
      "metadata": {
        "id": "ht7x4CAP9v0Q"
      },
      "execution_count": null,
      "outputs": []
    },
    {
      "cell_type": "code",
      "source": [
        "def is_prime(num):\n",
        "    if num < 2:\n",
        "        return False\n",
        "    for i in range(2, int(num**0.5) + 1):\n",
        "        if num % i == 0:\n",
        "            return False\n",
        "    return True\n",
        "\n",
        "# Create a list of prime numbers up to 50\n",
        "prime_numbers_up_to_50 = [num for num in range(2, 51) if is_prime(num)]\n",
        "\n",
        "# Displaying the list of prime numbers\n",
        "print(\"Prime numbers up to 50:\", prime_numbers_up_to_50)\n"
      ],
      "metadata": {
        "colab": {
          "base_uri": "https://localhost:8080/"
        },
        "id": "vKtOAEGl9zUj",
        "outputId": "b0e14788-c659-4dd0-d04a-42f10dd7d182"
      },
      "execution_count": null,
      "outputs": [
        {
          "output_type": "stream",
          "name": "stdout",
          "text": [
            "Prime numbers up to 50: [2, 3, 5, 7, 11, 13, 17, 19, 23, 29, 31, 37, 41, 43, 47]\n"
          ]
        }
      ]
    },
    {
      "cell_type": "code",
      "source": [
        "#Split a list into chunks of size `n`.\n"
      ],
      "metadata": {
        "id": "0btsWW2C932N"
      },
      "execution_count": null,
      "outputs": []
    },
    {
      "cell_type": "code",
      "source": [
        "def split_into_chunks(input_list, chunk_size):\n",
        "    # Check for valid chunk size\n",
        "    if chunk_size <= 0:\n",
        "        raise ValueError(\"Chunk size must be greater than 0.\")\n",
        "\n",
        "    # Split the list into chunks using a loop\n",
        "    chunks = [input_list[i:i + chunk_size] for i in range(0, len(input_list), chunk_size)]\n",
        "\n",
        "    return chunks\n",
        "\n",
        "# Example usage\n",
        "original_list = [1, 2, 3, 4, 5, 6, 7, 8, 9, 10]\n",
        "\n",
        "# Split the list into chunks of size 3\n",
        "result_chunks = split_into_chunks(original_list, 3)\n",
        "\n",
        "# Displaying the result\n",
        "print(\"Original list:\", original_list)\n",
        "print(\"List split into chunks of size 3:\", result_chunks)\n"
      ],
      "metadata": {
        "colab": {
          "base_uri": "https://localhost:8080/"
        },
        "id": "YO2KYHY397AM",
        "outputId": "48b575bb-a373-4110-900e-0e7112cc1fc5"
      },
      "execution_count": null,
      "outputs": [
        {
          "output_type": "stream",
          "name": "stdout",
          "text": [
            "Original list: [1, 2, 3, 4, 5, 6, 7, 8, 9, 10]\n",
            "List split into chunks of size 3: [[1, 2, 3], [4, 5, 6], [7, 8, 9], [10]]\n"
          ]
        }
      ]
    },
    {
      "cell_type": "code",
      "source": [
        "#Find the second largest number in a list."
      ],
      "metadata": {
        "id": "9Uz0iVEK-Chd"
      },
      "execution_count": null,
      "outputs": []
    },
    {
      "cell_type": "code",
      "source": [
        "def second_largest(input_list):\n",
        "    # Check if the list has at least two elements\n",
        "    if len(input_list) < 2:\n",
        "        raise ValueError(\"List must have at least two elements.\")\n",
        "\n",
        "    # Sort the list in descending order and return the second element\n",
        "    sorted_list = sorted(input_list, reverse=True)\n",
        "    return sorted_list[1]\n",
        "\n",
        "# Example usage\n",
        "my_list = [5, 8, 2, 10, 3, 7]\n",
        "\n",
        "# Find the second-largest number\n",
        "result = second_largest(my_list)\n",
        "\n",
        "# Displaying the result\n",
        "print(\"Original list:\", my_list)\n",
        "print(\"Second-largest number:\", result)\n"
      ],
      "metadata": {
        "id": "BRVgaf7X-JB1",
        "outputId": "ded2446b-9d17-42d9-c32a-e5ccd145957c",
        "colab": {
          "base_uri": "https://localhost:8080/"
        }
      },
      "execution_count": null,
      "outputs": [
        {
          "output_type": "stream",
          "name": "stdout",
          "text": [
            "Original list: [5, 8, 2, 10, 3, 7]\n",
            "Second-largest number: 8\n"
          ]
        }
      ]
    },
    {
      "cell_type": "code",
      "source": [
        "#Replace every element in a list with its square."
      ],
      "metadata": {
        "id": "Uou5QXmN-OiY"
      },
      "execution_count": null,
      "outputs": []
    },
    {
      "cell_type": "code",
      "source": [
        "# Original list\n",
        "original_list = [1, 2, 3, 4, 5]\n",
        "\n",
        "# Squaring each element\n",
        "squared_list = [x**2 for x in original_list]\n",
        "\n",
        "# Displaying the squared list\n",
        "print(squared_list)\n"
      ],
      "metadata": {
        "colab": {
          "base_uri": "https://localhost:8080/"
        },
        "id": "kB5PL4LmMRJT",
        "outputId": "8ceaaa05-df55-4524-fe94-668a69e31bbb"
      },
      "execution_count": null,
      "outputs": [
        {
          "output_type": "stream",
          "name": "stdout",
          "text": [
            "[1, 4, 9, 16, 25]\n"
          ]
        }
      ]
    },
    {
      "cell_type": "code",
      "source": [
        "#Convert a list to a dictionary where list elements become keys and their indices become values."
      ],
      "metadata": {
        "id": "xOBvGS75MZWL"
      },
      "execution_count": null,
      "outputs": []
    },
    {
      "cell_type": "code",
      "source": [
        "# Original list\n",
        "original_list = ['apple', 'banana', 'orange', 'grape']\n",
        "\n",
        "# Converting the list to a dictionary\n",
        "result_dict = {element: index for index, element in enumerate(original_list)}\n",
        "\n",
        "# Displaying the resulting dictionary\n",
        "print(result_dict)\n"
      ],
      "metadata": {
        "colab": {
          "base_uri": "https://localhost:8080/"
        },
        "id": "WFjaxtaAMitn",
        "outputId": "795903cf-e5b6-450c-a18f-579dffa08705"
      },
      "execution_count": null,
      "outputs": [
        {
          "output_type": "stream",
          "name": "stdout",
          "text": [
            "{'apple': 0, 'banana': 1, 'orange': 2, 'grape': 3}\n"
          ]
        }
      ]
    },
    {
      "cell_type": "code",
      "source": [
        "#Shuffle the elements of a list randomly.\n"
      ],
      "metadata": {
        "id": "DW3e7LRAMvOn"
      },
      "execution_count": null,
      "outputs": []
    },
    {
      "cell_type": "code",
      "source": [
        "import random\n",
        "\n",
        "# Original list\n",
        "original_list = [1, 2, 3, 4, 5]\n",
        "\n",
        "# Shuffling the list randomly\n",
        "random.shuffle(original_list)\n",
        "\n",
        "# Displaying the shuffled list\n",
        "print(original_list)\n"
      ],
      "metadata": {
        "colab": {
          "base_uri": "https://localhost:8080/"
        },
        "id": "jytvSNpMMzRj",
        "outputId": "18b78faf-39ed-4d07-fa69-f12254734248"
      },
      "execution_count": null,
      "outputs": [
        {
          "output_type": "stream",
          "name": "stdout",
          "text": [
            "[4, 1, 3, 2, 5]\n"
          ]
        }
      ]
    },
    {
      "cell_type": "code",
      "source": [
        "#Create a list of the first 10 factorial numbers"
      ],
      "metadata": {
        "id": "5ErmBh74M3Aq"
      },
      "execution_count": null,
      "outputs": []
    },
    {
      "cell_type": "code",
      "source": [
        "import math\n",
        "\n",
        "# Creating a list of the first 10 factorial numbers\n",
        "factorial_numbers = [math.factorial(i) for i in range(1, 11)]\n",
        "\n",
        "# Displaying the list\n",
        "print(factorial_numbers)\n"
      ],
      "metadata": {
        "colab": {
          "base_uri": "https://localhost:8080/"
        },
        "id": "Xq0less2M8M0",
        "outputId": "082df3e3-8117-497f-91c9-30991997f4fd"
      },
      "execution_count": null,
      "outputs": [
        {
          "output_type": "stream",
          "name": "stdout",
          "text": [
            "[1, 2, 6, 24, 120, 720, 5040, 40320, 362880, 3628800]\n"
          ]
        }
      ]
    },
    {
      "cell_type": "code",
      "source": [
        "#Check if two lists have at least one element in common."
      ],
      "metadata": {
        "id": "1GthgSzuNAGk"
      },
      "execution_count": null,
      "outputs": []
    },
    {
      "cell_type": "code",
      "source": [
        "# Two lists\n",
        "list1 = [1, 2, 3, 4, 5]\n",
        "list2 = [5, 6, 7, 8, 9]\n",
        "\n",
        "# Check if there is at least one common element\n",
        "common_elements = set(list1) & set(list2)\n",
        "\n",
        "if common_elements:\n",
        "    print(\"The lists have at least one common element:\", common_elements)\n",
        "else:\n",
        "    print(\"The lists do not have any common elements.\")\n"
      ],
      "metadata": {
        "colab": {
          "base_uri": "https://localhost:8080/"
        },
        "id": "aEi7TGSRNDwY",
        "outputId": "fe41a9f3-b033-4443-9dfb-088c1bf3bd65"
      },
      "execution_count": null,
      "outputs": [
        {
          "output_type": "stream",
          "name": "stdout",
          "text": [
            "The lists have at least one common element: {5}\n"
          ]
        }
      ]
    },
    {
      "cell_type": "code",
      "source": [
        "#Remove all elements from a list"
      ],
      "metadata": {
        "id": "quMcuBX_NIKL"
      },
      "execution_count": null,
      "outputs": []
    },
    {
      "cell_type": "code",
      "source": [
        "# Original list\n",
        "my_list = [1, 2, 3, 4, 5]\n",
        "\n",
        "# Remove all elements from the list by assigning an empty list\n",
        "my_list = []\n",
        "\n",
        "# Display the modified list\n",
        "print(my_list)\n"
      ],
      "metadata": {
        "colab": {
          "base_uri": "https://localhost:8080/"
        },
        "id": "EuIbF_haNLto",
        "outputId": "3d6d9694-77b2-4596-841d-542a8e012c90"
      },
      "execution_count": null,
      "outputs": [
        {
          "output_type": "stream",
          "name": "stdout",
          "text": [
            "[]\n"
          ]
        }
      ]
    },
    {
      "cell_type": "code",
      "source": [
        "#Replace negative numbers in a list with 0"
      ],
      "metadata": {
        "id": "nCN8qhaVNSpT"
      },
      "execution_count": null,
      "outputs": []
    },
    {
      "cell_type": "code",
      "source": [
        "# Original list with negative numbers\n",
        "original_list = [1, -2, 3, -4, 5, -6]\n",
        "\n",
        "# Replace negative numbers with 0\n",
        "modified_list = [max(0, x) for x in original_list]\n",
        "\n",
        "# Display the modified list\n",
        "print(modified_list)\n"
      ],
      "metadata": {
        "colab": {
          "base_uri": "https://localhost:8080/"
        },
        "id": "Aa0kKtcXNWYo",
        "outputId": "8c705a07-4684-469a-c40e-41af80efe294"
      },
      "execution_count": null,
      "outputs": [
        {
          "output_type": "stream",
          "name": "stdout",
          "text": [
            "[1, 0, 3, 0, 5, 0]\n"
          ]
        }
      ]
    },
    {
      "cell_type": "code",
      "source": [
        "# Convert a string into a list of words.\n"
      ],
      "metadata": {
        "id": "BiKHIHlnNaUF"
      },
      "execution_count": null,
      "outputs": []
    },
    {
      "cell_type": "code",
      "source": [
        "# Original string\n",
        "original_string = \"This is a sample string.\"\n",
        "\n",
        "# Convert the string into a list of words\n",
        "word_list = original_string.split()\n",
        "\n",
        "# Display the list of words\n",
        "print(word_list)\n"
      ],
      "metadata": {
        "colab": {
          "base_uri": "https://localhost:8080/"
        },
        "id": "sBwLHwR3NeYI",
        "outputId": "bdeede23-033f-4c53-b81d-195ef640239b"
      },
      "execution_count": null,
      "outputs": [
        {
          "output_type": "stream",
          "name": "stdout",
          "text": [
            "['This', 'is', 'a', 'sample', 'string.']\n"
          ]
        }
      ]
    },
    {
      "cell_type": "code",
      "source": [
        "#Convert a list of words into a string"
      ],
      "metadata": {
        "id": "FHa-dYb9Niob"
      },
      "execution_count": null,
      "outputs": []
    },
    {
      "cell_type": "code",
      "source": [
        "# Original list of words\n",
        "word_list = [\"This\", \"is\", \"a\", \"sample\", \"list\"]\n",
        "\n",
        "# Convert the list of words into a string\n",
        "result_string = ' '.join(word_list)\n",
        "\n",
        "# Display the resulting string\n",
        "print(result_string)\n"
      ],
      "metadata": {
        "colab": {
          "base_uri": "https://localhost:8080/"
        },
        "id": "TUtbVY5QNmqD",
        "outputId": "9885ecb6-c9dd-48ad-c909-679b1a57015f"
      },
      "execution_count": null,
      "outputs": [
        {
          "output_type": "stream",
          "name": "stdout",
          "text": [
            "This is a sample list\n"
          ]
        }
      ]
    },
    {
      "cell_type": "code",
      "source": [
        "#Create a list of the first `n` powers of 2"
      ],
      "metadata": {
        "id": "qUSjwDXyNvCa"
      },
      "execution_count": null,
      "outputs": []
    },
    {
      "cell_type": "code",
      "source": [
        "# Define the value of n\n",
        "n = 5  # Example: Get the first 5 powers of 2\n",
        "\n",
        "# Create a list of the first n powers of 2\n",
        "powers_of_2 = [2 ** i for i in range(n)]\n",
        "\n",
        "# Display the list of powers of 2\n",
        "print(powers_of_2)\n"
      ],
      "metadata": {
        "colab": {
          "base_uri": "https://localhost:8080/"
        },
        "id": "YZjVAigIN3fm",
        "outputId": "9516ee91-07c3-4df5-aa27-49251a12ee52"
      },
      "execution_count": null,
      "outputs": [
        {
          "output_type": "stream",
          "name": "stdout",
          "text": [
            "[1, 2, 4, 8, 16]\n"
          ]
        }
      ]
    },
    {
      "cell_type": "code",
      "source": [
        "#Find the longest string in a list of strings."
      ],
      "metadata": {
        "id": "-On9Y09hN-pY"
      },
      "execution_count": null,
      "outputs": []
    },
    {
      "cell_type": "code",
      "source": [
        "# Original list of strings\n",
        "string_list = [\"apple\", \"banana\", \"kiwi\", \"strawberry\", \"orange\"]\n",
        "\n",
        "# Find the longest string in the list\n",
        "longest_string = max(string_list, key=len)\n",
        "\n",
        "# Display the longest string\n",
        "print(\"The longest string is:\", longest_string)\n"
      ],
      "metadata": {
        "colab": {
          "base_uri": "https://localhost:8080/"
        },
        "id": "Tg8IrRrkOE1U",
        "outputId": "18c55290-8fc7-486f-8a21-7e2be2fa33c6"
      },
      "execution_count": null,
      "outputs": [
        {
          "output_type": "stream",
          "name": "stdout",
          "text": [
            "The longest string is: strawberry\n"
          ]
        }
      ]
    },
    {
      "cell_type": "code",
      "source": [
        "#Find the shortest string in a list of strings"
      ],
      "metadata": {
        "id": "GRshk0IjOMZO"
      },
      "execution_count": null,
      "outputs": []
    },
    {
      "cell_type": "code",
      "source": [
        "# Original list of strings\n",
        "string_list = [\"apple\", \"banana\", \"kiwi\", \"strawberry\", \"orange\"]\n",
        "\n",
        "# Find the shortest string in the list\n",
        "shortest_string = min(string_list, key=len)\n",
        "\n",
        "# Display the shortest string\n",
        "print(\"The shortest string is:\", shortest_string)\n"
      ],
      "metadata": {
        "colab": {
          "base_uri": "https://localhost:8080/"
        },
        "id": "Y6bjhD2VOT_R",
        "outputId": "f0d2d168-b1de-4933-d888-4c16d056826e"
      },
      "execution_count": null,
      "outputs": [
        {
          "output_type": "stream",
          "name": "stdout",
          "text": [
            "The shortest string is: kiwi\n"
          ]
        }
      ]
    },
    {
      "cell_type": "code",
      "source": [
        "#Create a list of the first `n` triangular numbers.\n"
      ],
      "metadata": {
        "id": "5QV7uDNEOX3P"
      },
      "execution_count": null,
      "outputs": []
    },
    {
      "cell_type": "code",
      "source": [
        "# Define the value of n\n",
        "n = 5  # You can change this to the desired number of triangular numbers\n",
        "\n",
        "# Create a list of the first n triangular numbers\n",
        "triangular_numbers = [(i * (i + 1)) // 2 for i in range(1, n + 1)]\n",
        "\n",
        "# Display the list of triangular numbers\n",
        "print(triangular_numbers)\n"
      ],
      "metadata": {
        "colab": {
          "base_uri": "https://localhost:8080/"
        },
        "id": "131vr2CxOmJM",
        "outputId": "5ae15665-6db9-43b4-e0e8-0c16b7e3ad39"
      },
      "execution_count": null,
      "outputs": [
        {
          "output_type": "stream",
          "name": "stdout",
          "text": [
            "[1, 3, 6, 10, 15]\n"
          ]
        }
      ]
    },
    {
      "cell_type": "code",
      "source": [
        "#Check if a list contains another list as a subsequence.\n"
      ],
      "metadata": {
        "id": "gyvtswXMOtDi"
      },
      "execution_count": null,
      "outputs": []
    },
    {
      "cell_type": "code",
      "source": [
        "def is_subsequence(subseq, main_list):\n",
        "    subseq_len = len(subseq)\n",
        "    main_len = len(main_list)\n",
        "\n",
        "    # Edge case: an empty subsequence is always a subsequence\n",
        "    if subseq_len == 0:\n",
        "        return True\n",
        "\n",
        "    # Initialize indices for both lists\n",
        "    subseq_index = 0\n",
        "    main_index = 0\n",
        "\n",
        "    # Iterate through the main list\n",
        "    while main_index < main_len:\n",
        "        # If the current element in the main list matches the current element in the subsequence\n",
        "        if main_list[main_index] == subseq[subseq_index]:\n",
        "            subseq_index += 1  # Move to the next element in the subsequence\n",
        "\n",
        "            # If all elements of the subsequence are found\n",
        "            if subseq_index == subseq_len:\n",
        "                return True\n",
        "\n",
        "        main_index += 1  # Move to the next element in the main list\n",
        "\n",
        "    return False  # Subsequence not found\n",
        "\n",
        "# Example usage\n",
        "main_list = [1, 2, 3, 4, 5, 6, 7]\n",
        "subsequence = [3, 5, 7]\n",
        "\n",
        "result = is_subsequence(subsequence, main_list)\n",
        "\n",
        "if result:\n",
        "    print(\"The subsequence is present in the main list.\")\n",
        "else:\n",
        "    print(\"The subsequence is not present in the main list.\")\n"
      ],
      "metadata": {
        "colab": {
          "base_uri": "https://localhost:8080/"
        },
        "id": "WaEhUxklOwlc",
        "outputId": "ac25d169-83ca-4fdc-f116-e2019c730e2b"
      },
      "execution_count": null,
      "outputs": [
        {
          "output_type": "stream",
          "name": "stdout",
          "text": [
            "The subsequence is present in the main list.\n"
          ]
        }
      ]
    },
    {
      "cell_type": "code",
      "source": [
        "#Swap two elements in a list by their indices."
      ],
      "metadata": {
        "id": "gsp19DUoO1eR"
      },
      "execution_count": null,
      "outputs": []
    },
    {
      "cell_type": "code",
      "source": [
        "# Original list\n",
        "my_list = [10, 20, 30, 40, 50]\n",
        "\n",
        "# Indices of the elements to swap\n",
        "index1 = 1\n",
        "index2 = 3\n",
        "\n",
        "# Check if the indices are valid\n",
        "if 0 <= index1 < len(my_list) and 0 <= index2 < len(my_list):\n",
        "    # Swap the elements by their indices\n",
        "    my_list[index1], my_list[index2] = my_list[index2], my_list[index1]\n",
        "\n",
        "    # Display the modified list\n",
        "    print(my_list)\n",
        "else:\n",
        "    print(\"Invalid indices for swapping.\")\n",
        "\n"
      ],
      "metadata": {
        "colab": {
          "base_uri": "https://localhost:8080/"
        },
        "id": "tJa525jdPLqw",
        "outputId": "fbff9ac4-574e-4e01-c1fb-4483341d673d"
      },
      "execution_count": null,
      "outputs": [
        {
          "output_type": "stream",
          "name": "stdout",
          "text": [
            "[10, 40, 30, 20, 50]\n"
          ]
        }
      ]
    },
    {
      "cell_type": "code",
      "source": [
        "#Tuple Based Practice Problem"
      ],
      "metadata": {
        "id": "Ie41wm6qPP7c"
      },
      "execution_count": null,
      "outputs": []
    },
    {
      "cell_type": "code",
      "source": [
        "#Create a tuple with integers from 1 to 5.\n"
      ],
      "metadata": {
        "id": "f3G4Q5IUPaZl"
      },
      "execution_count": null,
      "outputs": []
    },
    {
      "cell_type": "code",
      "source": [
        "# Create a tuple with integers from 1 to 5\n",
        "my_tuple = (1, 2, 3, 4, 5)\n",
        "\n",
        "# Display the tuple\n",
        "print(my_tuple)\n"
      ],
      "metadata": {
        "colab": {
          "base_uri": "https://localhost:8080/"
        },
        "id": "mIXn4VdmPfIc",
        "outputId": "d807a727-43ec-4b39-b310-e1ae405d6f82"
      },
      "execution_count": null,
      "outputs": [
        {
          "output_type": "stream",
          "name": "stdout",
          "text": [
            "(1, 2, 3, 4, 5)\n"
          ]
        }
      ]
    },
    {
      "cell_type": "code",
      "source": [
        "#Access the third element of a tuple.\n"
      ],
      "metadata": {
        "id": "aQwgRGKxPmLU"
      },
      "execution_count": null,
      "outputs": []
    },
    {
      "cell_type": "code",
      "source": [
        "# Example tuple\n",
        "my_tuple = (10, 20, 30, 40, 50)\n",
        "\n",
        "# Access the third element (index 2) of the tuple\n",
        "third_element = my_tuple[2]\n",
        "\n",
        "# Display the result\n",
        "print(\"The third element of the tuple is:\", third_element)\n"
      ],
      "metadata": {
        "colab": {
          "base_uri": "https://localhost:8080/"
        },
        "id": "Vk0Cb0-aPp2n",
        "outputId": "ac8c4e06-f60a-4856-b6ff-796e40e56ef0"
      },
      "execution_count": null,
      "outputs": [
        {
          "output_type": "stream",
          "name": "stdout",
          "text": [
            "The third element of the tuple is: 30\n"
          ]
        }
      ]
    },
    {
      "cell_type": "code",
      "source": [
        "#Find the length of a tuple without using the `len()` function."
      ],
      "metadata": {
        "id": "cXGyK-ebPtXW"
      },
      "execution_count": null,
      "outputs": []
    },
    {
      "cell_type": "code",
      "source": [
        "# Example tuple\n",
        "my_tuple = (10, 20, 30, 40, 50)\n",
        "\n",
        "# Find the length of the tuple without using len()\n",
        "tuple_length = 0\n",
        "for _ in my_tuple:\n",
        "    tuple_length += 1\n",
        "\n",
        "# Display the length of the tuple\n",
        "print(\"The length of the tuple is:\", tuple_length)\n"
      ],
      "metadata": {
        "colab": {
          "base_uri": "https://localhost:8080/"
        },
        "id": "SC3Hg0Y1P5MN",
        "outputId": "2d615687-d334-4600-f9b0-7f2c2bb109bc"
      },
      "execution_count": null,
      "outputs": [
        {
          "output_type": "stream",
          "name": "stdout",
          "text": [
            "The length of the tuple is: 5\n"
          ]
        }
      ]
    },
    {
      "cell_type": "code",
      "source": [
        "#Count the occurrences of an element in a tuple.\n"
      ],
      "metadata": {
        "id": "0-6kBgt5P-RK"
      },
      "execution_count": null,
      "outputs": []
    },
    {
      "cell_type": "code",
      "source": [
        "# Example tuple\n",
        "my_tuple = (10, 20, 30, 20, 40, 20, 50)\n",
        "\n",
        "# Element to count\n",
        "element_to_count = 20\n",
        "\n",
        "# Count occurrences of the element in the tuple\n",
        "occurrences = my_tuple.count(element_to_count)\n",
        "\n",
        "# Display the result\n",
        "print(f\"The element {element_to_count} occurs {occurrences} times in the tuple.\")\n"
      ],
      "metadata": {
        "colab": {
          "base_uri": "https://localhost:8080/"
        },
        "id": "nRX0Q7_RQDB4",
        "outputId": "dd142adb-3773-4871-f8dd-4ab40a95ffe1"
      },
      "execution_count": null,
      "outputs": [
        {
          "output_type": "stream",
          "name": "stdout",
          "text": [
            "The element 20 occurs 3 times in the tuple.\n"
          ]
        }
      ]
    },
    {
      "cell_type": "code",
      "source": [
        "#Find the index of the first occurrence of an element in a tuple"
      ],
      "metadata": {
        "id": "aXrxHCUWQIcc"
      },
      "execution_count": null,
      "outputs": []
    },
    {
      "cell_type": "code",
      "source": [
        "# Example tuple\n",
        "my_tuple = (10, 20, 30, 20, 40, 20, 50)\n",
        "\n",
        "# Element to find\n",
        "element_to_find = 20\n",
        "\n",
        "# Find the index of the first occurrence of the element in the tuple\n",
        "index_of_first_occurrence = my_tuple.index(element_to_find)\n",
        "\n",
        "# Display the result\n",
        "print(f\"The index of the first occurrence of {element_to_find} is: {index_of_first_occurrence}\")\n"
      ],
      "metadata": {
        "colab": {
          "base_uri": "https://localhost:8080/"
        },
        "id": "8Vkv2ox5QNAs",
        "outputId": "32ef36d6-411f-47da-e97a-fdb2cff1e480"
      },
      "execution_count": null,
      "outputs": [
        {
          "output_type": "stream",
          "name": "stdout",
          "text": [
            "The index of the first occurrence of 20 is: 1\n"
          ]
        }
      ]
    },
    {
      "cell_type": "code",
      "source": [
        "#. Check if an element exists in a tuple.\n"
      ],
      "metadata": {
        "id": "_1zcrar-QVSO"
      },
      "execution_count": null,
      "outputs": []
    },
    {
      "cell_type": "code",
      "source": [
        "# Example tuple\n",
        "my_tuple = (10, 20, 30, 40, 50)\n",
        "\n",
        "# Element to check\n",
        "element_to_check = 30\n",
        "\n",
        "# Check if the element exists in the tuple\n",
        "if element_to_check in my_tuple:\n",
        "    print(f\"The element {element_to_check} exists in the tuple.\")\n",
        "else:\n",
        "    print(f\"The element {element_to_check} does not exist in the tuple.\")\n"
      ],
      "metadata": {
        "colab": {
          "base_uri": "https://localhost:8080/"
        },
        "id": "DIKHtHRUQbEP",
        "outputId": "e000a3c6-06a7-41f4-b814-20e586f29cdd"
      },
      "execution_count": null,
      "outputs": [
        {
          "output_type": "stream",
          "name": "stdout",
          "text": [
            "The element 30 exists in the tuple.\n"
          ]
        }
      ]
    },
    {
      "cell_type": "code",
      "source": [
        "#Convert a tuple to a list."
      ],
      "metadata": {
        "id": "5kcsmCLcQhEL"
      },
      "execution_count": null,
      "outputs": []
    },
    {
      "cell_type": "code",
      "source": [
        "# Example tuple\n",
        "my_tuple = (10, 20, 30, 40, 50)\n",
        "\n",
        "# Convert the tuple to a list\n",
        "my_list = list(my_tuple)\n",
        "\n",
        "# Display the resulting list\n",
        "print(my_list)\n"
      ],
      "metadata": {
        "colab": {
          "base_uri": "https://localhost:8080/"
        },
        "id": "mBHj7DZwQpn-",
        "outputId": "61b1f419-a39a-482a-cd70-e53435b69e47"
      },
      "execution_count": null,
      "outputs": [
        {
          "output_type": "stream",
          "name": "stdout",
          "text": [
            "[10, 20, 30, 40, 50]\n"
          ]
        }
      ]
    },
    {
      "cell_type": "code",
      "source": [
        "#Convert a list to a tuple."
      ],
      "metadata": {
        "id": "Vv1D6EHBQwtE"
      },
      "execution_count": null,
      "outputs": []
    },
    {
      "cell_type": "code",
      "source": [
        "# Example list\n",
        "my_list = [10, 20, 30, 40, 50]\n",
        "\n",
        "# Convert the list to a tuple\n",
        "my_tuple = tuple(my_list)\n",
        "\n",
        "# Display the resulting tuple\n",
        "print(my_tuple)\n"
      ],
      "metadata": {
        "colab": {
          "base_uri": "https://localhost:8080/"
        },
        "id": "1KdAQCJCQ3DW",
        "outputId": "d6e26125-0ba4-4a58-d507-320c61ef447f"
      },
      "execution_count": null,
      "outputs": [
        {
          "output_type": "stream",
          "name": "stdout",
          "text": [
            "(10, 20, 30, 40, 50)\n"
          ]
        }
      ]
    },
    {
      "cell_type": "code",
      "source": [
        "#Unpack the elements of a tuple into variables"
      ],
      "metadata": {
        "id": "UlSf_8ogQ_QZ"
      },
      "execution_count": null,
      "outputs": []
    },
    {
      "cell_type": "code",
      "source": [
        "# Example tuple\n",
        "my_tuple = (10, 20, 30)\n",
        "\n",
        "# Unpack the elements into variables\n",
        "a, b, c = my_tuple\n",
        "\n",
        "# Display the unpacked variables\n",
        "print(\"a =\", a)\n",
        "print(\"b =\", b)\n",
        "print(\"c =\", c)\n"
      ],
      "metadata": {
        "colab": {
          "base_uri": "https://localhost:8080/"
        },
        "id": "fVoMEWLFRD8W",
        "outputId": "06255b46-0641-4b8e-e877-0486f6b26c27"
      },
      "execution_count": null,
      "outputs": [
        {
          "output_type": "stream",
          "name": "stdout",
          "text": [
            "a = 10\n",
            "b = 20\n",
            "c = 30\n"
          ]
        }
      ]
    },
    {
      "cell_type": "code",
      "source": [
        "# Create a tuple of even numbers from 1 to 10.\n"
      ],
      "metadata": {
        "id": "5g88OQ4aRKv-"
      },
      "execution_count": null,
      "outputs": []
    },
    {
      "cell_type": "code",
      "source": [
        "# Create a tuple of even numbers from 1 to 10\n",
        "even_numbers_tuple = tuple(x for x in range(2, 11, 2))\n",
        "\n",
        "# Display the tuple\n",
        "print(even_numbers_tuple)\n"
      ],
      "metadata": {
        "colab": {
          "base_uri": "https://localhost:8080/"
        },
        "id": "Jd2_Ch1-RQ1Y",
        "outputId": "f456be11-4e66-43f2-9372-8bb41603d6c5"
      },
      "execution_count": null,
      "outputs": [
        {
          "output_type": "stream",
          "name": "stdout",
          "text": [
            "(2, 4, 6, 8, 10)\n"
          ]
        }
      ]
    },
    {
      "cell_type": "code",
      "source": [
        "#Create a tuple of odd numbers from 1 to 10.\n"
      ],
      "metadata": {
        "id": "f7JggwOCRV79"
      },
      "execution_count": null,
      "outputs": []
    },
    {
      "cell_type": "code",
      "source": [
        "# Create a tuple of odd numbers from 1 to 10\n",
        "odd_numbers_tuple = tuple(x for x in range(1, 11, 2))\n",
        "\n",
        "# Display the tuple\n",
        "print(odd_numbers_tuple)\n"
      ],
      "metadata": {
        "colab": {
          "base_uri": "https://localhost:8080/"
        },
        "id": "Sj-Ff-nBRbIR",
        "outputId": "c83b215f-ab13-42c4-a021-efc80e4eff99"
      },
      "execution_count": null,
      "outputs": [
        {
          "output_type": "stream",
          "name": "stdout",
          "text": [
            "(1, 3, 5, 7, 9)\n"
          ]
        }
      ]
    },
    {
      "cell_type": "code",
      "source": [
        "#Concatenate two tuples."
      ],
      "metadata": {
        "id": "5Z3HlbszRhX1"
      },
      "execution_count": null,
      "outputs": []
    },
    {
      "cell_type": "code",
      "source": [
        "# Example tuples\n",
        "tuple1 = (1, 2, 3)\n",
        "tuple2 = (4, 5, 6)\n",
        "\n",
        "# Concatenate the two tuples\n",
        "result_tuple = tuple1 + tuple2\n",
        "\n",
        "# Display the concatenated tuple\n",
        "print(result_tuple)\n"
      ],
      "metadata": {
        "colab": {
          "base_uri": "https://localhost:8080/"
        },
        "id": "1IJ5fIEpRo4I",
        "outputId": "d9db52b2-252b-40cc-c3d5-5f21caf988eb"
      },
      "execution_count": null,
      "outputs": [
        {
          "output_type": "stream",
          "name": "stdout",
          "text": [
            "(1, 2, 3, 4, 5, 6)\n"
          ]
        }
      ]
    },
    {
      "cell_type": "code",
      "source": [
        "#Repeat a tuple three times."
      ],
      "metadata": {
        "id": "XUGdT4rxRuai"
      },
      "execution_count": null,
      "outputs": []
    },
    {
      "cell_type": "code",
      "source": [
        "# Example tuple\n",
        "original_tuple = (1, 2, 3)\n",
        "\n",
        "# Repeat the tuple three times\n",
        "repeated_tuple = original_tuple * 3\n",
        "\n",
        "# Display the repeated tuple\n",
        "print(repeated_tuple)\n"
      ],
      "metadata": {
        "colab": {
          "base_uri": "https://localhost:8080/"
        },
        "id": "WR5pfnKHRzgl",
        "outputId": "832549fd-0b66-4d97-b6ee-dbcc37f4c99d"
      },
      "execution_count": null,
      "outputs": [
        {
          "output_type": "stream",
          "name": "stdout",
          "text": [
            "(1, 2, 3, 1, 2, 3, 1, 2, 3)\n"
          ]
        }
      ]
    },
    {
      "cell_type": "code",
      "source": [
        "#Check if a tuple is empty."
      ],
      "metadata": {
        "id": "k1T25PT1SAaI"
      },
      "execution_count": null,
      "outputs": []
    },
    {
      "cell_type": "code",
      "source": [
        "# Example tuple\n",
        "my_tuple = ()\n",
        "\n",
        "# Check if the tuple is empty\n",
        "if not my_tuple:\n",
        "    print(\"The tuple is empty.\")\n",
        "else:\n",
        "    print(\"The tuple is not empty.\")\n"
      ],
      "metadata": {
        "colab": {
          "base_uri": "https://localhost:8080/"
        },
        "id": "q1LofaemSO5q",
        "outputId": "ed9d3b84-028e-4f4f-959a-30c085f6e784"
      },
      "execution_count": null,
      "outputs": [
        {
          "output_type": "stream",
          "name": "stdout",
          "text": [
            "The tuple is empty.\n"
          ]
        }
      ]
    },
    {
      "cell_type": "code",
      "source": [
        "#Create a nested tuple.\n"
      ],
      "metadata": {
        "id": "6XiKUyKGSVQR"
      },
      "execution_count": null,
      "outputs": []
    },
    {
      "cell_type": "code",
      "source": [
        "# Create a nested tuple\n",
        "nested_tuple = ((1, 2, 3), ('a', 'b', 'c'), (True, False))\n",
        "\n",
        "# Display the nested tuple\n",
        "print(nested_tuple)\n"
      ],
      "metadata": {
        "colab": {
          "base_uri": "https://localhost:8080/"
        },
        "id": "kIUei2BmSeTk",
        "outputId": "b48bc4a2-10c3-4ee2-a1ad-42002c96aea9"
      },
      "execution_count": null,
      "outputs": [
        {
          "output_type": "stream",
          "name": "stdout",
          "text": [
            "((1, 2, 3), ('a', 'b', 'c'), (True, False))\n"
          ]
        }
      ]
    },
    {
      "cell_type": "code",
      "source": [
        "#Access the first element of a nested tuple."
      ],
      "metadata": {
        "id": "TiNls7XMSkkX"
      },
      "execution_count": null,
      "outputs": []
    },
    {
      "cell_type": "code",
      "source": [
        "# Nested tuple\n",
        "nested_tuple = ((1, 2, 3), ('a', 'b', 'c'), (True, False))\n",
        "\n",
        "# Access the first element of the first inner tuple\n",
        "first_element = nested_tuple[0][0]\n",
        "\n",
        "# Display the result\n",
        "print(\"The first element of the nested tuple is:\", first_element)\n"
      ],
      "metadata": {
        "colab": {
          "base_uri": "https://localhost:8080/"
        },
        "id": "Z8pPPpKvSuaN",
        "outputId": "37969714-631c-475c-d474-233035dc94ef"
      },
      "execution_count": null,
      "outputs": [
        {
          "output_type": "stream",
          "name": "stdout",
          "text": [
            "The first element of the nested tuple is: 1\n"
          ]
        }
      ]
    },
    {
      "cell_type": "code",
      "source": [
        "#Create a tuple with a single element."
      ],
      "metadata": {
        "id": "vPakFkanS3iI"
      },
      "execution_count": null,
      "outputs": []
    },
    {
      "cell_type": "code",
      "source": [
        "# Tuple with a single element\n",
        "single_element_tuple = (42,)\n",
        "\n",
        "# Display the tuple\n",
        "print(single_element_tuple)\n"
      ],
      "metadata": {
        "colab": {
          "base_uri": "https://localhost:8080/"
        },
        "id": "hQi1uEHAS9E6",
        "outputId": "76757abc-d3c1-45da-d8c4-f135bb8bbb1f"
      },
      "execution_count": null,
      "outputs": [
        {
          "output_type": "stream",
          "name": "stdout",
          "text": [
            "(42,)\n"
          ]
        }
      ]
    },
    {
      "cell_type": "code",
      "source": [
        "#Compare two tuples"
      ],
      "metadata": {
        "id": "Yq5q1QshTCzr"
      },
      "execution_count": null,
      "outputs": []
    },
    {
      "cell_type": "code",
      "source": [
        "# Example tuples\n",
        "tuple1 = (1, 2, 3)\n",
        "tuple2 = (1, 2, 4)\n",
        "\n",
        "# Compare the tuples\n",
        "if tuple1 == tuple2:\n",
        "    print(\"Tuples are equal.\")\n",
        "else:\n",
        "    print(\"Tuples are not equal.\")\n"
      ],
      "metadata": {
        "colab": {
          "base_uri": "https://localhost:8080/"
        },
        "id": "NxwMW6ToTIYQ",
        "outputId": "74b59675-27ac-4f8c-d843-e4427094f2eb"
      },
      "execution_count": null,
      "outputs": [
        {
          "output_type": "stream",
          "name": "stdout",
          "text": [
            "Tuples are not equal.\n"
          ]
        }
      ]
    },
    {
      "cell_type": "code",
      "source": [
        "#Delete a tuple"
      ],
      "metadata": {
        "id": "hpK9G_rTTPWV"
      },
      "execution_count": null,
      "outputs": []
    },
    {
      "cell_type": "code",
      "source": [
        "# Example tuple\n",
        "my_tuple = (1, 2, 3)\n",
        "\n",
        "# Delete the entire tuple\n",
        "del my_tuple\n",
        "\n",
        "# Trying to access the tuple after deletion will raise an error\n",
        "# print(my_tuple)  # This will raise a NameError: name 'my_tuple' is not defined\n"
      ],
      "metadata": {
        "id": "xXLeYVaVTbcW"
      },
      "execution_count": null,
      "outputs": []
    },
    {
      "cell_type": "code",
      "source": [
        "#Slice a tuple"
      ],
      "metadata": {
        "id": "7hzcFrZQTjgT"
      },
      "execution_count": null,
      "outputs": []
    },
    {
      "cell_type": "code",
      "source": [
        "# Example tuple\n",
        "my_tuple = (1, 2, 3, 4, 5)\n",
        "\n",
        "# Slice the tuple to get a portion\n",
        "sliced_tuple = my_tuple[1:4]\n",
        "\n",
        "# Display the sliced tuple\n",
        "print(sliced_tuple)\n"
      ],
      "metadata": {
        "colab": {
          "base_uri": "https://localhost:8080/"
        },
        "id": "EEoMuwG3TrDH",
        "outputId": "406d55e4-a42f-4546-dc54-f79a9b017b0f"
      },
      "execution_count": null,
      "outputs": [
        {
          "output_type": "stream",
          "name": "stdout",
          "text": [
            "(2, 3, 4)\n"
          ]
        }
      ]
    },
    {
      "cell_type": "code",
      "source": [
        "#Find the maximum value in a tuple.\n"
      ],
      "metadata": {
        "id": "LRf8s3SLTynC"
      },
      "execution_count": null,
      "outputs": []
    },
    {
      "cell_type": "code",
      "source": [
        "# Example tuple\n",
        "my_tuple = (10, 5, 20, 15, 25)\n",
        "\n",
        "# Find the maximum value in the tuple\n",
        "max_value = max(my_tuple)\n",
        "\n",
        "# Display the result\n",
        "print(\"The maximum value in the tuple is:\", max_value)\n"
      ],
      "metadata": {
        "colab": {
          "base_uri": "https://localhost:8080/"
        },
        "id": "16uGbwZrT4fH",
        "outputId": "adda49a5-c422-4ce9-f351-34ab6def6f7a"
      },
      "execution_count": null,
      "outputs": [
        {
          "output_type": "stream",
          "name": "stdout",
          "text": [
            "The maximum value in the tuple is: 25\n"
          ]
        }
      ]
    },
    {
      "cell_type": "code",
      "source": [
        "#Find the minimum value in a tuple"
      ],
      "metadata": {
        "id": "n9qMGTt9UBG8"
      },
      "execution_count": null,
      "outputs": []
    },
    {
      "cell_type": "code",
      "source": [
        "# Example tuple\n",
        "my_tuple = (10, 5, 20, 15, 25)\n",
        "\n",
        "# Find the minimum value in the tuple\n",
        "min_value = min(my_tuple)\n",
        "\n",
        "# Display the result\n",
        "print(\"The minimum value in the tuple is:\", min_value)\n"
      ],
      "metadata": {
        "colab": {
          "base_uri": "https://localhost:8080/"
        },
        "id": "A7CZMGCyUGjf",
        "outputId": "a16190b1-3d9b-42ef-d44b-0596a21b973d"
      },
      "execution_count": null,
      "outputs": [
        {
          "output_type": "stream",
          "name": "stdout",
          "text": [
            "The minimum value in the tuple is: 5\n"
          ]
        }
      ]
    },
    {
      "cell_type": "code",
      "source": [
        "# Convert a string to a tuple of characters"
      ],
      "metadata": {
        "id": "OwpBdozrUME-"
      },
      "execution_count": null,
      "outputs": []
    },
    {
      "cell_type": "code",
      "source": [
        "# Example string\n",
        "my_string = \"hello\"\n",
        "\n",
        "# Convert the string to a tuple of characters\n",
        "tuple_of_characters = tuple(iter(my_string))\n",
        "\n",
        "# Display the result\n",
        "print(tuple_of_characters)\n"
      ],
      "metadata": {
        "colab": {
          "base_uri": "https://localhost:8080/"
        },
        "id": "yolwjD-2URi4",
        "outputId": "142f927b-2c04-4a6a-df98-89282d3a0570"
      },
      "execution_count": null,
      "outputs": [
        {
          "output_type": "stream",
          "name": "stdout",
          "text": [
            "('h', 'e', 'l', 'l', 'o')\n"
          ]
        }
      ]
    },
    {
      "cell_type": "code",
      "source": [
        "#Convert a tuple of characters to a string."
      ],
      "metadata": {
        "id": "O3uU4Iv7UYRW"
      },
      "execution_count": null,
      "outputs": []
    },
    {
      "cell_type": "code",
      "source": [
        "# Example tuple of characters\n",
        "tuple_of_characters = ('h', 'e', 'l', 'l', 'o')\n",
        "\n",
        "# Convert the tuple to a string\n",
        "result_string = ''.join(tuple_of_characters)\n",
        "\n",
        "# Display the result\n",
        "print(result_string)\n"
      ],
      "metadata": {
        "colab": {
          "base_uri": "https://localhost:8080/"
        },
        "id": "gS1jBU9LUfC4",
        "outputId": "95183165-3469-49c0-c8af-fb953b91359e"
      },
      "execution_count": null,
      "outputs": [
        {
          "output_type": "stream",
          "name": "stdout",
          "text": [
            "hello\n"
          ]
        }
      ]
    },
    {
      "cell_type": "code",
      "source": [
        "#Create a tuple from multiple data types."
      ],
      "metadata": {
        "id": "6iTj6WgsUk4c"
      },
      "execution_count": null,
      "outputs": []
    },
    {
      "cell_type": "code",
      "source": [
        "# Example tuple with multiple data types\n",
        "mixed_tuple = (1, 'hello', 3.14, True)\n",
        "\n",
        "# Display the tuple\n",
        "print(mixed_tuple)\n"
      ],
      "metadata": {
        "colab": {
          "base_uri": "https://localhost:8080/"
        },
        "id": "tRLdYGxpUqHg",
        "outputId": "39d5dc9d-6a0b-4432-b7aa-bc92245b6f6f"
      },
      "execution_count": null,
      "outputs": [
        {
          "output_type": "stream",
          "name": "stdout",
          "text": [
            "(1, 'hello', 3.14, True)\n"
          ]
        }
      ]
    },
    {
      "cell_type": "code",
      "source": [
        "#Check if two tuples are identical.\n"
      ],
      "metadata": {
        "id": "uJCnK2cmU46l"
      },
      "execution_count": null,
      "outputs": []
    },
    {
      "cell_type": "code",
      "source": [
        "# Example tuples\n",
        "tuple1 = (1, 2, 3)\n",
        "tuple2 = (1, 2, 3)\n",
        "\n",
        "# Check if the tuples are identical\n",
        "if tuple1 == tuple2:\n",
        "    print(\"The tuples are identical.\")\n",
        "else:\n",
        "    print(\"The tuples are not identical.\")\n"
      ],
      "metadata": {
        "colab": {
          "base_uri": "https://localhost:8080/"
        },
        "id": "vX6llgPuU8JW",
        "outputId": "f861db3a-db4f-43b2-e646-bc42609efcec"
      },
      "execution_count": null,
      "outputs": [
        {
          "output_type": "stream",
          "name": "stdout",
          "text": [
            "The tuples are identical.\n"
          ]
        }
      ]
    },
    {
      "cell_type": "code",
      "source": [
        "# Sort the elements of a tuple"
      ],
      "metadata": {
        "id": "-ehzAu-1VGR-"
      },
      "execution_count": null,
      "outputs": []
    },
    {
      "cell_type": "code",
      "source": [
        "# Example tuple\n",
        "my_tuple = (3, 1, 4, 1, 5, 9, 2, 6, 5, 3, 5)\n",
        "\n",
        "# Create a new tuple with sorted elements\n",
        "sorted_tuple = tuple(sorted(my_tuple))\n",
        "\n",
        "# Display the sorted tuple\n",
        "print(sorted_tuple)\n"
      ],
      "metadata": {
        "colab": {
          "base_uri": "https://localhost:8080/"
        },
        "id": "1qM4VaOhVLwd",
        "outputId": "818f6ea3-83e1-4596-fd23-beb8bb5ae62e"
      },
      "execution_count": null,
      "outputs": [
        {
          "output_type": "stream",
          "name": "stdout",
          "text": [
            "(1, 1, 2, 3, 3, 4, 5, 5, 5, 6, 9)\n"
          ]
        }
      ]
    },
    {
      "cell_type": "code",
      "source": [
        "#. Convert a tuple of integers to a tuple of strings."
      ],
      "metadata": {
        "id": "-9V-DmhbVRWC"
      },
      "execution_count": null,
      "outputs": []
    },
    {
      "cell_type": "code",
      "source": [
        "# Example tuple of integers\n",
        "tuple_of_integers = (1, 2, 3, 4, 5)\n",
        "\n",
        "# Convert the tuple to a tuple of strings using a list comprehension\n",
        "tuple_of_strings = tuple(str(x) for x in tuple_of_integers)\n",
        "\n",
        "# Display the result\n",
        "print(tuple_of_strings)\n"
      ],
      "metadata": {
        "colab": {
          "base_uri": "https://localhost:8080/"
        },
        "id": "2bLjN7I-VXcE",
        "outputId": "d0470486-8734-4616-cb16-f807556d1c4e"
      },
      "execution_count": null,
      "outputs": [
        {
          "output_type": "stream",
          "name": "stdout",
          "text": [
            "('1', '2', '3', '4', '5')\n"
          ]
        }
      ]
    },
    {
      "cell_type": "code",
      "source": [
        "#Convert a tuple of strings to a tuple of integers"
      ],
      "metadata": {
        "id": "dHhWBcB5VeOv"
      },
      "execution_count": null,
      "outputs": []
    },
    {
      "cell_type": "code",
      "source": [
        "# Example tuple of strings\n",
        "tuple_of_strings = ('1', '2', '3', '4', '5')\n",
        "\n",
        "# Convert the tuple to a tuple of integers using map()\n",
        "tuple_of_integers = tuple(map(int, tuple_of_strings))\n",
        "\n",
        "# Display the result\n",
        "print(tuple_of_integers)\n"
      ],
      "metadata": {
        "colab": {
          "base_uri": "https://localhost:8080/"
        },
        "id": "V9wE5zmiVqwA",
        "outputId": "550df015-9a17-47bc-86b8-c312296c2bf1"
      },
      "execution_count": null,
      "outputs": [
        {
          "output_type": "stream",
          "name": "stdout",
          "text": [
            "(1, 2, 3, 4, 5)\n"
          ]
        }
      ]
    },
    {
      "cell_type": "code",
      "source": [
        "#Merge two tuples"
      ],
      "metadata": {
        "id": "ZGJAEcDVVxeR"
      },
      "execution_count": null,
      "outputs": []
    },
    {
      "cell_type": "code",
      "source": [
        "# Example tuples\n",
        "tuple1 = (1, 2, 3)\n",
        "tuple2 = ('a', 'b', 'c')\n",
        "\n",
        "# Merge the two tuples\n",
        "merged_tuple = tuple1 + tuple2\n",
        "\n",
        "# Display the merged tuple\n",
        "print(merged_tuple)\n"
      ],
      "metadata": {
        "colab": {
          "base_uri": "https://localhost:8080/"
        },
        "id": "8N5Q4GnbV5QP",
        "outputId": "bb1620a4-7ed5-4401-a147-a7c82b758eb5"
      },
      "execution_count": null,
      "outputs": [
        {
          "output_type": "stream",
          "name": "stdout",
          "text": [
            "(1, 2, 3, 'a', 'b', 'c')\n"
          ]
        }
      ]
    },
    {
      "cell_type": "code",
      "source": [
        "#Flatten a nested tuple.\n"
      ],
      "metadata": {
        "id": "tTmlQmjPV_Ct"
      },
      "execution_count": null,
      "outputs": []
    },
    {
      "cell_type": "code",
      "source": [
        "# Example nested tuple\n",
        "nested_tuple = ((1, 2, 3), ('a', 'b', 'c'), (4, 5, 6))\n",
        "\n",
        "# Recursive function to flatten the tuple\n",
        "def flatten_tuple(nested):\n",
        "    flattened = []\n",
        "    for item in nested:\n",
        "        if isinstance(item, tuple):\n",
        "            flattened.extend(flatten_tuple(item))\n",
        "        else:\n",
        "            flattened.append(item)\n",
        "    return flattened\n",
        "\n",
        "# Flatten the nested tuple\n",
        "flattened_tuple = tuple(flatten_tuple(nested_tuple))\n",
        "\n",
        "# Display the flattened tuple\n",
        "print(flattened_tuple)\n"
      ],
      "metadata": {
        "colab": {
          "base_uri": "https://localhost:8080/"
        },
        "id": "FgpZiMmYWEeT",
        "outputId": "c4004f22-d86a-4e09-8b6f-2d66e9be5a2e"
      },
      "execution_count": null,
      "outputs": [
        {
          "output_type": "stream",
          "name": "stdout",
          "text": [
            "(1, 2, 3, 'a', 'b', 'c', 4, 5, 6)\n"
          ]
        }
      ]
    },
    {
      "cell_type": "code",
      "source": [
        "#Create a tuple of the first 5 prime numbers.\n"
      ],
      "metadata": {
        "id": "UnTnhR6RWN0x"
      },
      "execution_count": null,
      "outputs": []
    },
    {
      "cell_type": "code",
      "source": [
        "# Example tuple of the first 5 prime numbers\n",
        "prime_numbers_tuple = (2, 3, 5, 7, 11)\n",
        "\n",
        "# Display the tuple\n",
        "print(prime_numbers_tuple)\n"
      ],
      "metadata": {
        "colab": {
          "base_uri": "https://localhost:8080/"
        },
        "id": "UHUjoIudWVK0",
        "outputId": "8a4a53fb-447d-4d3f-f22d-13f81fdd368d"
      },
      "execution_count": null,
      "outputs": [
        {
          "output_type": "stream",
          "name": "stdout",
          "text": [
            "(2, 3, 5, 7, 11)\n"
          ]
        }
      ]
    },
    {
      "cell_type": "code",
      "source": [
        "#Check if a tuple is a palindrome.\n"
      ],
      "metadata": {
        "id": "CNJeEd8LWab8"
      },
      "execution_count": null,
      "outputs": []
    },
    {
      "cell_type": "code",
      "source": [
        "# Example tuple\n",
        "my_tuple = (1, 2, 3, 2, 1)\n",
        "\n",
        "# Check if the tuple is a palindrome\n",
        "is_palindrome = my_tuple == my_tuple[::-1]\n",
        "\n",
        "# Display the result\n",
        "if is_palindrome:\n",
        "    print(\"The tuple is a palindrome.\")\n",
        "else:\n",
        "    print(\"The tuple is not a palindrome.\")\n"
      ],
      "metadata": {
        "colab": {
          "base_uri": "https://localhost:8080/"
        },
        "id": "7XOhEffBWeeF",
        "outputId": "6e27844d-9a37-43f1-86d3-05432a6f1aea"
      },
      "execution_count": null,
      "outputs": [
        {
          "output_type": "stream",
          "name": "stdout",
          "text": [
            "The tuple is a palindrome.\n"
          ]
        }
      ]
    },
    {
      "cell_type": "code",
      "source": [
        "# Create a tuple of squares of numbers from 1 to 5."
      ],
      "metadata": {
        "id": "9iqs2NcxWkD4"
      },
      "execution_count": null,
      "outputs": []
    },
    {
      "cell_type": "code",
      "source": [
        "# Create a tuple of squares of numbers from 1 to 5\n",
        "squares_tuple = tuple(i**2 for i in range(1, 6))\n",
        "\n",
        "# Display the tuple\n",
        "print(squares_tuple)\n"
      ],
      "metadata": {
        "colab": {
          "base_uri": "https://localhost:8080/"
        },
        "id": "CCyVBTbaWo1J",
        "outputId": "d856332d-97c2-4471-f729-e17a2509ec79"
      },
      "execution_count": null,
      "outputs": [
        {
          "output_type": "stream",
          "name": "stdout",
          "text": [
            "(1, 4, 9, 16, 25)\n"
          ]
        }
      ]
    },
    {
      "cell_type": "code",
      "source": [
        "#Filter out all even numbers from a tuple."
      ],
      "metadata": {
        "id": "F_2IQg-1WuTF"
      },
      "execution_count": null,
      "outputs": []
    },
    {
      "cell_type": "code",
      "source": [
        "original_tuple = (1, 2, 3, 4, 5, 6, 7, 8, 9)\n",
        "\n",
        "filtered_tuple = tuple(x for x in original_tuple if x % 2 != 0)\n",
        "\n",
        "print(filtered_tuple)\n"
      ],
      "metadata": {
        "colab": {
          "base_uri": "https://localhost:8080/"
        },
        "id": "HMcUtulwWzUa",
        "outputId": "f530be90-eca9-4d17-d56f-5a35ee170c6b"
      },
      "execution_count": null,
      "outputs": [
        {
          "output_type": "stream",
          "name": "stdout",
          "text": [
            "(1, 3, 5, 7, 9)\n"
          ]
        }
      ]
    },
    {
      "cell_type": "code",
      "source": [
        "#Multiply all elements in a tuple by 2."
      ],
      "metadata": {
        "id": "RfSH428XXO-Y"
      },
      "execution_count": null,
      "outputs": []
    },
    {
      "cell_type": "code",
      "source": [
        "original_tuple = (1, 2, 3, 4, 5)\n",
        "\n",
        "multiplied_tuple = tuple(x * 2 for x in original_tuple)\n",
        "\n",
        "print(multiplied_tuple)\n"
      ],
      "metadata": {
        "colab": {
          "base_uri": "https://localhost:8080/"
        },
        "id": "HibGeWsoYCnT",
        "outputId": "01a88409-a2e0-46d0-c0bf-4bb7980ac110"
      },
      "execution_count": null,
      "outputs": [
        {
          "output_type": "stream",
          "name": "stdout",
          "text": [
            "(2, 4, 6, 8, 10)\n"
          ]
        }
      ]
    },
    {
      "cell_type": "code",
      "source": [
        "#Create a tuple of random numbers."
      ],
      "metadata": {
        "id": "k4qoiRWeYJEe"
      },
      "execution_count": null,
      "outputs": []
    },
    {
      "cell_type": "code",
      "source": [
        "import random\n",
        "\n",
        "random_tuple = tuple(random.randint(1, 100) for _ in range(5))\n",
        "\n",
        "print(random_tuple)\n"
      ],
      "metadata": {
        "colab": {
          "base_uri": "https://localhost:8080/"
        },
        "id": "P7hOq3wJYQ6N",
        "outputId": "ffc117c1-23a7-4dea-8638-0b36ca0c3ad9"
      },
      "execution_count": null,
      "outputs": [
        {
          "output_type": "stream",
          "name": "stdout",
          "text": [
            "(11, 21, 19, 61, 28)\n"
          ]
        }
      ]
    },
    {
      "cell_type": "code",
      "source": [
        "#Check if a tuple is sorted.\n"
      ],
      "metadata": {
        "id": "h4nFhkNJYWYP"
      },
      "execution_count": null,
      "outputs": []
    },
    {
      "cell_type": "code",
      "source": [
        "def is_sorted_tuple(input_tuple):\n",
        "    return input_tuple == tuple(sorted(input_tuple))\n",
        "\n",
        "# Example usage:\n",
        "sorted_tuple = (1, 2, 3, 4, 5)\n",
        "unsorted_tuple = (5, 3, 1, 4, 2)\n",
        "\n",
        "print(is_sorted_tuple(sorted_tuple))    # Output: True\n",
        "print(is_sorted_tuple(unsorted_tuple))  # Output: False\n"
      ],
      "metadata": {
        "colab": {
          "base_uri": "https://localhost:8080/"
        },
        "id": "lTW3pBt4Ycuz",
        "outputId": "f7c4c275-e240-4f2b-c572-4b0d4d61710e"
      },
      "execution_count": null,
      "outputs": [
        {
          "output_type": "stream",
          "name": "stdout",
          "text": [
            "True\n",
            "False\n"
          ]
        }
      ]
    },
    {
      "cell_type": "code",
      "source": [
        "#Rotate a tuple to the left by `n` positions.\n"
      ],
      "metadata": {
        "id": "bvbYBjvDYkIK"
      },
      "execution_count": null,
      "outputs": []
    },
    {
      "cell_type": "code",
      "source": [
        "def rotate_left_tuple(input_tuple, n):\n",
        "    n = n % len(input_tuple)  # Ensure n is within the length of the tuple\n",
        "    rotated_tuple = input_tuple[n:] + input_tuple[:n]\n",
        "    return rotated_tuple\n",
        "\n",
        "# Example usage:\n",
        "original_tuple = (1, 2, 3, 4, 5)\n",
        "n_positions = 2\n",
        "\n",
        "rotated_tuple = rotate_left_tuple(original_tuple, n_positions)\n",
        "\n",
        "print(rotated_tuple)\n"
      ],
      "metadata": {
        "colab": {
          "base_uri": "https://localhost:8080/"
        },
        "id": "Ca2skpXnZSKw",
        "outputId": "ccbf3bba-2c17-40a3-d041-7cacb3363da2"
      },
      "execution_count": null,
      "outputs": [
        {
          "output_type": "stream",
          "name": "stdout",
          "text": [
            "(3, 4, 5, 1, 2)\n"
          ]
        }
      ]
    },
    {
      "cell_type": "code",
      "source": [
        "# Rotate a tuple to the right by `n` positions.\n"
      ],
      "metadata": {
        "id": "PWllnyFXZcU7"
      },
      "execution_count": null,
      "outputs": []
    },
    {
      "cell_type": "code",
      "source": [
        "def rotate_right_tuple(input_tuple, n):\n",
        "    n = n % len(input_tuple)  # Ensure n is within the length of the tuple\n",
        "    rotated_tuple = input_tuple[-n:] + input_tuple[:-n]\n",
        "    return rotated_tuple\n",
        "\n",
        "# Example usage:\n",
        "original_tuple = (1, 2, 3, 4, 5)\n",
        "n_positions = 2\n",
        "\n",
        "rotated_tuple = rotate_right_tuple(original_tuple, n_positions)\n",
        "\n",
        "print(rotated_tuple)\n"
      ],
      "metadata": {
        "colab": {
          "base_uri": "https://localhost:8080/"
        },
        "id": "dmwLsu7dZnRu",
        "outputId": "7f13dd22-18ba-42b3-f544-d579b473ac0f"
      },
      "execution_count": null,
      "outputs": [
        {
          "output_type": "stream",
          "name": "stdout",
          "text": [
            "(4, 5, 1, 2, 3)\n"
          ]
        }
      ]
    },
    {
      "cell_type": "code",
      "source": [
        "#Create a tuple of the first 5 Fibonacci numbers."
      ],
      "metadata": {
        "id": "T5s2E_4_Ztow"
      },
      "execution_count": null,
      "outputs": []
    },
    {
      "cell_type": "code",
      "source": [
        "def generate_fibonacci(n):\n",
        "    fibonacci_numbers = [0, 1]\n",
        "    while len(fibonacci_numbers) < n:\n",
        "        fibonacci_numbers.append(fibonacci_numbers[-1] + fibonacci_numbers[-2])\n",
        "    return tuple(fibonacci_numbers)\n",
        "\n",
        "# Example usage:\n",
        "fibonacci_tuple = generate_fibonacci(5)\n",
        "\n",
        "print(fibonacci_tuple)\n"
      ],
      "metadata": {
        "colab": {
          "base_uri": "https://localhost:8080/"
        },
        "id": "vfkRRLo8ZyYf",
        "outputId": "978adc03-14f2-408a-c16e-b641d92cd538"
      },
      "execution_count": null,
      "outputs": [
        {
          "output_type": "stream",
          "name": "stdout",
          "text": [
            "(0, 1, 1, 2, 3)\n"
          ]
        }
      ]
    },
    {
      "cell_type": "code",
      "source": [
        "#Create a tuple from user input."
      ],
      "metadata": {
        "id": "6CNi1jwtaQW8"
      },
      "execution_count": null,
      "outputs": []
    },
    {
      "cell_type": "code",
      "source": [
        "# Get user input for elements of the tuple\n",
        "input_str = input(\"Enter elements for the tuple separated by spaces: \")\n",
        "\n",
        "# Convert the input string to a tuple\n",
        "user_input_tuple = tuple(map(int, input_str.split()))\n",
        "\n",
        "print(\"User input tuple:\", user_input_tuple)\n"
      ],
      "metadata": {
        "colab": {
          "base_uri": "https://localhost:8080/",
          "height": 228
        },
        "id": "9zhEF4NZaWmQ",
        "outputId": "a710ef24-8938-46d8-f7e6-3a7b45877009"
      },
      "execution_count": null,
      "outputs": [
        {
          "name": "stdout",
          "output_type": "stream",
          "text": [
            "Enter elements for the tuple separated by spaces: (1, 2, 3, 4, 5)\n"
          ]
        },
        {
          "output_type": "error",
          "ename": "ValueError",
          "evalue": "invalid literal for int() with base 10: '(1,'",
          "traceback": [
            "\u001b[0;31m---------------------------------------------------------------------------\u001b[0m",
            "\u001b[0;31mValueError\u001b[0m                                Traceback (most recent call last)",
            "\u001b[0;32m<ipython-input-126-8fa95d2ec6cc>\u001b[0m in \u001b[0;36m<cell line: 5>\u001b[0;34m()\u001b[0m\n\u001b[1;32m      3\u001b[0m \u001b[0;34m\u001b[0m\u001b[0m\n\u001b[1;32m      4\u001b[0m \u001b[0;31m# Convert the input string to a tuple\u001b[0m\u001b[0;34m\u001b[0m\u001b[0;34m\u001b[0m\u001b[0m\n\u001b[0;32m----> 5\u001b[0;31m \u001b[0muser_input_tuple\u001b[0m \u001b[0;34m=\u001b[0m \u001b[0mtuple\u001b[0m\u001b[0;34m(\u001b[0m\u001b[0mmap\u001b[0m\u001b[0;34m(\u001b[0m\u001b[0mint\u001b[0m\u001b[0;34m,\u001b[0m \u001b[0minput_str\u001b[0m\u001b[0;34m.\u001b[0m\u001b[0msplit\u001b[0m\u001b[0;34m(\u001b[0m\u001b[0;34m)\u001b[0m\u001b[0;34m)\u001b[0m\u001b[0;34m)\u001b[0m\u001b[0;34m\u001b[0m\u001b[0;34m\u001b[0m\u001b[0m\n\u001b[0m\u001b[1;32m      6\u001b[0m \u001b[0;34m\u001b[0m\u001b[0m\n\u001b[1;32m      7\u001b[0m \u001b[0mprint\u001b[0m\u001b[0;34m(\u001b[0m\u001b[0;34m\"User input tuple:\"\u001b[0m\u001b[0;34m,\u001b[0m \u001b[0muser_input_tuple\u001b[0m\u001b[0;34m)\u001b[0m\u001b[0;34m\u001b[0m\u001b[0;34m\u001b[0m\u001b[0m\n",
            "\u001b[0;31mValueError\u001b[0m: invalid literal for int() with base 10: '(1,'"
          ]
        }
      ]
    },
    {
      "cell_type": "code",
      "source": [
        "#Swap two elements in a tuple"
      ],
      "metadata": {
        "id": "xmkTgTqhacVa"
      },
      "execution_count": null,
      "outputs": []
    },
    {
      "cell_type": "code",
      "source": [
        "def swap_elements(input_tuple, index1, index2):\n",
        "    # Convert the tuple to a list to make it mutable\n",
        "    temp_list = list(input_tuple)\n",
        "\n",
        "    # Swap the elements at the specified indices\n",
        "    temp_list[index1], temp_list[index2] = temp_list[index2], temp_list[index1]\n",
        "\n",
        "    # Convert the list back to a tuple\n",
        "    swapped_tuple = tuple(temp_list)\n",
        "\n",
        "    return swapped_tuple\n",
        "\n",
        "# Example usage:\n",
        "original_tuple = (1, 2, 3, 4, 5)\n",
        "index_to_swap1 = 1\n",
        "index_to_swap2 = 3\n",
        "\n",
        "swapped_tuple = swap_elements(original_tuple, index_to_swap1, index_to_swap2)\n",
        "\n",
        "print(\"Original tuple:\", original_tuple)\n",
        "print(\"Swapped tuple:\", swapped_tuple)\n"
      ],
      "metadata": {
        "colab": {
          "base_uri": "https://localhost:8080/"
        },
        "id": "gISA7LizbwnS",
        "outputId": "6da79751-ab00-4909-9a8f-84831aacdee1"
      },
      "execution_count": null,
      "outputs": [
        {
          "output_type": "stream",
          "name": "stdout",
          "text": [
            "Original tuple: (1, 2, 3, 4, 5)\n",
            "Swapped tuple: (1, 4, 3, 2, 5)\n"
          ]
        }
      ]
    },
    {
      "cell_type": "code",
      "source": [
        "#Reverse the elements of a tuple"
      ],
      "metadata": {
        "id": "93M7k99jbzOo"
      },
      "execution_count": null,
      "outputs": []
    },
    {
      "cell_type": "code",
      "source": [
        "# Original tuple\n",
        "original_tuple = (1, 2, 3, 4, 5)\n",
        "\n",
        "# Reversed tuple\n",
        "reversed_tuple = original_tuple[::-1]\n",
        "\n",
        "# Print the result\n",
        "print(\"Original Tuple:\", original_tuple)\n",
        "print(\"Reversed Tuple:\", reversed_tuple)\n"
      ],
      "metadata": {
        "id": "5BH19Et2b39Z",
        "colab": {
          "base_uri": "https://localhost:8080/"
        },
        "outputId": "cf205898-adbb-422c-bd65-0de87b1e6ecc"
      },
      "execution_count": 1,
      "outputs": [
        {
          "output_type": "stream",
          "name": "stdout",
          "text": [
            "Original Tuple: (1, 2, 3, 4, 5)\n",
            "Reversed Tuple: (5, 4, 3, 2, 1)\n"
          ]
        }
      ]
    },
    {
      "cell_type": "code",
      "source": [
        "#Create a tuple of the first `n` powers of 2"
      ],
      "metadata": {
        "id": "o6Sq3rJr8aVD"
      },
      "execution_count": 2,
      "outputs": []
    },
    {
      "cell_type": "code",
      "source": [
        "# Specify the value of n\n",
        "n = 5\n",
        "\n",
        "# Create a tuple of the first n powers of 2\n",
        "powers_of_2_tuple = tuple(pow(2, i) for i in range(n))\n",
        "\n",
        "# Print the result\n",
        "print(\"Powers of 2 Tuple:\", powers_of_2_tuple)\n"
      ],
      "metadata": {
        "colab": {
          "base_uri": "https://localhost:8080/"
        },
        "id": "MrYeVrj_8nrh",
        "outputId": "7d60b2b8-8aff-4010-f17a-d8822b0fdcb4"
      },
      "execution_count": 3,
      "outputs": [
        {
          "output_type": "stream",
          "name": "stdout",
          "text": [
            "Powers of 2 Tuple: (1, 2, 4, 8, 16)\n"
          ]
        }
      ]
    },
    {
      "cell_type": "code",
      "source": [
        "#Find the longest string in a tuple of strings"
      ],
      "metadata": {
        "id": "-u4dMPcy8sJY"
      },
      "execution_count": 4,
      "outputs": []
    },
    {
      "cell_type": "code",
      "source": [
        "# Example tuple of strings\n",
        "string_tuple = (\"apple\", \"banana\", \"orange\", \"strawberry\", \"blueberry\")\n",
        "\n",
        "# Find the longest string\n",
        "longest_string = max(string_tuple, key=len)\n",
        "\n",
        "# Print the result\n",
        "print(\"Longest String:\", longest_string)\n"
      ],
      "metadata": {
        "colab": {
          "base_uri": "https://localhost:8080/"
        },
        "id": "qT7NjAyA8vkZ",
        "outputId": "54ca2708-5118-4669-c020-7c1a0a4991d9"
      },
      "execution_count": 5,
      "outputs": [
        {
          "output_type": "stream",
          "name": "stdout",
          "text": [
            "Longest String: strawberry\n"
          ]
        }
      ]
    },
    {
      "cell_type": "code",
      "source": [
        "#Find the shortest string in a tuple of strings."
      ],
      "metadata": {
        "id": "j5eVW7pJ82gE"
      },
      "execution_count": 6,
      "outputs": []
    },
    {
      "cell_type": "code",
      "source": [
        "# Example tuple of strings\n",
        "string_tuple = (\"apple\", \"banana\", \"orange\", \"strawberry\", \"blueberry\")\n",
        "\n",
        "# Find the shortest string\n",
        "shortest_string = min(string_tuple, key=len)\n",
        "\n",
        "# Print the result\n",
        "print(\"Shortest String:\", shortest_string)\n"
      ],
      "metadata": {
        "colab": {
          "base_uri": "https://localhost:8080/"
        },
        "id": "JA5Bf11086mc",
        "outputId": "47c10800-2b8f-4d2e-f3ec-914e7bc48e43"
      },
      "execution_count": 7,
      "outputs": [
        {
          "output_type": "stream",
          "name": "stdout",
          "text": [
            "Shortest String: apple\n"
          ]
        }
      ]
    },
    {
      "cell_type": "code",
      "source": [
        "#Create a tuple of the first `n` triangular numbers"
      ],
      "metadata": {
        "id": "AV9yBnC38-04"
      },
      "execution_count": 8,
      "outputs": []
    },
    {
      "cell_type": "code",
      "source": [
        "# Specify the value of n\n",
        "n = 5\n",
        "\n",
        "# Create a tuple of the first n triangular numbers\n",
        "triangular_numbers_tuple = tuple((i * (i + 1) // 2) for i in range(1, n + 1))\n",
        "\n",
        "# Print the result\n",
        "print(\"Triangular Numbers Tuple:\", triangular_numbers_tuple)\n"
      ],
      "metadata": {
        "colab": {
          "base_uri": "https://localhost:8080/"
        },
        "id": "bYakZhIn9Cc3",
        "outputId": "58fde5d2-9b26-4fd9-9223-e445dca22afe"
      },
      "execution_count": 9,
      "outputs": [
        {
          "output_type": "stream",
          "name": "stdout",
          "text": [
            "Triangular Numbers Tuple: (1, 3, 6, 10, 15)\n"
          ]
        }
      ]
    },
    {
      "cell_type": "code",
      "source": [
        "#Check if a tuple contains another tuple as a subsequence.\n"
      ],
      "metadata": {
        "id": "1dSYOKSW9Gz6"
      },
      "execution_count": 10,
      "outputs": []
    },
    {
      "cell_type": "code",
      "source": [
        "def is_subsequence(sub, main):\n",
        "    # Find the index of the first element of sub in main\n",
        "    start_index = main.index(sub[0]) if sub and sub[0] in main else -1\n",
        "\n",
        "    # Check if sub is a subsequence starting from the found index\n",
        "    return start_index != -1 and main[start_index:start_index + len(sub)] == sub\n",
        "\n",
        "# Example tuples\n",
        "main_tuple = (1, 2, 3, 4, 5, 6, 7, 8, 9, 10)\n",
        "sub_tuple = (3, 4, 5)\n",
        "\n",
        "# Check if sub_tuple is a subsequence of main_tuple\n",
        "result = is_subsequence(sub_tuple, main_tuple)\n",
        "\n",
        "# Print the result\n",
        "print(\"Is sub_tuple a subsequence of main_tuple?\", result)\n",
        "\n"
      ],
      "metadata": {
        "colab": {
          "base_uri": "https://localhost:8080/"
        },
        "id": "bz08IoI69KJn",
        "outputId": "eb4fae47-3f6a-49d5-c38d-5948d5b7b1ea"
      },
      "execution_count": 11,
      "outputs": [
        {
          "output_type": "stream",
          "name": "stdout",
          "text": [
            "Is sub_tuple a subsequence of main_tuple? True\n"
          ]
        }
      ]
    },
    {
      "cell_type": "code",
      "source": [
        "#Create a tuple of alternating 1s and 0s of length `n`."
      ],
      "metadata": {
        "id": "ZqqHTx539SKn"
      },
      "execution_count": 12,
      "outputs": []
    },
    {
      "cell_type": "code",
      "source": [
        "# Specify the value of n\n",
        "n = 8\n",
        "\n",
        "# Create a tuple of alternating 1s and 0s\n",
        "alternating_tuple = tuple(i % 2 for i in range(n))\n",
        "\n",
        "# Print the result\n",
        "print(\"Alternating Tuple:\", alternating_tuple)\n"
      ],
      "metadata": {
        "colab": {
          "base_uri": "https://localhost:8080/"
        },
        "id": "XOAaafDs9WpU",
        "outputId": "27c09eed-da55-4593-dae6-c80991b2f22c"
      },
      "execution_count": 13,
      "outputs": [
        {
          "output_type": "stream",
          "name": "stdout",
          "text": [
            "Alternating Tuple: (0, 1, 0, 1, 0, 1, 0, 1)\n"
          ]
        }
      ]
    },
    {
      "cell_type": "code",
      "source": [
        "#Set Based Practice Problem"
      ],
      "metadata": {
        "id": "Y_e6mkpb9jWL"
      },
      "execution_count": 14,
      "outputs": []
    },
    {
      "cell_type": "code",
      "source": [
        "#Create a set with integers from 1 to 5.\n"
      ],
      "metadata": {
        "id": "Uc6N9vLb9rWe"
      },
      "execution_count": 15,
      "outputs": []
    },
    {
      "cell_type": "code",
      "source": [
        "# Create a set with integers from 1 to 5 using set constructor\n",
        "integer_set = set([1, 2, 3, 4, 5])\n",
        "\n",
        "# Print the result\n",
        "print(\"Integer Set:\", integer_set)\n"
      ],
      "metadata": {
        "colab": {
          "base_uri": "https://localhost:8080/"
        },
        "id": "2T2xSwwi9uIV",
        "outputId": "22fe70fe-d869-4cd0-934b-d2a58d23f838"
      },
      "execution_count": 16,
      "outputs": [
        {
          "output_type": "stream",
          "name": "stdout",
          "text": [
            "Integer Set: {1, 2, 3, 4, 5}\n"
          ]
        }
      ]
    },
    {
      "cell_type": "code",
      "source": [
        "#Add an element to a set.\n"
      ],
      "metadata": {
        "id": "Qbrcne-791Mt"
      },
      "execution_count": 17,
      "outputs": []
    },
    {
      "cell_type": "code",
      "source": [
        "# Original set\n",
        "my_set = {1, 2, 3, 4, 5}\n",
        "\n",
        "# Add an element to the set\n",
        "my_set.add(6)\n",
        "\n",
        "# Print the updated set\n",
        "print(\"Updated Set:\", my_set)\n"
      ],
      "metadata": {
        "colab": {
          "base_uri": "https://localhost:8080/"
        },
        "id": "cQXMhSFP95YD",
        "outputId": "720163c6-5fdc-4cbc-b11b-ddb2d45382de"
      },
      "execution_count": 18,
      "outputs": [
        {
          "output_type": "stream",
          "name": "stdout",
          "text": [
            "Updated Set: {1, 2, 3, 4, 5, 6}\n"
          ]
        }
      ]
    },
    {
      "cell_type": "code",
      "source": [
        "#Remove an element from a set.\n"
      ],
      "metadata": {
        "id": "_7-eCbkx9-R4"
      },
      "execution_count": 19,
      "outputs": []
    },
    {
      "cell_type": "code",
      "source": [
        "# Original set\n",
        "my_set = {1, 2, 3, 4, 5}\n",
        "\n",
        "# Remove an element from the set\n",
        "my_set.remove(3)\n",
        "\n",
        "# Print the updated set\n",
        "print(\"Updated Set:\", my_set)\n"
      ],
      "metadata": {
        "colab": {
          "base_uri": "https://localhost:8080/"
        },
        "id": "RyULjfRx-BQX",
        "outputId": "2db98cad-ce8b-49d6-960a-81fb4ac4d192"
      },
      "execution_count": 20,
      "outputs": [
        {
          "output_type": "stream",
          "name": "stdout",
          "text": [
            "Updated Set: {1, 2, 4, 5}\n"
          ]
        }
      ]
    },
    {
      "cell_type": "code",
      "source": [
        "#Check if an element exists in a set."
      ],
      "metadata": {
        "id": "N6qXVPS6-FK0"
      },
      "execution_count": 21,
      "outputs": []
    },
    {
      "cell_type": "code",
      "source": [
        "# Original set\n",
        "my_set = {1, 2, 3, 4, 5}\n",
        "\n",
        "# Check if an element exists in the set\n",
        "element_to_check = 3\n",
        "if element_to_check in my_set:\n",
        "    print(f\"{element_to_check} exists in the set.\")\n",
        "else:\n",
        "    print(f\"{element_to_check} does not exist in the set.\")\n"
      ],
      "metadata": {
        "colab": {
          "base_uri": "https://localhost:8080/"
        },
        "id": "QPIWtJ4x-IlU",
        "outputId": "4db56ac0-5bba-4856-a94b-b58bacb88dfe"
      },
      "execution_count": 22,
      "outputs": [
        {
          "output_type": "stream",
          "name": "stdout",
          "text": [
            "3 exists in the set.\n"
          ]
        }
      ]
    },
    {
      "cell_type": "code",
      "source": [
        "#Find the length of a set without using the `len()` function"
      ],
      "metadata": {
        "id": "_Z9Hk2fO-Nk0"
      },
      "execution_count": 23,
      "outputs": []
    },
    {
      "cell_type": "code",
      "source": [
        "# Original set\n",
        "my_set = {1, 2, 3, 4, 5}\n",
        "\n",
        "# Find the length of the set without using len()\n",
        "length = 0\n",
        "for _ in my_set:\n",
        "    length += 1\n",
        "\n",
        "# Print the length\n",
        "print(\"Length of the set:\", length)\n"
      ],
      "metadata": {
        "colab": {
          "base_uri": "https://localhost:8080/"
        },
        "id": "rqS0qJtJ-RGT",
        "outputId": "323a1aba-52ff-4eb4-dbc7-78cde8b147a2"
      },
      "execution_count": 24,
      "outputs": [
        {
          "output_type": "stream",
          "name": "stdout",
          "text": [
            "Length of the set: 5\n"
          ]
        }
      ]
    },
    {
      "cell_type": "code",
      "source": [
        "# Clear all elements from a set.\n"
      ],
      "metadata": {
        "id": "pqvKcXlq-V8v"
      },
      "execution_count": 25,
      "outputs": []
    },
    {
      "cell_type": "code",
      "source": [
        "# Original set\n",
        "my_set = {1, 2, 3, 4, 5}\n",
        "\n",
        "# Clear all elements from the set\n",
        "my_set.clear()\n",
        "\n",
        "# Print the updated set\n",
        "print(\"Updated Set:\", my_set)\n"
      ],
      "metadata": {
        "colab": {
          "base_uri": "https://localhost:8080/"
        },
        "id": "SGLMfjnN-ZvC",
        "outputId": "acae798d-3233-4001-938f-59a8aa5e4842"
      },
      "execution_count": 26,
      "outputs": [
        {
          "output_type": "stream",
          "name": "stdout",
          "text": [
            "Updated Set: set()\n"
          ]
        }
      ]
    },
    {
      "cell_type": "code",
      "source": [
        "#Create a set of even numbers from 1 to 10"
      ],
      "metadata": {
        "id": "vpw-hAfw-dQV"
      },
      "execution_count": 27,
      "outputs": []
    },
    {
      "cell_type": "code",
      "source": [
        "# Create a set of even numbers from 1 to 10\n",
        "even_numbers_set = {i for i in range(1, 11) if i % 2 == 0}\n",
        "\n",
        "# Print the result\n",
        "print(\"Even Numbers Set:\", even_numbers_set)\n"
      ],
      "metadata": {
        "colab": {
          "base_uri": "https://localhost:8080/"
        },
        "id": "iZACgtW2-gz2",
        "outputId": "534433ac-d797-424d-b0c1-9f9921680d59"
      },
      "execution_count": 28,
      "outputs": [
        {
          "output_type": "stream",
          "name": "stdout",
          "text": [
            "Even Numbers Set: {2, 4, 6, 8, 10}\n"
          ]
        }
      ]
    },
    {
      "cell_type": "code",
      "source": [
        "#Create a set of odd numbers from 1 to 10"
      ],
      "metadata": {
        "id": "oALNFku9-mHb"
      },
      "execution_count": 29,
      "outputs": []
    },
    {
      "cell_type": "code",
      "source": [
        "# Create a set of odd numbers from 1 to 10\n",
        "odd_numbers_set = {i for i in range(1, 11) if i % 2 != 0}\n",
        "\n",
        "# Print the result\n",
        "print(\"Odd Numbers Set:\", odd_numbers_set)\n"
      ],
      "metadata": {
        "colab": {
          "base_uri": "https://localhost:8080/"
        },
        "id": "FxpUkfJ_-qQ5",
        "outputId": "c0970dc4-620e-40fa-bb6b-535e0199365a"
      },
      "execution_count": 30,
      "outputs": [
        {
          "output_type": "stream",
          "name": "stdout",
          "text": [
            "Odd Numbers Set: {1, 3, 5, 7, 9}\n"
          ]
        }
      ]
    },
    {
      "cell_type": "code",
      "source": [
        "#Find the union of two sets."
      ],
      "metadata": {
        "id": "hznSur5d-tzl"
      },
      "execution_count": 31,
      "outputs": []
    },
    {
      "cell_type": "code",
      "source": [
        "# Two sets\n",
        "set1 = {1, 2, 3, 4, 5}\n",
        "set2 = {4, 5, 6, 7, 8}\n",
        "\n",
        "# Using the union() method\n",
        "union_result_method = set1.union(set2)\n",
        "\n",
        "# Using the | operator\n",
        "union_result_operator = set1 | set2\n",
        "\n",
        "# Print the results\n",
        "print(\"Union using union():\", union_result_method)\n",
        "print(\"Union using | operator:\", union_result_operator)\n"
      ],
      "metadata": {
        "colab": {
          "base_uri": "https://localhost:8080/"
        },
        "id": "ZOAsTSnG_P4D",
        "outputId": "a119a7e0-bb48-4c25-9f6c-1b20d225decf"
      },
      "execution_count": 32,
      "outputs": [
        {
          "output_type": "stream",
          "name": "stdout",
          "text": [
            "Union using union(): {1, 2, 3, 4, 5, 6, 7, 8}\n",
            "Union using | operator: {1, 2, 3, 4, 5, 6, 7, 8}\n"
          ]
        }
      ]
    },
    {
      "cell_type": "code",
      "source": [
        "#Find the intersection of two sets"
      ],
      "metadata": {
        "id": "zDdrCcJu_WXN"
      },
      "execution_count": 33,
      "outputs": []
    },
    {
      "cell_type": "code",
      "source": [
        "# Two sets\n",
        "set1 = {1, 2, 3, 4, 5}\n",
        "set2 = {4, 5, 6, 7, 8}\n",
        "\n",
        "# Using the intersection() method\n",
        "intersection_result_method = set1.intersection(set2)\n",
        "\n",
        "# Using the & operator\n",
        "intersection_result_operator = set1 & set2\n",
        "\n",
        "# Print the results\n",
        "print(\"Intersection using intersection():\", intersection_result_method)\n",
        "print(\"Intersection using & operator:\", intersection_result_operator)\n"
      ],
      "metadata": {
        "colab": {
          "base_uri": "https://localhost:8080/"
        },
        "id": "uZz76o7m_Z1r",
        "outputId": "fc3e3ae0-1887-4177-c8a6-60a208f04206"
      },
      "execution_count": 34,
      "outputs": [
        {
          "output_type": "stream",
          "name": "stdout",
          "text": [
            "Intersection using intersection(): {4, 5}\n",
            "Intersection using & operator: {4, 5}\n"
          ]
        }
      ]
    },
    {
      "cell_type": "code",
      "source": [
        "#Find the difference between two sets."
      ],
      "metadata": {
        "id": "ZQnJy8yC_g4a"
      },
      "execution_count": 35,
      "outputs": []
    },
    {
      "cell_type": "code",
      "source": [
        "# Two sets\n",
        "set1 = {1, 2, 3, 4, 5}\n",
        "set2 = {4, 5, 6, 7, 8}\n",
        "\n",
        "# Using the difference() method\n",
        "difference_result_method = set1.difference(set2)\n",
        "\n",
        "# Using the - operator\n",
        "difference_result_operator = set1 - set2\n",
        "\n",
        "# Print the results\n",
        "print(\"Difference using difference():\", difference_result_method)\n",
        "print(\"Difference using - operator:\", difference_result_operator)\n"
      ],
      "metadata": {
        "colab": {
          "base_uri": "https://localhost:8080/"
        },
        "id": "kvNjlA19_koQ",
        "outputId": "418c659a-db5b-4f9d-e65d-893c426c10e1"
      },
      "execution_count": 36,
      "outputs": [
        {
          "output_type": "stream",
          "name": "stdout",
          "text": [
            "Difference using difference(): {1, 2, 3}\n",
            "Difference using - operator: {1, 2, 3}\n"
          ]
        }
      ]
    },
    {
      "cell_type": "code",
      "source": [
        "#Check if a set is a subset of another set.\n"
      ],
      "metadata": {
        "id": "AcmI7YRV_pia"
      },
      "execution_count": 37,
      "outputs": []
    },
    {
      "cell_type": "code",
      "source": [
        "# Two sets\n",
        "set1 = {1, 2, 3, 4, 5}\n",
        "set2 = {2, 4}\n",
        "\n",
        "# Using issubset() method\n",
        "is_subset_method = set2.issubset(set1)\n",
        "\n",
        "# Using <= operator\n",
        "is_subset_operator = set2 <= set1\n",
        "\n",
        "# Print the results\n",
        "print(\"Is set2 a subset of set1 using issubset():\", is_subset_method)\n",
        "print(\"Is set2 a subset of set1 using <= operator:\", is_subset_operator)\n"
      ],
      "metadata": {
        "colab": {
          "base_uri": "https://localhost:8080/"
        },
        "id": "YFKmcQB7_srQ",
        "outputId": "a249d6e7-9f87-4024-f09b-4904f662d22f"
      },
      "execution_count": 38,
      "outputs": [
        {
          "output_type": "stream",
          "name": "stdout",
          "text": [
            "Is set2 a subset of set1 using issubset(): True\n",
            "Is set2 a subset of set1 using <= operator: True\n"
          ]
        }
      ]
    },
    {
      "cell_type": "code",
      "source": [
        "#. Check if a set is a superset of another set."
      ],
      "metadata": {
        "id": "laTGqmX8_zk2"
      },
      "execution_count": 39,
      "outputs": []
    },
    {
      "cell_type": "code",
      "source": [
        "# Two sets\n",
        "set1 = {1, 2, 3, 4, 5}\n",
        "set2 = {2, 4}\n",
        "\n",
        "# Using issuperset() method\n",
        "is_superset_method = set1.issuperset(set2)\n",
        "\n",
        "# Using >= operator\n",
        "is_superset_operator = set1 >= set2\n",
        "\n",
        "# Print the results\n",
        "print(\"Is set1 a superset of set2 using issuperset():\", is_superset_method)\n",
        "print(\"Is set1 a superset of set2 using >= operator:\", is_superset_operator)\n"
      ],
      "metadata": {
        "colab": {
          "base_uri": "https://localhost:8080/"
        },
        "id": "440cDVJO_3qI",
        "outputId": "4f0c079b-7104-434d-d911-45cd7aa111f1"
      },
      "execution_count": 41,
      "outputs": [
        {
          "output_type": "stream",
          "name": "stdout",
          "text": [
            "Is set1 a superset of set2 using issuperset(): True\n",
            "Is set1 a superset of set2 using >= operator: True\n"
          ]
        }
      ]
    },
    {
      "cell_type": "code",
      "source": [
        "#Create a set from a list"
      ],
      "metadata": {
        "id": "xdSUOmwW_8X0"
      },
      "execution_count": 42,
      "outputs": []
    },
    {
      "cell_type": "code",
      "source": [
        "# Example list\n",
        "my_list = [1, 2, 3, 4, 5]\n",
        "\n",
        "# Create a set from the list\n",
        "my_set = set(my_list)\n",
        "\n",
        "# Print the result\n",
        "print(\"Set from List:\", my_set)\n"
      ],
      "metadata": {
        "colab": {
          "base_uri": "https://localhost:8080/"
        },
        "id": "FgGMkW0gAL9_",
        "outputId": "00c95dae-cde2-47aa-abca-c0ee788c4570"
      },
      "execution_count": 43,
      "outputs": [
        {
          "output_type": "stream",
          "name": "stdout",
          "text": [
            "Set from List: {1, 2, 3, 4, 5}\n"
          ]
        }
      ]
    },
    {
      "cell_type": "code",
      "source": [
        "#Convert a set to a list.\n"
      ],
      "metadata": {
        "id": "q1zKkQ45AR6j"
      },
      "execution_count": 44,
      "outputs": []
    },
    {
      "cell_type": "code",
      "source": [
        "# Example set\n",
        "my_set = {1, 2, 3, 4, 5}\n",
        "\n",
        "# Convert the set to a list\n",
        "my_list = list(my_set)\n",
        "\n",
        "# Print the result\n",
        "print(\"List from Set:\", my_list)\n"
      ],
      "metadata": {
        "colab": {
          "base_uri": "https://localhost:8080/"
        },
        "id": "4hT_jFjlAW5L",
        "outputId": "870b37d1-1eeb-40c5-8959-e5e6d4e993e1"
      },
      "execution_count": 45,
      "outputs": [
        {
          "output_type": "stream",
          "name": "stdout",
          "text": [
            "List from Set: [1, 2, 3, 4, 5]\n"
          ]
        }
      ]
    },
    {
      "cell_type": "code",
      "source": [
        "#Remove a random element from a set"
      ],
      "metadata": {
        "id": "VNuqrCL-AiYZ"
      },
      "execution_count": 46,
      "outputs": []
    },
    {
      "cell_type": "code",
      "source": [
        "# Example set\n",
        "my_set = {1, 2, 3, 4, 5}\n",
        "\n",
        "# Remove a random element from the set using pop()\n",
        "removed_element = my_set.pop()\n",
        "\n",
        "# Print the updated set and the removed element\n",
        "print(\"Updated Set:\", my_set)\n",
        "print(\"Removed Element:\", removed_element)\n"
      ],
      "metadata": {
        "colab": {
          "base_uri": "https://localhost:8080/"
        },
        "id": "cKTxRD7KAmi0",
        "outputId": "db86d8c2-31fa-428d-d393-d91ba6c72f14"
      },
      "execution_count": 47,
      "outputs": [
        {
          "output_type": "stream",
          "name": "stdout",
          "text": [
            "Updated Set: {2, 3, 4, 5}\n",
            "Removed Element: 1\n"
          ]
        }
      ]
    },
    {
      "cell_type": "code",
      "source": [
        "#Pop an element from a set."
      ],
      "metadata": {
        "id": "y1nY5Q5uArdy"
      },
      "execution_count": 48,
      "outputs": []
    },
    {
      "cell_type": "code",
      "source": [
        "# Example set\n",
        "my_set = {1, 2, 3, 4, 5}\n",
        "\n",
        "# Pop an element from the set\n",
        "popped_element = my_set.pop()\n",
        "\n",
        "# Print the updated set and the popped element\n",
        "print(\"Updated Set:\", my_set)\n",
        "print(\"Popped Element:\", popped_element)\n"
      ],
      "metadata": {
        "colab": {
          "base_uri": "https://localhost:8080/"
        },
        "id": "Ri_mIIHfAveh",
        "outputId": "0b9a3724-6801-4463-daf9-2810c1f67b50"
      },
      "execution_count": 49,
      "outputs": [
        {
          "output_type": "stream",
          "name": "stdout",
          "text": [
            "Updated Set: {2, 3, 4, 5}\n",
            "Popped Element: 1\n"
          ]
        }
      ]
    },
    {
      "cell_type": "code",
      "source": [
        "#Check if two sets have no elements in common."
      ],
      "metadata": {
        "id": "Hd9FbohpAz8k"
      },
      "execution_count": 50,
      "outputs": []
    },
    {
      "cell_type": "code",
      "source": [
        "# Two sets\n",
        "set1 = {1, 2, 3, 4, 5}\n",
        "set2 = {6, 7, 8, 9, 10}\n",
        "\n",
        "# Check if the sets have no elements in common using isdisjoint()\n",
        "are_disjoint = set1.isdisjoint(set2)\n",
        "\n",
        "# Print the result\n",
        "print(\"Are the sets disjoint?\", are_disjoint)\n"
      ],
      "metadata": {
        "colab": {
          "base_uri": "https://localhost:8080/"
        },
        "id": "_O2oJFP2BJRR",
        "outputId": "672bd052-c910-4441-8b9d-895ea44d268c"
      },
      "execution_count": 51,
      "outputs": [
        {
          "output_type": "stream",
          "name": "stdout",
          "text": [
            "Are the sets disjoint? True\n"
          ]
        }
      ]
    },
    {
      "cell_type": "code",
      "source": [
        "#Find the symmetric difference between two sets."
      ],
      "metadata": {
        "id": "FmyvRXTvBRNR"
      },
      "execution_count": 52,
      "outputs": []
    },
    {
      "cell_type": "code",
      "source": [
        "# Two sets\n",
        "set1 = {1, 2, 3, 4, 5}\n",
        "set2 = {4, 5, 6, 7, 8}\n",
        "\n",
        "# Using symmetric_difference() method\n",
        "symmetric_difference_result_method = set1.symmetric_difference(set2)\n",
        "\n",
        "# Using ^ operator\n",
        "symmetric_difference_result_operator = set1 ^ set2\n",
        "\n",
        "# Print the results\n",
        "print(\"Symmetric Difference using symmetric_difference():\", symmetric_difference_result_method)\n",
        "print(\"Symmetric Difference using ^ operator:\", symmetric_difference_result_operator)\n"
      ],
      "metadata": {
        "colab": {
          "base_uri": "https://localhost:8080/"
        },
        "id": "Jii95aEWBnjc",
        "outputId": "95f27748-756b-45d1-b5a6-4ef873effd64"
      },
      "execution_count": 53,
      "outputs": [
        {
          "output_type": "stream",
          "name": "stdout",
          "text": [
            "Symmetric Difference using symmetric_difference(): {1, 2, 3, 6, 7, 8}\n",
            "Symmetric Difference using ^ operator: {1, 2, 3, 6, 7, 8}\n"
          ]
        }
      ]
    },
    {
      "cell_type": "code",
      "source": [
        "#Update a set with elements from another set.\n"
      ],
      "metadata": {
        "id": "nynNdDTlBtWs"
      },
      "execution_count": 54,
      "outputs": []
    },
    {
      "cell_type": "code",
      "source": [
        "# Original set\n",
        "set1 = {1, 2, 3, 4, 5}\n",
        "\n",
        "# Another set to update with\n",
        "set2 = {4, 5, 6, 7, 8}\n",
        "\n",
        "# Update set1 with elements from set2 using update()\n",
        "set1.update(set2)\n",
        "\n",
        "# Print the updated set\n",
        "print(\"Updated Set:\", set1)\n"
      ],
      "metadata": {
        "colab": {
          "base_uri": "https://localhost:8080/"
        },
        "id": "vUjANPzWBx-k",
        "outputId": "d784fb59-a69d-4567-e03c-f966613c287c"
      },
      "execution_count": 55,
      "outputs": [
        {
          "output_type": "stream",
          "name": "stdout",
          "text": [
            "Updated Set: {1, 2, 3, 4, 5, 6, 7, 8}\n"
          ]
        }
      ]
    },
    {
      "cell_type": "code",
      "source": [
        "#Create a set of the first 5 prime numbers.\n"
      ],
      "metadata": {
        "id": "AfQRAVx7B4go"
      },
      "execution_count": 56,
      "outputs": []
    },
    {
      "cell_type": "code",
      "source": [
        "# Create a set of the first 5 prime numbers\n",
        "prime_numbers_set = {2, 3, 5, 7, 11}\n",
        "\n",
        "# Print the result\n",
        "print(\"Set of the first 5 prime numbers:\", prime_numbers_set)\n"
      ],
      "metadata": {
        "colab": {
          "base_uri": "https://localhost:8080/"
        },
        "id": "Vqi6dxnKB8Ko",
        "outputId": "cd5b278d-ddde-4536-de84-78207d64476d"
      },
      "execution_count": 57,
      "outputs": [
        {
          "output_type": "stream",
          "name": "stdout",
          "text": [
            "Set of the first 5 prime numbers: {2, 3, 5, 7, 11}\n"
          ]
        }
      ]
    },
    {
      "cell_type": "code",
      "source": [
        "#Check if two sets are identical.\n"
      ],
      "metadata": {
        "id": "S84i6fbtCAsS"
      },
      "execution_count": 58,
      "outputs": []
    },
    {
      "cell_type": "code",
      "source": [
        "# Two sets\n",
        "set1 = {1, 2, 3, 4, 5}\n",
        "set2 = {1, 2, 3, 4, 5}\n",
        "\n",
        "# Check if the sets are identical using ==\n",
        "are_identical = set1 == set2\n",
        "\n",
        "# Print the result\n",
        "print(\"Are the sets identical using == ?\", are_identical)\n"
      ],
      "metadata": {
        "colab": {
          "base_uri": "https://localhost:8080/"
        },
        "id": "RTKgvQxtCEZP",
        "outputId": "6eac7893-4de5-4720-800c-d89903193ce8"
      },
      "execution_count": 59,
      "outputs": [
        {
          "output_type": "stream",
          "name": "stdout",
          "text": [
            "Are the sets identical using == ? True\n"
          ]
        }
      ]
    },
    {
      "cell_type": "code",
      "source": [
        "#Create a frozen set.\n"
      ],
      "metadata": {
        "id": "Z70bO2xuCL_r"
      },
      "execution_count": 60,
      "outputs": []
    },
    {
      "cell_type": "code",
      "source": [
        "# Create a regular set\n",
        "my_set = {1, 2, 3, 4, 5}\n",
        "\n",
        "# Convert the set to a frozen set\n",
        "frozen_set = frozenset(my_set)\n",
        "\n",
        "# Print the frozen set\n",
        "print(\"Frozen Set:\", frozen_set)\n"
      ],
      "metadata": {
        "colab": {
          "base_uri": "https://localhost:8080/"
        },
        "id": "OuA5alToCPyN",
        "outputId": "52ce4458-0f8f-4665-d1f0-b2cdc70b32f1"
      },
      "execution_count": 61,
      "outputs": [
        {
          "output_type": "stream",
          "name": "stdout",
          "text": [
            "Frozen Set: frozenset({1, 2, 3, 4, 5})\n"
          ]
        }
      ]
    },
    {
      "cell_type": "code",
      "source": [
        "#Check if a set is disjoint with another set.\n"
      ],
      "metadata": {
        "id": "vJFZsgAZCVOf"
      },
      "execution_count": 62,
      "outputs": []
    },
    {
      "cell_type": "code",
      "source": [
        "# Two sets\n",
        "set1 = {1, 2, 3, 4, 5}\n",
        "set2 = {6, 7, 8, 9, 10}\n",
        "\n",
        "# Check if the sets are disjoint using isdisjoint()\n",
        "are_disjoint = set1.isdisjoint(set2)\n",
        "\n",
        "# Print the result\n",
        "print(\"Are the sets disjoint?\", are_disjoint)\n"
      ],
      "metadata": {
        "colab": {
          "base_uri": "https://localhost:8080/"
        },
        "id": "XOvG_0tCCZsq",
        "outputId": "b4df3d0f-5dec-4224-af46-d000becd5f74"
      },
      "execution_count": 63,
      "outputs": [
        {
          "output_type": "stream",
          "name": "stdout",
          "text": [
            "Are the sets disjoint? True\n"
          ]
        }
      ]
    },
    {
      "cell_type": "code",
      "source": [
        "#Create a set of squares of numbers from 1 to 5.\n"
      ],
      "metadata": {
        "id": "K0RBw2gGCgMj"
      },
      "execution_count": 64,
      "outputs": []
    },
    {
      "cell_type": "code",
      "source": [
        "# Create a set of squares of numbers from 1 to 5\n",
        "squares_set = {i**2 for i in range(1, 6)}\n",
        "\n",
        "# Print the result\n",
        "print(\"Set of squares:\", squares_set)\n"
      ],
      "metadata": {
        "colab": {
          "base_uri": "https://localhost:8080/"
        },
        "id": "gtKn_ZmnCkgf",
        "outputId": "f0208f0c-c0b2-4105-ef47-7ff250ff00a0"
      },
      "execution_count": 65,
      "outputs": [
        {
          "output_type": "stream",
          "name": "stdout",
          "text": [
            "Set of squares: {1, 4, 9, 16, 25}\n"
          ]
        }
      ]
    },
    {
      "cell_type": "code",
      "source": [
        "#Filter out all even numbers from a set."
      ],
      "metadata": {
        "id": "HVqBdQu9CozP"
      },
      "execution_count": 66,
      "outputs": []
    },
    {
      "cell_type": "code",
      "source": [
        "# Original set\n",
        "original_set = {1, 2, 3, 4, 5, 6, 7, 8, 9, 10}\n",
        "\n",
        "# Filter out even numbers from the set\n",
        "filtered_set = {x for x in original_set if x % 2 != 0}\n",
        "\n",
        "# Print the result\n",
        "print(\"Filtered Set (without even numbers):\", filtered_set)\n"
      ],
      "metadata": {
        "colab": {
          "base_uri": "https://localhost:8080/"
        },
        "id": "qs9rPB-0CtZp",
        "outputId": "ecc7e85c-0f01-4357-805c-4c249c5e0264"
      },
      "execution_count": 67,
      "outputs": [
        {
          "output_type": "stream",
          "name": "stdout",
          "text": [
            "Filtered Set (without even numbers): {1, 3, 5, 7, 9}\n"
          ]
        }
      ]
    },
    {
      "cell_type": "code",
      "source": [
        "#Multiply all elements in a set by 2."
      ],
      "metadata": {
        "id": "YM3zwBFzC0Z1"
      },
      "execution_count": 68,
      "outputs": []
    },
    {
      "cell_type": "code",
      "source": [
        "# Original set\n",
        "original_set = {1, 2, 3, 4, 5}\n",
        "\n",
        "# Create a new set with elements multiplied by 2\n",
        "multiplied_set = {x * 2 for x in original_set}\n",
        "\n",
        "# Print the result\n",
        "print(\"Original Set:\", original_set)\n",
        "print(\"Multiplied Set:\", multiplied_set)\n"
      ],
      "metadata": {
        "colab": {
          "base_uri": "https://localhost:8080/"
        },
        "id": "OLfGhpZHC5nz",
        "outputId": "d6b65a93-cf20-4f53-fc57-d739f87ed080"
      },
      "execution_count": 69,
      "outputs": [
        {
          "output_type": "stream",
          "name": "stdout",
          "text": [
            "Original Set: {1, 2, 3, 4, 5}\n",
            "Multiplied Set: {2, 4, 6, 8, 10}\n"
          ]
        }
      ]
    },
    {
      "cell_type": "code",
      "source": [
        "#Create a set of random numbers.\n"
      ],
      "metadata": {
        "id": "lK-JYWmcC-4J"
      },
      "execution_count": 70,
      "outputs": []
    },
    {
      "cell_type": "code",
      "source": [
        "import random\n",
        "\n",
        "# Specify the number of random numbers\n",
        "num_random_numbers = 5\n",
        "\n",
        "# Create a set of random integers\n",
        "random_set = {random.randint(1, 100) for _ in range(num_random_numbers)}\n",
        "\n",
        "# Print the result\n",
        "print(\"Random Set:\", random_set)\n"
      ],
      "metadata": {
        "colab": {
          "base_uri": "https://localhost:8080/"
        },
        "id": "7quO2vTBDV5c",
        "outputId": "465bc0a4-52ce-40e2-c4c9-c36a69bf9350"
      },
      "execution_count": 71,
      "outputs": [
        {
          "output_type": "stream",
          "name": "stdout",
          "text": [
            "Random Set: {68, 37, 6, 71, 54}\n"
          ]
        }
      ]
    },
    {
      "cell_type": "code",
      "source": [
        "#Check if a set is empty"
      ],
      "metadata": {
        "id": "36XjZS6TDc1q"
      },
      "execution_count": 72,
      "outputs": []
    },
    {
      "cell_type": "code",
      "source": [
        "# Example set\n",
        "my_set = set()\n",
        "\n",
        "# Check if the set is empty\n",
        "is_empty = not my_set\n",
        "\n",
        "# Print the result\n",
        "print(\"Is the set empty?\", is_empty)\n"
      ],
      "metadata": {
        "colab": {
          "base_uri": "https://localhost:8080/"
        },
        "id": "ch6QN0ALDn9f",
        "outputId": "ef506eba-651f-46a4-dafc-2d047fde3373"
      },
      "execution_count": 73,
      "outputs": [
        {
          "output_type": "stream",
          "name": "stdout",
          "text": [
            "Is the set empty? True\n"
          ]
        }
      ]
    },
    {
      "cell_type": "code",
      "source": [
        "#Create a nested set (hint: use frozenset).\n"
      ],
      "metadata": {
        "id": "H0AhMq1QDtee"
      },
      "execution_count": 74,
      "outputs": []
    },
    {
      "cell_type": "code",
      "source": [
        "# Create nested sets using frozensets\n",
        "nested_set = {frozenset({1, 2, 3}), frozenset({'a', 'b', 'c'})}\n",
        "\n",
        "# Print the result\n",
        "print(\"Nested Set:\", nested_set)\n"
      ],
      "metadata": {
        "colab": {
          "base_uri": "https://localhost:8080/"
        },
        "id": "gPpWYqrMDx2U",
        "outputId": "d6fd45de-6b11-4209-c414-4c1b6c6a425c"
      },
      "execution_count": 75,
      "outputs": [
        {
          "output_type": "stream",
          "name": "stdout",
          "text": [
            "Nested Set: {frozenset({1, 2, 3}), frozenset({'b', 'c', 'a'})}\n"
          ]
        }
      ]
    },
    {
      "cell_type": "code",
      "source": [
        "#Remove an element from a set using the discard method."
      ],
      "metadata": {
        "id": "akZcFR06D3wc"
      },
      "execution_count": 76,
      "outputs": []
    },
    {
      "cell_type": "code",
      "source": [
        "# Original set\n",
        "my_set = {1, 2, 3, 4, 5}\n",
        "\n",
        "# Remove an element from the set using discard()\n",
        "element_to_remove = 3\n",
        "my_set.discard(element_to_remove)\n",
        "\n",
        "# Print the updated set\n",
        "print(\"Updated Set:\", my_set)\n"
      ],
      "metadata": {
        "colab": {
          "base_uri": "https://localhost:8080/"
        },
        "id": "hdBf22fWD7tw",
        "outputId": "7309d15e-743b-4d64-9906-3f8cc4171a0f"
      },
      "execution_count": 77,
      "outputs": [
        {
          "output_type": "stream",
          "name": "stdout",
          "text": [
            "Updated Set: {1, 2, 4, 5}\n"
          ]
        }
      ]
    },
    {
      "cell_type": "code",
      "source": [
        "#Compare two sets.\n"
      ],
      "metadata": {
        "id": "Dfi75ejLEBay"
      },
      "execution_count": 78,
      "outputs": []
    },
    {
      "cell_type": "code",
      "source": [
        "# Two sets\n",
        "set1 = {1, 2, 3, 4, 5}\n",
        "set2 = {1, 2, 3, 4, 5}\n",
        "\n",
        "# Compare sets using the == operator\n",
        "are_equal = set1 == set2\n",
        "\n",
        "# Print the result\n",
        "print(\"Are the sets equal using ==?\", are_equal)\n"
      ],
      "metadata": {
        "colab": {
          "base_uri": "https://localhost:8080/"
        },
        "id": "cFUudAdUEGaO",
        "outputId": "5301274f-0174-422b-cfac-2f2b0644c2a5"
      },
      "execution_count": 79,
      "outputs": [
        {
          "output_type": "stream",
          "name": "stdout",
          "text": [
            "Are the sets equal using ==? True\n"
          ]
        }
      ]
    },
    {
      "cell_type": "code",
      "source": [
        "#Create a set from a string.\n"
      ],
      "metadata": {
        "id": "btdPGz-dEMnF"
      },
      "execution_count": 80,
      "outputs": []
    },
    {
      "cell_type": "code",
      "source": [
        "# Example string\n",
        "my_string = \"hello\"\n",
        "\n",
        "# Create a set from the string\n",
        "my_set = set(my_string)\n",
        "\n",
        "# Print the result\n",
        "print(\"Set from String:\", my_set)\n"
      ],
      "metadata": {
        "colab": {
          "base_uri": "https://localhost:8080/"
        },
        "id": "fGcWU__GERFB",
        "outputId": "ba01fa2c-fcc2-45a4-99da-de7eefac3a1a"
      },
      "execution_count": 81,
      "outputs": [
        {
          "output_type": "stream",
          "name": "stdout",
          "text": [
            "Set from String: {'o', 'h', 'e', 'l'}\n"
          ]
        }
      ]
    },
    {
      "cell_type": "code",
      "source": [
        "#Convert a set of strings to a set of integers"
      ],
      "metadata": {
        "id": "uUccVH2DEWez"
      },
      "execution_count": 82,
      "outputs": []
    },
    {
      "cell_type": "code",
      "source": [
        "# Set of strings\n",
        "set_of_strings = {\"1\", \"2\", \"3\", \"4\", \"5\"}\n",
        "\n",
        "# Convert the set of strings to a set of integers\n",
        "set_of_integers = {int(x) for x in set_of_strings}\n",
        "\n",
        "# Print the result\n",
        "print(\"Set of Integers:\", set_of_integers)\n"
      ],
      "metadata": {
        "colab": {
          "base_uri": "https://localhost:8080/"
        },
        "id": "kxamWlO2EaHZ",
        "outputId": "09d1f7fa-56a3-461c-b581-ba952f3f7109"
      },
      "execution_count": 83,
      "outputs": [
        {
          "output_type": "stream",
          "name": "stdout",
          "text": [
            "Set of Integers: {1, 2, 3, 4, 5}\n"
          ]
        }
      ]
    },
    {
      "cell_type": "code",
      "source": [
        "#Convert a set of integers to a set of strings."
      ],
      "metadata": {
        "id": "GQ4x23rJEgJ8"
      },
      "execution_count": 84,
      "outputs": []
    },
    {
      "cell_type": "code",
      "source": [
        "# Set of integers\n",
        "set_of_integers = {1, 2, 3, 4, 5}\n",
        "\n",
        "# Convert the set of integers to a set of strings\n",
        "set_of_strings = {str(x) for x in set_of_integers}\n",
        "\n",
        "# Print the result\n",
        "print(\"Set of Strings:\", set_of_strings)\n"
      ],
      "metadata": {
        "colab": {
          "base_uri": "https://localhost:8080/"
        },
        "id": "NOTwoGKmEj-a",
        "outputId": "7d7149dc-5bba-4536-fffa-b81f25da7966"
      },
      "execution_count": 85,
      "outputs": [
        {
          "output_type": "stream",
          "name": "stdout",
          "text": [
            "Set of Strings: {'4', '5', '3', '2', '1'}\n"
          ]
        }
      ]
    },
    {
      "cell_type": "code",
      "source": [
        "#Create a set from a tuple.\n"
      ],
      "metadata": {
        "id": "cvqoGREXEqI5"
      },
      "execution_count": 86,
      "outputs": []
    },
    {
      "cell_type": "code",
      "source": [
        "# Example tuple\n",
        "my_tuple = (1, 2, 3, 4, 5)\n",
        "\n",
        "# Create a set from the tuple\n",
        "my_set = set(my_tuple)\n",
        "\n",
        "# Print the result\n",
        "print(\"Set from Tuple:\", my_set)\n"
      ],
      "metadata": {
        "colab": {
          "base_uri": "https://localhost:8080/"
        },
        "id": "E5DZJMqCE2SW",
        "outputId": "be14d35e-282d-44b0-ed29-d6bf96868d01"
      },
      "execution_count": 87,
      "outputs": [
        {
          "output_type": "stream",
          "name": "stdout",
          "text": [
            "Set from Tuple: {1, 2, 3, 4, 5}\n"
          ]
        }
      ]
    },
    {
      "cell_type": "code",
      "source": [
        "#Convert a set to a tuple.\n"
      ],
      "metadata": {
        "id": "NXlLojTVE691"
      },
      "execution_count": 88,
      "outputs": []
    },
    {
      "cell_type": "code",
      "source": [
        "# Example set\n",
        "my_set = {1, 2, 3, 4, 5}\n",
        "\n",
        "# Convert the set to a tuple\n",
        "my_tuple = tuple(my_set)\n",
        "\n",
        "# Print the result\n",
        "print(\"Tuple from Set:\", my_tuple)\n"
      ],
      "metadata": {
        "colab": {
          "base_uri": "https://localhost:8080/"
        },
        "id": "EvvCE8kqFNh4",
        "outputId": "1a9680f5-7a9d-4ae9-e2f7-5673e30baa7b"
      },
      "execution_count": 89,
      "outputs": [
        {
          "output_type": "stream",
          "name": "stdout",
          "text": [
            "Tuple from Set: (1, 2, 3, 4, 5)\n"
          ]
        }
      ]
    },
    {
      "cell_type": "code",
      "source": [
        "#Find the maximum value in a set"
      ],
      "metadata": {
        "id": "paGU9iMxFSx-"
      },
      "execution_count": 90,
      "outputs": []
    },
    {
      "cell_type": "code",
      "source": [
        "# Example set\n",
        "my_set = {1, 4, 2, 8, 5}\n",
        "\n",
        "# Find the maximum value in the set\n",
        "max_value = max(my_set)\n",
        "\n",
        "# Print the result\n",
        "print(\"Maximum value in the set:\", max_value)\n"
      ],
      "metadata": {
        "colab": {
          "base_uri": "https://localhost:8080/"
        },
        "id": "ZaRT-l2bFYPt",
        "outputId": "85288463-5dc1-43a2-c6e6-db89dc8560b4"
      },
      "execution_count": 91,
      "outputs": [
        {
          "output_type": "stream",
          "name": "stdout",
          "text": [
            "Maximum value in the set: 8\n"
          ]
        }
      ]
    },
    {
      "cell_type": "code",
      "source": [
        "# Find the minimum value in a set."
      ],
      "metadata": {
        "id": "8HzQdY06Fe5t"
      },
      "execution_count": 92,
      "outputs": []
    },
    {
      "cell_type": "code",
      "source": [
        "# Example set\n",
        "my_set = {1, 4, 2, 8, 5}\n",
        "\n",
        "# Find the minimum value in the set\n",
        "min_value = min(my_set)\n",
        "\n",
        "# Print the result\n",
        "print(\"Minimum value in the set:\", min_value)\n"
      ],
      "metadata": {
        "colab": {
          "base_uri": "https://localhost:8080/"
        },
        "id": "rtF7ldRlFi65",
        "outputId": "0f03d9de-7686-4174-a320-8af36d35ccd3"
      },
      "execution_count": 93,
      "outputs": [
        {
          "output_type": "stream",
          "name": "stdout",
          "text": [
            "Minimum value in the set: 1\n"
          ]
        }
      ]
    },
    {
      "cell_type": "code",
      "source": [
        "#Create a set from user input.\n"
      ],
      "metadata": {
        "id": "w6zxgvdWFpiW"
      },
      "execution_count": 94,
      "outputs": []
    },
    {
      "cell_type": "code",
      "source": [
        "# Get user input as a comma-separated string\n",
        "user_input_string = input(\"Enter elements separated by commas: \")\n",
        "\n",
        "# Split the input string into a list of strings\n",
        "input_elements = user_input_string.split(',')\n",
        "\n",
        "# Convert the list of strings to a set of integers\n",
        "user_set = set(map(int, input_elements))\n",
        "\n",
        "# Print the result\n",
        "print(\"Set from user input:\", user_set)\n"
      ],
      "metadata": {
        "colab": {
          "base_uri": "https://localhost:8080/"
        },
        "id": "-S13aCooFvdg",
        "outputId": "ea3b6c68-90e2-4807-fb69-0bd5620d058b"
      },
      "execution_count": 97,
      "outputs": [
        {
          "output_type": "stream",
          "name": "stdout",
          "text": [
            "Enter elements separated by commas: 10,6,2\n",
            "Set from user input: {10, 2, 6}\n"
          ]
        }
      ]
    },
    {
      "cell_type": "code",
      "source": [
        "#Check if the intersection of two sets is empty.\n"
      ],
      "metadata": {
        "id": "iJQGwKxmF0qr"
      },
      "execution_count": 98,
      "outputs": []
    },
    {
      "cell_type": "code",
      "source": [
        "# Two sets\n",
        "set1 = {1, 2, 3, 4, 5}\n",
        "set2 = {6, 7, 8, 9, 10}\n",
        "\n",
        "# Check if the intersection is empty using isdisjoint()\n",
        "intersection_empty = set1.isdisjoint(set2)\n",
        "\n",
        "# Print the result\n",
        "print(\"Is the intersection empty using isdisjoint()?\", intersection_empty)\n"
      ],
      "metadata": {
        "colab": {
          "base_uri": "https://localhost:8080/"
        },
        "id": "8m-dVoVmGjTV",
        "outputId": "8747ff49-7ae4-4138-88f3-a11938ad0a6f"
      },
      "execution_count": 99,
      "outputs": [
        {
          "output_type": "stream",
          "name": "stdout",
          "text": [
            "Is the intersection empty using isdisjoint()? True\n"
          ]
        }
      ]
    },
    {
      "cell_type": "code",
      "source": [
        "#Create a set of the first 5 Fibonacci numbers."
      ],
      "metadata": {
        "id": "jekVHbDkGo56"
      },
      "execution_count": 100,
      "outputs": []
    },
    {
      "cell_type": "code",
      "source": [
        "# Function to generate the first n Fibonacci numbers\n",
        "def generate_fibonacci(n):\n",
        "    fibonacci_set = set()\n",
        "    a, b = 0, 1\n",
        "    for _ in range(n):\n",
        "        fibonacci_set.add(a)\n",
        "        a, b = b, a + b\n",
        "    return fibonacci_set\n",
        "\n",
        "# Specify the number of Fibonacci numbers you want\n",
        "num_fibonacci = 5\n",
        "\n",
        "# Create a set of the first 5 Fibonacci numbers using the function\n",
        "fibonacci_set = generate_fibonacci(num_fibonacci)\n",
        "\n",
        "# Print the result\n",
        "print(f\"Set of the first {num_fibonacci} Fibonacci numbers:\", fibonacci_set)\n",
        "\n"
      ],
      "metadata": {
        "colab": {
          "base_uri": "https://localhost:8080/"
        },
        "id": "eM_h9EiFGswa",
        "outputId": "0d5031e5-bdbd-42f5-9b85-f35a10eef7c0"
      },
      "execution_count": 102,
      "outputs": [
        {
          "output_type": "stream",
          "name": "stdout",
          "text": [
            "Set of the first 5 Fibonacci numbers: {0, 1, 2, 3}\n"
          ]
        }
      ]
    },
    {
      "cell_type": "code",
      "source": [
        "# Remove duplicates from a list using sets"
      ],
      "metadata": {
        "id": "rrEhv8kcGxkB"
      },
      "execution_count": 103,
      "outputs": []
    },
    {
      "cell_type": "code",
      "source": [
        "# Example list with duplicates\n",
        "my_list = [1, 2, 2, 3, 4, 4, 5]\n",
        "\n",
        "# Remove duplicates using sets\n",
        "unique_list = list(set(my_list))\n",
        "\n",
        "# Print the result\n",
        "print(\"Original List:\", my_list)\n",
        "print(\"List with Duplicates Removed:\", unique_list)\n"
      ],
      "metadata": {
        "colab": {
          "base_uri": "https://localhost:8080/"
        },
        "id": "nrlx4Yy6G7av",
        "outputId": "335e71dc-9186-4ec3-b9b9-7da044a426c5"
      },
      "execution_count": 104,
      "outputs": [
        {
          "output_type": "stream",
          "name": "stdout",
          "text": [
            "Original List: [1, 2, 2, 3, 4, 4, 5]\n",
            "List with Duplicates Removed: [1, 2, 3, 4, 5]\n"
          ]
        }
      ]
    },
    {
      "cell_type": "code",
      "source": [
        "#Check if two sets have the same elements, regardless of their count."
      ],
      "metadata": {
        "id": "F7SO2CbIHBFI"
      },
      "execution_count": 105,
      "outputs": []
    },
    {
      "cell_type": "code",
      "source": [
        "# Two sets with the same elements, regardless of count\n",
        "set1 = {1, 2, 3, 4, 5}\n",
        "set2 = {5, 4, 3, 2, 1}\n",
        "\n",
        "# Check if the sets have the same elements, regardless of count, using ==\n",
        "have_same_elements = set1 == set2\n",
        "\n",
        "# Print the result\n",
        "print(\"Do the sets have the same elements, regardless of count?\", have_same_elements)"
      ],
      "metadata": {
        "colab": {
          "base_uri": "https://localhost:8080/"
        },
        "id": "ng5su97yHFFL",
        "outputId": "660ee066-90ef-427b-a8f4-9292e33d8085"
      },
      "execution_count": 106,
      "outputs": [
        {
          "output_type": "stream",
          "name": "stdout",
          "text": [
            "Do the sets have the same elements, regardless of count? True\n"
          ]
        }
      ]
    },
    {
      "cell_type": "code",
      "source": [
        "#Create a set of the first `n` powers of 2."
      ],
      "metadata": {
        "id": "kn6I5TL_HLUu"
      },
      "execution_count": 107,
      "outputs": []
    },
    {
      "cell_type": "code",
      "source": [
        "# Specify the number of powers of 2 you want\n",
        "n = 5\n",
        "\n",
        "# Create a set of the first n powers of 2 using a set comprehension\n",
        "powers_of_2_set = {2 ** i for i in range(n)}\n",
        "\n",
        "# Print the result\n",
        "print(f\"Set of the first {n} powers of 2:\", powers_of_2_set)\n",
        "\n"
      ],
      "metadata": {
        "colab": {
          "base_uri": "https://localhost:8080/"
        },
        "id": "3l8A6Mz4HRFZ",
        "outputId": "0c234d99-1897-45ea-d855-88d4a1f340f8"
      },
      "execution_count": 109,
      "outputs": [
        {
          "output_type": "stream",
          "name": "stdout",
          "text": [
            "Set of the first 5 powers of 2: {1, 2, 4, 8, 16}\n"
          ]
        }
      ]
    },
    {
      "cell_type": "code",
      "source": [
        "# Find the common elements between a set and a list."
      ],
      "metadata": {
        "id": "aDZf47YHHVs6"
      },
      "execution_count": 110,
      "outputs": []
    },
    {
      "cell_type": "code",
      "source": [
        "# Example set and list\n",
        "my_set = {1, 2, 3, 4, 5}\n",
        "my_list = [3, 4, 5, 6, 7]\n",
        "\n",
        "# Find the common elements using intersection()\n",
        "common_elements = my_set.intersection(my_list)\n",
        "\n",
        "# Convert the result to a list if needed\n",
        "common_elements_list = list(common_elements)\n",
        "\n",
        "# Print the result\n",
        "print(\"Common Elements:\", common_elements_list)\n"
      ],
      "metadata": {
        "colab": {
          "base_uri": "https://localhost:8080/"
        },
        "id": "79ADTDK6Hdr_",
        "outputId": "14ec752f-f9ce-42c8-fd5c-1b1b4c89301c"
      },
      "execution_count": 111,
      "outputs": [
        {
          "output_type": "stream",
          "name": "stdout",
          "text": [
            "Common Elements: [3, 4, 5]\n"
          ]
        }
      ]
    },
    {
      "cell_type": "code",
      "source": [
        "#Create a set of the first `n` triangular numbers"
      ],
      "metadata": {
        "id": "bF20E-L8Hi2Z"
      },
      "execution_count": 112,
      "outputs": []
    },
    {
      "cell_type": "code",
      "source": [
        "# Specify the number of triangular numbers you want\n",
        "n = 5\n",
        "\n",
        "# Create a set of the first n triangular numbers using a set comprehension\n",
        "triangular_numbers_set = {i * (i + 1) // 2 for i in range(1, n + 1)}\n",
        "\n",
        "# Print the result\n",
        "print(f\"Set of the first {n} triangular numbers:\", triangular_numbers_set)\n"
      ],
      "metadata": {
        "colab": {
          "base_uri": "https://localhost:8080/"
        },
        "id": "FB1VFsJJHmdd",
        "outputId": "e2237fcc-dbd3-4e61-f74a-ebb8b68eabbb"
      },
      "execution_count": 113,
      "outputs": [
        {
          "output_type": "stream",
          "name": "stdout",
          "text": [
            "Set of the first 5 triangular numbers: {1, 3, 6, 10, 15}\n"
          ]
        }
      ]
    },
    {
      "cell_type": "code",
      "source": [
        "#Check if a set contains another set as a subset.\n"
      ],
      "metadata": {
        "id": "-UUhWM_jHvZy"
      },
      "execution_count": 114,
      "outputs": []
    },
    {
      "cell_type": "code",
      "source": [
        "# Two sets\n",
        "set1 = {1, 2, 3, 4, 5}\n",
        "set2 = {2, 3}\n",
        "\n",
        "# Check if set2 is a subset of set1 using issubset()\n",
        "is_subset = set2.issubset(set1)\n",
        "\n",
        "# Print the result\n",
        "print(\"Is set2 a subset of set1 using issubset()?\", is_subset)\n"
      ],
      "metadata": {
        "colab": {
          "base_uri": "https://localhost:8080/"
        },
        "id": "J6E0API_Hzla",
        "outputId": "1c9cefef-5338-4292-c4ca-48207cdb0e04"
      },
      "execution_count": 115,
      "outputs": [
        {
          "output_type": "stream",
          "name": "stdout",
          "text": [
            "Is set2 a subset of set1 using issubset()? True\n"
          ]
        }
      ]
    },
    {
      "cell_type": "code",
      "source": [
        "#Create a set of alternating 1s and 0s of length `n`."
      ],
      "metadata": {
        "id": "msyFs5XPH8g-"
      },
      "execution_count": 116,
      "outputs": []
    },
    {
      "cell_type": "code",
      "source": [
        "# Specify the length of the set\n",
        "n = 5\n",
        "\n",
        "# Create a set of alternating 1s and 0s using a set comprehension\n",
        "alternating_set = {1 if i % 2 == 0 else 0 for i in range(n)}\n",
        "\n",
        "# Print the result\n",
        "print(f\"Set of alternating 1s and 0s of length {n}:\", alternating_set)\n"
      ],
      "metadata": {
        "colab": {
          "base_uri": "https://localhost:8080/"
        },
        "id": "LJqOTmW4IAF5",
        "outputId": "5bc8f7ff-5a96-4c30-83a1-4c1a2596c08a"
      },
      "execution_count": 117,
      "outputs": [
        {
          "output_type": "stream",
          "name": "stdout",
          "text": [
            "Set of alternating 1s and 0s of length 5: {0, 1}\n"
          ]
        }
      ]
    },
    {
      "cell_type": "code",
      "source": [
        "#Merge multiple sets into one."
      ],
      "metadata": {
        "id": "SQ6_6R6PIGXX"
      },
      "execution_count": 118,
      "outputs": []
    },
    {
      "cell_type": "code",
      "source": [
        "# Multiple sets\n",
        "set1 = {1, 2, 3}\n",
        "set2 = {3, 4, 5}\n",
        "set3 = {5, 6, 7}\n",
        "\n",
        "# Merge sets using union()\n",
        "merged_set = set1.union(set2, set3)\n",
        "\n",
        "# Print the result\n",
        "print(\"Merged Set using union():\", merged_set)\n",
        "\n"
      ],
      "metadata": {
        "colab": {
          "base_uri": "https://localhost:8080/"
        },
        "id": "dzfgXiwxIK4S",
        "outputId": "3fb57fb6-0681-4ef4-85b9-73f2000bdfc6"
      },
      "execution_count": 120,
      "outputs": [
        {
          "output_type": "stream",
          "name": "stdout",
          "text": [
            "Merged Set using union(): {1, 2, 3, 4, 5, 6, 7}\n"
          ]
        }
      ]
    }
  ]
}